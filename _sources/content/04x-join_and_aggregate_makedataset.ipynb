{
 "cells": [
  {
   "cell_type": "markdown",
   "metadata": {},
   "source": [
    "# 5. Python Data Wrangling II\n",
    "\n",
    "_Frederic Hopp and Penny Sheets_\n",
    "\n",
    "This notebook outlines the retrieval and preprocessing steps we did to construct\n",
    "the files for our examples. Thus, this notebook contains the steps\n",
    "\n",
    "- (1) Retrieval\n",
    "- (2) Preprocessing,\n",
    "\n",
    "while the other notebook contains the steps\n",
    "\n",
    "- (3) Enrichment\n",
    "- (4) Analysis\n",
    "\n",
    "## EXTRA: How did we prepare the dataset?\n"
   ]
  },
  {
   "cell_type": "markdown",
   "metadata": {},
   "source": [
    "### Population data\n",
    "\n",
    "Go to\n",
    "https://opendata.cbs.nl/statline/portal.html?_la=en&_catalog=CBS&tableId=37259eng&_theme=1066\n",
    "\n",
    "Select the following options:\n",
    "\n",
    "- Topics: Net migration _and_ live born children (2/20)\n",
    "- Sex: only total (1/3)\n",
    "- Regions: all provinces (12/1237)\n",
    "\n",
    "This should give you 984 rows and result in the file\n",
    "\n",
    "`37259eng_UntypedDataSet_06112024_174233.csv`\n",
    "\n",
    "Also download the metadata for later reference.\n",
    "\n",
    "### Economic data\n",
    "\n",
    "Go to\n",
    "https://opendata.cbs.nl/statline/portal.html?_la=en&_catalog=CBS&tableId=82800ENG&_theme=1064\n",
    "\n",
    "Select the following options:\n",
    "\n",
    "- Topics: GDP (volume change) (1/2)\n",
    "- Economic sectors: A-U all economic activities (1/15)\n",
    "- Regions: all provinces (12/77)\n",
    "\n",
    "This should give you 264 rows and result in the file\n",
    "\n",
    "`82800ENG_UntypedDataSet_06112024_174453.csv`\n",
    "\n",
    "Also download the metadata for later reference.\n"
   ]
  },
  {
   "cell_type": "markdown",
   "metadata": {},
   "source": [
    "## Preprocessing the data\n",
    "\n",
    "### Population data\n"
   ]
  },
  {
   "cell_type": "code",
   "execution_count": 1,
   "metadata": {},
   "outputs": [],
   "source": [
    "import pandas as pd\n",
    "%matplotlib inline"
   ]
  },
  {
   "cell_type": "code",
   "execution_count": 2,
   "metadata": {},
   "outputs": [],
   "source": [
    "population = pd.read_csv('37259eng_UntypedDataSet_06112024_174233.csv', delimiter=';')"
   ]
  },
  {
   "cell_type": "code",
   "execution_count": 3,
   "metadata": {},
   "outputs": [
    {
     "data": {
      "text/html": [
       "<div>\n",
       "<style scoped>\n",
       "    .dataframe tbody tr th:only-of-type {\n",
       "        vertical-align: middle;\n",
       "    }\n",
       "\n",
       "    .dataframe tbody tr th {\n",
       "        vertical-align: top;\n",
       "    }\n",
       "\n",
       "    .dataframe thead th {\n",
       "        text-align: right;\n",
       "    }\n",
       "</style>\n",
       "<table border=\"1\" class=\"dataframe\">\n",
       "  <thead>\n",
       "    <tr style=\"text-align: right;\">\n",
       "      <th></th>\n",
       "      <th>ID</th>\n",
       "      <th>Sex</th>\n",
       "      <th>Regions</th>\n",
       "      <th>Periods</th>\n",
       "      <th>LiveBornChildren_3</th>\n",
       "      <th>NetMigrationIncludingAdministrative_17</th>\n",
       "    </tr>\n",
       "  </thead>\n",
       "  <tbody>\n",
       "    <tr>\n",
       "      <th>0</th>\n",
       "      <td>410</td>\n",
       "      <td>T001038</td>\n",
       "      <td>PV20</td>\n",
       "      <td>1942JJ00</td>\n",
       "      <td>8564.0</td>\n",
       "      <td>-2106.0</td>\n",
       "    </tr>\n",
       "    <tr>\n",
       "      <th>1</th>\n",
       "      <td>411</td>\n",
       "      <td>T001038</td>\n",
       "      <td>PV20</td>\n",
       "      <td>1943JJ00</td>\n",
       "      <td>9589.0</td>\n",
       "      <td>-1201.0</td>\n",
       "    </tr>\n",
       "    <tr>\n",
       "      <th>2</th>\n",
       "      <td>412</td>\n",
       "      <td>T001038</td>\n",
       "      <td>PV20</td>\n",
       "      <td>1944JJ00</td>\n",
       "      <td>9802.0</td>\n",
       "      <td>-931.0</td>\n",
       "    </tr>\n",
       "    <tr>\n",
       "      <th>3</th>\n",
       "      <td>413</td>\n",
       "      <td>T001038</td>\n",
       "      <td>PV20</td>\n",
       "      <td>1945JJ00</td>\n",
       "      <td>9872.0</td>\n",
       "      <td>-2559.0</td>\n",
       "    </tr>\n",
       "    <tr>\n",
       "      <th>4</th>\n",
       "      <td>414</td>\n",
       "      <td>T001038</td>\n",
       "      <td>PV20</td>\n",
       "      <td>1946JJ00</td>\n",
       "      <td>12790.0</td>\n",
       "      <td>-3851.0</td>\n",
       "    </tr>\n",
       "  </tbody>\n",
       "</table>\n",
       "</div>"
      ],
      "text/plain": [
       "    ID      Sex Regions   Periods  LiveBornChildren_3  \\\n",
       "0  410  T001038  PV20    1942JJ00              8564.0   \n",
       "1  411  T001038  PV20    1943JJ00              9589.0   \n",
       "2  412  T001038  PV20    1944JJ00              9802.0   \n",
       "3  413  T001038  PV20    1945JJ00              9872.0   \n",
       "4  414  T001038  PV20    1946JJ00             12790.0   \n",
       "\n",
       "   NetMigrationIncludingAdministrative_17  \n",
       "0                                 -2106.0  \n",
       "1                                 -1201.0  \n",
       "2                                  -931.0  \n",
       "3                                 -2559.0  \n",
       "4                                 -3851.0  "
      ]
     },
     "execution_count": 3,
     "metadata": {},
     "output_type": "execute_result"
    }
   ],
   "source": [
    "population.head()"
   ]
  },
  {
   "cell_type": "markdown",
   "metadata": {},
   "source": [
    "We first remove all columns that are not necessary.\n"
   ]
  },
  {
   "cell_type": "code",
   "execution_count": 4,
   "metadata": {},
   "outputs": [
    {
     "data": {
      "text/plain": [
       "Sex\n",
       "T001038    984\n",
       "Name: count, dtype: int64"
      ]
     },
     "execution_count": 4,
     "metadata": {},
     "output_type": "execute_result"
    }
   ],
   "source": [
    "population['Sex'].value_counts()"
   ]
  },
  {
   "cell_type": "code",
   "execution_count": 5,
   "metadata": {},
   "outputs": [],
   "source": [
    "population.drop(['Sex','ID'], axis = 1, inplace = True)"
   ]
  },
  {
   "cell_type": "code",
   "execution_count": 6,
   "metadata": {},
   "outputs": [
    {
     "data": {
      "text/html": [
       "<div>\n",
       "<style scoped>\n",
       "    .dataframe tbody tr th:only-of-type {\n",
       "        vertical-align: middle;\n",
       "    }\n",
       "\n",
       "    .dataframe tbody tr th {\n",
       "        vertical-align: top;\n",
       "    }\n",
       "\n",
       "    .dataframe thead th {\n",
       "        text-align: right;\n",
       "    }\n",
       "</style>\n",
       "<table border=\"1\" class=\"dataframe\">\n",
       "  <thead>\n",
       "    <tr style=\"text-align: right;\">\n",
       "      <th></th>\n",
       "      <th>Regions</th>\n",
       "      <th>Periods</th>\n",
       "      <th>LiveBornChildren_3</th>\n",
       "      <th>NetMigrationIncludingAdministrative_17</th>\n",
       "    </tr>\n",
       "  </thead>\n",
       "  <tbody>\n",
       "    <tr>\n",
       "      <th>0</th>\n",
       "      <td>PV20</td>\n",
       "      <td>1942JJ00</td>\n",
       "      <td>8564.0</td>\n",
       "      <td>-2106.0</td>\n",
       "    </tr>\n",
       "    <tr>\n",
       "      <th>1</th>\n",
       "      <td>PV20</td>\n",
       "      <td>1943JJ00</td>\n",
       "      <td>9589.0</td>\n",
       "      <td>-1201.0</td>\n",
       "    </tr>\n",
       "    <tr>\n",
       "      <th>2</th>\n",
       "      <td>PV20</td>\n",
       "      <td>1944JJ00</td>\n",
       "      <td>9802.0</td>\n",
       "      <td>-931.0</td>\n",
       "    </tr>\n",
       "    <tr>\n",
       "      <th>3</th>\n",
       "      <td>PV20</td>\n",
       "      <td>1945JJ00</td>\n",
       "      <td>9872.0</td>\n",
       "      <td>-2559.0</td>\n",
       "    </tr>\n",
       "    <tr>\n",
       "      <th>4</th>\n",
       "      <td>PV20</td>\n",
       "      <td>1946JJ00</td>\n",
       "      <td>12790.0</td>\n",
       "      <td>-3851.0</td>\n",
       "    </tr>\n",
       "    <tr>\n",
       "      <th>...</th>\n",
       "      <td>...</td>\n",
       "      <td>...</td>\n",
       "      <td>...</td>\n",
       "      <td>...</td>\n",
       "    </tr>\n",
       "    <tr>\n",
       "      <th>979</th>\n",
       "      <td>PV31</td>\n",
       "      <td>2019JJ00</td>\n",
       "      <td>8668.0</td>\n",
       "      <td>4450.0</td>\n",
       "    </tr>\n",
       "    <tr>\n",
       "      <th>980</th>\n",
       "      <td>PV31</td>\n",
       "      <td>2020JJ00</td>\n",
       "      <td>8652.0</td>\n",
       "      <td>3691.0</td>\n",
       "    </tr>\n",
       "    <tr>\n",
       "      <th>981</th>\n",
       "      <td>PV31</td>\n",
       "      <td>2021JJ00</td>\n",
       "      <td>9435.0</td>\n",
       "      <td>6985.0</td>\n",
       "    </tr>\n",
       "    <tr>\n",
       "      <th>982</th>\n",
       "      <td>PV31</td>\n",
       "      <td>2022JJ00</td>\n",
       "      <td>8923.0</td>\n",
       "      <td>14195.0</td>\n",
       "    </tr>\n",
       "    <tr>\n",
       "      <th>983</th>\n",
       "      <td>PV31</td>\n",
       "      <td>2023JJ00</td>\n",
       "      <td>8781.0</td>\n",
       "      <td>9375.0</td>\n",
       "    </tr>\n",
       "  </tbody>\n",
       "</table>\n",
       "<p>984 rows × 4 columns</p>\n",
       "</div>"
      ],
      "text/plain": [
       "    Regions   Periods  LiveBornChildren_3  \\\n",
       "0    PV20    1942JJ00              8564.0   \n",
       "1    PV20    1943JJ00              9589.0   \n",
       "2    PV20    1944JJ00              9802.0   \n",
       "3    PV20    1945JJ00              9872.0   \n",
       "4    PV20    1946JJ00             12790.0   \n",
       "..      ...       ...                 ...   \n",
       "979  PV31    2019JJ00              8668.0   \n",
       "980  PV31    2020JJ00              8652.0   \n",
       "981  PV31    2021JJ00              9435.0   \n",
       "982  PV31    2022JJ00              8923.0   \n",
       "983  PV31    2023JJ00              8781.0   \n",
       "\n",
       "     NetMigrationIncludingAdministrative_17  \n",
       "0                                   -2106.0  \n",
       "1                                   -1201.0  \n",
       "2                                    -931.0  \n",
       "3                                   -2559.0  \n",
       "4                                   -3851.0  \n",
       "..                                      ...  \n",
       "979                                  4450.0  \n",
       "980                                  3691.0  \n",
       "981                                  6985.0  \n",
       "982                                 14195.0  \n",
       "983                                  9375.0  \n",
       "\n",
       "[984 rows x 4 columns]"
      ]
     },
     "execution_count": 6,
     "metadata": {},
     "output_type": "execute_result"
    }
   ],
   "source": [
    "population"
   ]
  },
  {
   "cell_type": "markdown",
   "metadata": {},
   "source": [
    "The values of the column Regions contain weird spaces at the end:\n"
   ]
  },
  {
   "cell_type": "code",
   "execution_count": 7,
   "metadata": {},
   "outputs": [
    {
     "data": {
      "text/plain": [
       "'PV20  '"
      ]
     },
     "execution_count": 7,
     "metadata": {},
     "output_type": "execute_result"
    }
   ],
   "source": [
    "population.iloc[0,0]"
   ]
  },
  {
   "cell_type": "markdown",
   "metadata": {},
   "source": [
    "We are going to remove them:\n"
   ]
  },
  {
   "cell_type": "code",
   "execution_count": 8,
   "metadata": {},
   "outputs": [],
   "source": [
    "population['Regions'] = population['Regions'].map(lambda x: x.strip())"
   ]
  },
  {
   "cell_type": "markdown",
   "metadata": {},
   "source": [
    "By having a look at the metadata (using CTRL-F for looking for PV20), we can\n",
    "find out what the province codes actually mean. Let's recode that by using a\n",
    "dict to map the keys to more meaningful values.\n"
   ]
  },
  {
   "cell_type": "code",
   "execution_count": 9,
   "metadata": {},
   "outputs": [],
   "source": [
    "provinces = {\"PV20\":\"Groningen\",\n",
    "\"PV21\":\"Friesland\",\n",
    "\"PV22\":\"Drenthe\",\n",
    "\"PV23\":\"Overijssel\",\n",
    "\"PV24\":\"Flevoland\",\n",
    "\"PV25\":\"Gelderland\",\n",
    "\"PV26\":\"Utrecht\",\n",
    "\"PV27\":\"Noord-Holland\",\n",
    "\"PV28\":\"Zuid-Holland\",\n",
    "\"PV29\":\"Zeeland\",\n",
    "\"PV30\":\"Noord-Brabant\",\n",
    "\"PV31\":\"Limburg\"}"
   ]
  },
  {
   "cell_type": "code",
   "execution_count": 10,
   "metadata": {},
   "outputs": [],
   "source": [
    "population['Regions'] = population['Regions'].map(provinces)"
   ]
  },
  {
   "cell_type": "code",
   "execution_count": 11,
   "metadata": {},
   "outputs": [
    {
     "data": {
      "text/html": [
       "<div>\n",
       "<style scoped>\n",
       "    .dataframe tbody tr th:only-of-type {\n",
       "        vertical-align: middle;\n",
       "    }\n",
       "\n",
       "    .dataframe tbody tr th {\n",
       "        vertical-align: top;\n",
       "    }\n",
       "\n",
       "    .dataframe thead th {\n",
       "        text-align: right;\n",
       "    }\n",
       "</style>\n",
       "<table border=\"1\" class=\"dataframe\">\n",
       "  <thead>\n",
       "    <tr style=\"text-align: right;\">\n",
       "      <th></th>\n",
       "      <th>Regions</th>\n",
       "      <th>Periods</th>\n",
       "      <th>LiveBornChildren_3</th>\n",
       "      <th>NetMigrationIncludingAdministrative_17</th>\n",
       "    </tr>\n",
       "  </thead>\n",
       "  <tbody>\n",
       "    <tr>\n",
       "      <th>0</th>\n",
       "      <td>Groningen</td>\n",
       "      <td>1942JJ00</td>\n",
       "      <td>8564.0</td>\n",
       "      <td>-2106.0</td>\n",
       "    </tr>\n",
       "    <tr>\n",
       "      <th>1</th>\n",
       "      <td>Groningen</td>\n",
       "      <td>1943JJ00</td>\n",
       "      <td>9589.0</td>\n",
       "      <td>-1201.0</td>\n",
       "    </tr>\n",
       "    <tr>\n",
       "      <th>2</th>\n",
       "      <td>Groningen</td>\n",
       "      <td>1944JJ00</td>\n",
       "      <td>9802.0</td>\n",
       "      <td>-931.0</td>\n",
       "    </tr>\n",
       "    <tr>\n",
       "      <th>3</th>\n",
       "      <td>Groningen</td>\n",
       "      <td>1945JJ00</td>\n",
       "      <td>9872.0</td>\n",
       "      <td>-2559.0</td>\n",
       "    </tr>\n",
       "    <tr>\n",
       "      <th>4</th>\n",
       "      <td>Groningen</td>\n",
       "      <td>1946JJ00</td>\n",
       "      <td>12790.0</td>\n",
       "      <td>-3851.0</td>\n",
       "    </tr>\n",
       "  </tbody>\n",
       "</table>\n",
       "</div>"
      ],
      "text/plain": [
       "     Regions   Periods  LiveBornChildren_3  \\\n",
       "0  Groningen  1942JJ00              8564.0   \n",
       "1  Groningen  1943JJ00              9589.0   \n",
       "2  Groningen  1944JJ00              9802.0   \n",
       "3  Groningen  1945JJ00              9872.0   \n",
       "4  Groningen  1946JJ00             12790.0   \n",
       "\n",
       "   NetMigrationIncludingAdministrative_17  \n",
       "0                                 -2106.0  \n",
       "1                                 -1201.0  \n",
       "2                                  -931.0  \n",
       "3                                 -2559.0  \n",
       "4                                 -3851.0  "
      ]
     },
     "execution_count": 11,
     "metadata": {},
     "output_type": "execute_result"
    }
   ],
   "source": [
    "population.head()"
   ]
  },
  {
   "cell_type": "markdown",
   "metadata": {},
   "source": [
    "Let's also represent the Period in a better way. It's a string now, and only the\n",
    "first four digits are meaningful. Let's convert these to an integer.\n",
    "Alternatively, we could opt to convert it to a date (a so-called datetime\n",
    "object).\n"
   ]
  },
  {
   "cell_type": "code",
   "execution_count": 12,
   "metadata": {},
   "outputs": [],
   "source": [
    "population['Periods'] = population['Periods'].map(lambda x: int(x[:4]))"
   ]
  },
  {
   "cell_type": "code",
   "execution_count": 13,
   "metadata": {},
   "outputs": [
    {
     "data": {
      "text/html": [
       "<div>\n",
       "<style scoped>\n",
       "    .dataframe tbody tr th:only-of-type {\n",
       "        vertical-align: middle;\n",
       "    }\n",
       "\n",
       "    .dataframe tbody tr th {\n",
       "        vertical-align: top;\n",
       "    }\n",
       "\n",
       "    .dataframe thead th {\n",
       "        text-align: right;\n",
       "    }\n",
       "</style>\n",
       "<table border=\"1\" class=\"dataframe\">\n",
       "  <thead>\n",
       "    <tr style=\"text-align: right;\">\n",
       "      <th></th>\n",
       "      <th>Regions</th>\n",
       "      <th>Periods</th>\n",
       "      <th>LiveBornChildren_3</th>\n",
       "      <th>NetMigrationIncludingAdministrative_17</th>\n",
       "    </tr>\n",
       "  </thead>\n",
       "  <tbody>\n",
       "    <tr>\n",
       "      <th>0</th>\n",
       "      <td>Groningen</td>\n",
       "      <td>1942</td>\n",
       "      <td>8564.0</td>\n",
       "      <td>-2106.0</td>\n",
       "    </tr>\n",
       "    <tr>\n",
       "      <th>1</th>\n",
       "      <td>Groningen</td>\n",
       "      <td>1943</td>\n",
       "      <td>9589.0</td>\n",
       "      <td>-1201.0</td>\n",
       "    </tr>\n",
       "    <tr>\n",
       "      <th>2</th>\n",
       "      <td>Groningen</td>\n",
       "      <td>1944</td>\n",
       "      <td>9802.0</td>\n",
       "      <td>-931.0</td>\n",
       "    </tr>\n",
       "    <tr>\n",
       "      <th>3</th>\n",
       "      <td>Groningen</td>\n",
       "      <td>1945</td>\n",
       "      <td>9872.0</td>\n",
       "      <td>-2559.0</td>\n",
       "    </tr>\n",
       "    <tr>\n",
       "      <th>4</th>\n",
       "      <td>Groningen</td>\n",
       "      <td>1946</td>\n",
       "      <td>12790.0</td>\n",
       "      <td>-3851.0</td>\n",
       "    </tr>\n",
       "  </tbody>\n",
       "</table>\n",
       "</div>"
      ],
      "text/plain": [
       "     Regions  Periods  LiveBornChildren_3  \\\n",
       "0  Groningen     1942              8564.0   \n",
       "1  Groningen     1943              9589.0   \n",
       "2  Groningen     1944              9802.0   \n",
       "3  Groningen     1945              9872.0   \n",
       "4  Groningen     1946             12790.0   \n",
       "\n",
       "   NetMigrationIncludingAdministrative_17  \n",
       "0                                 -2106.0  \n",
       "1                                 -1201.0  \n",
       "2                                  -931.0  \n",
       "3                                 -2559.0  \n",
       "4                                 -3851.0  "
      ]
     },
     "execution_count": 13,
     "metadata": {},
     "output_type": "execute_result"
    }
   ],
   "source": [
    "population.head()"
   ]
  },
  {
   "cell_type": "markdown",
   "metadata": {},
   "source": [
    "Let's save this:\n"
   ]
  },
  {
   "cell_type": "code",
   "execution_count": 14,
   "metadata": {},
   "outputs": [],
   "source": [
    "population.to_csv('population.csv')\n",
    "population.to_json('population.json')"
   ]
  },
  {
   "cell_type": "markdown",
   "metadata": {},
   "source": [
    "### Economic data\n",
    "\n",
    "We just do exactly the same for our economic dataset\n"
   ]
  },
  {
   "cell_type": "code",
   "execution_count": 15,
   "metadata": {},
   "outputs": [],
   "source": [
    "economy = pd.read_csv('82800ENG_UntypedDataSet_06112024_174453.csv', delimiter=';')"
   ]
  },
  {
   "cell_type": "code",
   "execution_count": 16,
   "metadata": {},
   "outputs": [
    {
     "data": {
      "text/html": [
       "<div>\n",
       "<style scoped>\n",
       "    .dataframe tbody tr th:only-of-type {\n",
       "        vertical-align: middle;\n",
       "    }\n",
       "\n",
       "    .dataframe tbody tr th {\n",
       "        vertical-align: top;\n",
       "    }\n",
       "\n",
       "    .dataframe thead th {\n",
       "        text-align: right;\n",
       "    }\n",
       "</style>\n",
       "<table border=\"1\" class=\"dataframe\">\n",
       "  <thead>\n",
       "    <tr style=\"text-align: right;\">\n",
       "      <th></th>\n",
       "      <th>ID</th>\n",
       "      <th>EconomicSectorsSIC2008</th>\n",
       "      <th>Regions</th>\n",
       "      <th>Periods</th>\n",
       "      <th>GDPVolumeChanges_1</th>\n",
       "    </tr>\n",
       "  </thead>\n",
       "  <tbody>\n",
       "    <tr>\n",
       "      <th>0</th>\n",
       "      <td>132</td>\n",
       "      <td>T001081</td>\n",
       "      <td>PV20</td>\n",
       "      <td>1996JJ00</td>\n",
       "      <td>9.3</td>\n",
       "    </tr>\n",
       "    <tr>\n",
       "      <th>1</th>\n",
       "      <td>133</td>\n",
       "      <td>T001081</td>\n",
       "      <td>PV20</td>\n",
       "      <td>1997JJ00</td>\n",
       "      <td>-2.0</td>\n",
       "    </tr>\n",
       "    <tr>\n",
       "      <th>2</th>\n",
       "      <td>134</td>\n",
       "      <td>T001081</td>\n",
       "      <td>PV20</td>\n",
       "      <td>1998JJ00</td>\n",
       "      <td>-0.9</td>\n",
       "    </tr>\n",
       "    <tr>\n",
       "      <th>3</th>\n",
       "      <td>135</td>\n",
       "      <td>T001081</td>\n",
       "      <td>PV20</td>\n",
       "      <td>1999JJ00</td>\n",
       "      <td>-0.7</td>\n",
       "    </tr>\n",
       "    <tr>\n",
       "      <th>4</th>\n",
       "      <td>136</td>\n",
       "      <td>T001081</td>\n",
       "      <td>PV20</td>\n",
       "      <td>2000JJ00</td>\n",
       "      <td>1.5</td>\n",
       "    </tr>\n",
       "    <tr>\n",
       "      <th>...</th>\n",
       "      <td>...</td>\n",
       "      <td>...</td>\n",
       "      <td>...</td>\n",
       "      <td>...</td>\n",
       "      <td>...</td>\n",
       "    </tr>\n",
       "    <tr>\n",
       "      <th>259</th>\n",
       "      <td>391</td>\n",
       "      <td>T001081</td>\n",
       "      <td>PV31</td>\n",
       "      <td>2013JJ00</td>\n",
       "      <td>-0.7</td>\n",
       "    </tr>\n",
       "    <tr>\n",
       "      <th>260</th>\n",
       "      <td>392</td>\n",
       "      <td>T001081</td>\n",
       "      <td>PV31</td>\n",
       "      <td>2014JJ00</td>\n",
       "      <td>0.2</td>\n",
       "    </tr>\n",
       "    <tr>\n",
       "      <th>261</th>\n",
       "      <td>393</td>\n",
       "      <td>T001081</td>\n",
       "      <td>PV31</td>\n",
       "      <td>2015JJ00</td>\n",
       "      <td>2.7</td>\n",
       "    </tr>\n",
       "    <tr>\n",
       "      <th>262</th>\n",
       "      <td>394</td>\n",
       "      <td>T001081</td>\n",
       "      <td>PV31</td>\n",
       "      <td>2016JJ00</td>\n",
       "      <td>2.2</td>\n",
       "    </tr>\n",
       "    <tr>\n",
       "      <th>263</th>\n",
       "      <td>395</td>\n",
       "      <td>T001081</td>\n",
       "      <td>PV31</td>\n",
       "      <td>2017JJ00</td>\n",
       "      <td>3.2</td>\n",
       "    </tr>\n",
       "  </tbody>\n",
       "</table>\n",
       "<p>264 rows × 5 columns</p>\n",
       "</div>"
      ],
      "text/plain": [
       "      ID EconomicSectorsSIC2008   Regions   Periods  GDPVolumeChanges_1\n",
       "0    132             T001081     PV20      1996JJ00                 9.3\n",
       "1    133             T001081     PV20      1997JJ00                -2.0\n",
       "2    134             T001081     PV20      1998JJ00                -0.9\n",
       "3    135             T001081     PV20      1999JJ00                -0.7\n",
       "4    136             T001081     PV20      2000JJ00                 1.5\n",
       "..   ...                    ...       ...       ...                 ...\n",
       "259  391             T001081     PV31      2013JJ00                -0.7\n",
       "260  392             T001081     PV31      2014JJ00                 0.2\n",
       "261  393             T001081     PV31      2015JJ00                 2.7\n",
       "262  394             T001081     PV31      2016JJ00                 2.2\n",
       "263  395             T001081     PV31      2017JJ00                 3.2\n",
       "\n",
       "[264 rows x 5 columns]"
      ]
     },
     "execution_count": 16,
     "metadata": {},
     "output_type": "execute_result"
    }
   ],
   "source": [
    "economy"
   ]
  },
  {
   "cell_type": "code",
   "execution_count": 17,
   "metadata": {},
   "outputs": [
    {
     "data": {
      "text/plain": [
       "EconomicSectorsSIC2008\n",
       "T001081       264\n",
       "Name: count, dtype: int64"
      ]
     },
     "execution_count": 17,
     "metadata": {},
     "output_type": "execute_result"
    }
   ],
   "source": [
    "# We only downloaded the total, so we can safely delete:\n",
    "economy['EconomicSectorsSIC2008'].value_counts()"
   ]
  },
  {
   "cell_type": "code",
   "execution_count": 18,
   "metadata": {},
   "outputs": [],
   "source": [
    "economy.drop(['EconomicSectorsSIC2008','ID'], axis = 1, inplace = True)"
   ]
  },
  {
   "cell_type": "code",
   "execution_count": 19,
   "metadata": {},
   "outputs": [],
   "source": [
    "economy['Regions'] = economy['Regions'].map(lambda x: x.strip())\n",
    "economy['Regions'] = economy['Regions'].map(provinces)"
   ]
  },
  {
   "cell_type": "code",
   "execution_count": 20,
   "metadata": {},
   "outputs": [],
   "source": [
    "economy['Periods'] = economy['Periods'].map(lambda x: int(x[:4]))"
   ]
  },
  {
   "cell_type": "code",
   "execution_count": 21,
   "metadata": {},
   "outputs": [
    {
     "data": {
      "text/html": [
       "<div>\n",
       "<style scoped>\n",
       "    .dataframe tbody tr th:only-of-type {\n",
       "        vertical-align: middle;\n",
       "    }\n",
       "\n",
       "    .dataframe tbody tr th {\n",
       "        vertical-align: top;\n",
       "    }\n",
       "\n",
       "    .dataframe thead th {\n",
       "        text-align: right;\n",
       "    }\n",
       "</style>\n",
       "<table border=\"1\" class=\"dataframe\">\n",
       "  <thead>\n",
       "    <tr style=\"text-align: right;\">\n",
       "      <th></th>\n",
       "      <th>Regions</th>\n",
       "      <th>Periods</th>\n",
       "      <th>GDPVolumeChanges_1</th>\n",
       "    </tr>\n",
       "  </thead>\n",
       "  <tbody>\n",
       "    <tr>\n",
       "      <th>0</th>\n",
       "      <td>Groningen</td>\n",
       "      <td>1996</td>\n",
       "      <td>9.3</td>\n",
       "    </tr>\n",
       "    <tr>\n",
       "      <th>1</th>\n",
       "      <td>Groningen</td>\n",
       "      <td>1997</td>\n",
       "      <td>-2.0</td>\n",
       "    </tr>\n",
       "    <tr>\n",
       "      <th>2</th>\n",
       "      <td>Groningen</td>\n",
       "      <td>1998</td>\n",
       "      <td>-0.9</td>\n",
       "    </tr>\n",
       "    <tr>\n",
       "      <th>3</th>\n",
       "      <td>Groningen</td>\n",
       "      <td>1999</td>\n",
       "      <td>-0.7</td>\n",
       "    </tr>\n",
       "    <tr>\n",
       "      <th>4</th>\n",
       "      <td>Groningen</td>\n",
       "      <td>2000</td>\n",
       "      <td>1.5</td>\n",
       "    </tr>\n",
       "  </tbody>\n",
       "</table>\n",
       "</div>"
      ],
      "text/plain": [
       "     Regions  Periods  GDPVolumeChanges_1\n",
       "0  Groningen     1996                 9.3\n",
       "1  Groningen     1997                -2.0\n",
       "2  Groningen     1998                -0.9\n",
       "3  Groningen     1999                -0.7\n",
       "4  Groningen     2000                 1.5"
      ]
     },
     "execution_count": 21,
     "metadata": {},
     "output_type": "execute_result"
    }
   ],
   "source": [
    "economy.head()"
   ]
  },
  {
   "cell_type": "code",
   "execution_count": 22,
   "metadata": {},
   "outputs": [],
   "source": [
    "economy.to_csv('economy.csv')\n",
    "economy.to_json('economy.json')"
   ]
  }
 ],
 "metadata": {
  "kernelspec": {
   "display_name": "Python 3",
   "language": "python",
   "name": "python3"
  },
  "language_info": {
   "codemirror_mode": {
    "name": "ipython",
    "version": 3
   },
   "file_extension": ".py",
   "mimetype": "text/x-python",
   "name": "python",
   "nbconvert_exporter": "python",
   "pygments_lexer": "ipython3",
   "version": "3.12.1"
  }
 },
 "nbformat": 4,
 "nbformat_minor": 4
}

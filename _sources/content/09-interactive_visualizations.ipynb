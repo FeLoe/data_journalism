{
 "cells": [
  {
   "cell_type": "markdown",
   "metadata": {},
   "source": [
    "# 9. Interactive Data Visualization\n",
    "\n",
    "_Damian Trilling and Penny Sheets_\n",
    "\n",
    "This notebook gives some examples for how to create interactive visualizations\n",
    "for the web.\n",
    "\n",
    "We will use the following three visualization packages:\n",
    "\n",
    "- `bokeh`\n",
    "- `pygal`\n",
    "- `plotly`\n",
    "\n",
    "`bokeh` allows you to create interactive visualizations in which users can hover\n",
    "over elements, zoom in, etc. `pygal` allows you to create standard charts with\n",
    "hover-effects. `plotly` is a very extensive package that is related to a whole\n",
    "ecosystem to build interactive apps, but since short time, you can make use of\n",
    "some of its functionality directly via `pandas`!\n",
    "\n",
    "## Download the sample data\n",
    "\n",
    "The first time you run this notebook, you will need to download some example\n",
    "data. You only need to do this once, and should \"comment out\" (put hashtags in\n",
    "front of) the following two lines again after running them once.\n"
   ]
  },
  {
   "cell_type": "code",
   "execution_count": 1,
   "metadata": {},
   "outputs": [],
   "source": [
    "#pip install cairosvg"
   ]
  },
  {
   "cell_type": "code",
   "execution_count": 2,
   "metadata": {},
   "outputs": [],
   "source": [
    "#pip install bokeh\n",
    "#pip install bokeh_sampledata"
   ]
  },
  {
   "cell_type": "code",
   "execution_count": 3,
   "metadata": {},
   "outputs": [],
   "source": [
    "#pip install pygal"
   ]
  },
  {
   "cell_type": "code",
   "execution_count": 4,
   "metadata": {},
   "outputs": [],
   "source": [
    "#pip install plotly"
   ]
  },
  {
   "cell_type": "markdown",
   "metadata": {},
   "source": [
    "# Interactivity\n",
    "\n",
    "As discussed in the literature of week 4, interactivity should have a function.\n",
    "For instance, it can be used to reduce information overload while still\n",
    "providing information 'on demand' if users want to dig into it.\n",
    "\n",
    "Consider the example below (under the bokeh section), where the user at a first\n",
    "glance can get an idea of the geographical distribution of unemployment, but if\n",
    "they really want to know more, can even get the exact number for each and every\n",
    "county by hovering over it.\n",
    "\n",
    "More complicated online demos of bokeh apps are available here:\n",
    "\n",
    "- https://demo.bokeh.org/movies\n",
    "- https://demo.bokeh.org/weather\n"
   ]
  },
  {
   "cell_type": "markdown",
   "metadata": {},
   "source": [
    "### But first, we'll start with an example using pygal\n",
    "\n",
    "For more info and examples, see http://www.pygal.org .\n",
    "\n",
    "It will make your bar charts etc. just a bit more attractive by allowing things\n",
    "like displaying values when hovering over columns with the mouse.\n"
   ]
  },
  {
   "cell_type": "code",
   "execution_count": 5,
   "metadata": {},
   "outputs": [],
   "source": [
    "import pygal\n",
    "import bokeh\n",
    "import pandas as pd\n",
    "%matplotlib inline\n"
   ]
  },
  {
   "cell_type": "code",
   "execution_count": null,
   "metadata": {},
   "outputs": [],
   "source": [
    "# First we create a bar graph object (this is sort of like how we did in Seaborn, creating a blank canvas \n",
    "# before telling it what to put on that canvas.)\n",
    "\n",
    "mylittle_bar_chart = pygal.Bar()                                            \n",
    "\n",
    "# Next we add some values to it; in this case, we're adding the Fibonacci number sequence, and labeling it accordingly.\n",
    "mylittle_bar_chart.add('Fibonacci', [0, 1, 1, 2, 3, 5, 8, 13, 21, 34, 55])\n",
    "mylittle_bar_chart.add('whatever', [3,5,6,7,8])"
   ]
  },
  {
   "cell_type": "code",
   "execution_count": null,
   "metadata": {},
   "outputs": [],
   "source": []
  },
  {
   "cell_type": "code",
   "execution_count": 7,
   "metadata": {},
   "outputs": [
    {
     "name": "stdout",
     "output_type": "stream",
     "text": [
      "Penny INC went up tremenously ▁▁▁▁▁▁▂▂▃▅█ and you should invest in it.\n"
     ]
    }
   ],
   "source": [
    "print(\"Penny INC went up tremenously\", \n",
    "      mylittle_bar_chart.render_sparktext(),\n",
    "      \"and you should invest in it.\")"
   ]
  },
  {
   "cell_type": "code",
   "execution_count": 8,
   "metadata": {},
   "outputs": [
    {
     "data": {
      "text/plain": [
       "b'<?xml version=\\'1.0\\' encoding=\\'utf-8\\'?>\\n<svg xmlns=\"http://www.w3.org/2000/svg\" xmlns:xlink=\"http://www.w3.org/1999/xlink\" id=\"chart-82c0ea82-e0e8-49d5-b378-a5d44ec56563\" class=\"pygal-chart pygal-sparkline\" viewBox=\"0 0 200 50\" width=\"200\" height=\"50\"><!--Generated with pygal 3.0.5 (lxml) \\xc2\\xa9Kozea 2012-2016 on 2024-11-06--><!--http://pygal.org--><!--http://github.com/Kozea/pygal--><defs><style type=\"text/css\">#chart-82c0ea82-e0e8-49d5-b378-a5d44ec56563{-webkit-user-select:none;-webkit-font-smoothing:antialiased;font-family:Consolas,\"Liberation Mono\",Menlo,Courier,monospace}#chart-82c0ea82-e0e8-49d5-b378-a5d44ec56563 .title{font-family:Consolas,\"Liberation Mono\",Menlo,Courier,monospace;font-size:16px}#chart-82c0ea82-e0e8-49d5-b378-a5d44ec56563 .legends .legend text{font-family:Consolas,\"Liberation Mono\",Menlo,Courier,monospace;font-size:14px}#chart-82c0ea82-e0e8-49d5-b378-a5d44ec56563 .axis text{font-family:Consolas,\"Liberation Mono\",Menlo,Courier,monospace;font-size:10px}#chart-82c0ea82-e0e8-49d5-b378-a5d44ec56563 .axis text.major{font-family:Consolas,\"Liberation Mono\",Menlo,Courier,monospace;font-size:10px}#chart-82c0ea82-e0e8-49d5-b378-a5d44ec56563 .text-overlay text.value{font-family:Consolas,\"Liberation Mono\",Menlo,Courier,monospace;font-size:16px}#chart-82c0ea82-e0e8-49d5-b378-a5d44ec56563 .text-overlay text.label{font-family:Consolas,\"Liberation Mono\",Menlo,Courier,monospace;font-size:10px}#chart-82c0ea82-e0e8-49d5-b378-a5d44ec56563 .tooltip{font-family:Consolas,\"Liberation Mono\",Menlo,Courier,monospace;font-size:14px}#chart-82c0ea82-e0e8-49d5-b378-a5d44ec56563 text.no_data{font-family:Consolas,\"Liberation Mono\",Menlo,Courier,monospace;font-size:64px}\\n#chart-82c0ea82-e0e8-49d5-b378-a5d44ec56563{background-color:rgba(249,249,249,1)}#chart-82c0ea82-e0e8-49d5-b378-a5d44ec56563 path,#chart-82c0ea82-e0e8-49d5-b378-a5d44ec56563 line,#chart-82c0ea82-e0e8-49d5-b378-a5d44ec56563 rect,#chart-82c0ea82-e0e8-49d5-b378-a5d44ec56563 circle{-webkit-transition:150ms;-moz-transition:150ms;transition:150ms}#chart-82c0ea82-e0e8-49d5-b378-a5d44ec56563 .graph &gt; .background{fill:rgba(249,249,249,1)}#chart-82c0ea82-e0e8-49d5-b378-a5d44ec56563 .plot &gt; .background{fill:rgba(255,255,255,1)}#chart-82c0ea82-e0e8-49d5-b378-a5d44ec56563 .graph{fill:rgba(0,0,0,.87)}#chart-82c0ea82-e0e8-49d5-b378-a5d44ec56563 text.no_data{fill:rgba(0,0,0,1)}#chart-82c0ea82-e0e8-49d5-b378-a5d44ec56563 .title{fill:rgba(0,0,0,1)}#chart-82c0ea82-e0e8-49d5-b378-a5d44ec56563 .legends .legend text{fill:rgba(0,0,0,.87)}#chart-82c0ea82-e0e8-49d5-b378-a5d44ec56563 .legends .legend:hover text{fill:rgba(0,0,0,1)}#chart-82c0ea82-e0e8-49d5-b378-a5d44ec56563 .axis .line{stroke:rgba(0,0,0,1)}#chart-82c0ea82-e0e8-49d5-b378-a5d44ec56563 .axis .guide.line{stroke:rgba(0,0,0,.54)}#chart-82c0ea82-e0e8-49d5-b378-a5d44ec56563 .axis .major.line{stroke:rgba(0,0,0,.87)}#chart-82c0ea82-e0e8-49d5-b378-a5d44ec56563 .axis text.major{fill:rgba(0,0,0,1)}#chart-82c0ea82-e0e8-49d5-b378-a5d44ec56563 .axis.y .guides:hover .guide.line,#chart-82c0ea82-e0e8-49d5-b378-a5d44ec56563 .line-graph .axis.x .guides:hover .guide.line,#chart-82c0ea82-e0e8-49d5-b378-a5d44ec56563 .stackedline-graph .axis.x .guides:hover .guide.line,#chart-82c0ea82-e0e8-49d5-b378-a5d44ec56563 .xy-graph .axis.x .guides:hover .guide.line{stroke:rgba(0,0,0,1)}#chart-82c0ea82-e0e8-49d5-b378-a5d44ec56563 .axis .guides:hover text{fill:rgba(0,0,0,1)}#chart-82c0ea82-e0e8-49d5-b378-a5d44ec56563 .reactive{fill-opacity:.7;stroke-opacity:.8;stroke-width:1}#chart-82c0ea82-e0e8-49d5-b378-a5d44ec56563 .ci{stroke:rgba(0,0,0,.87)}#chart-82c0ea82-e0e8-49d5-b378-a5d44ec56563 .reactive.active,#chart-82c0ea82-e0e8-49d5-b378-a5d44ec56563 .active .reactive{fill-opacity:.8;stroke-opacity:.9;stroke-width:4}#chart-82c0ea82-e0e8-49d5-b378-a5d44ec56563 .ci .reactive.active{stroke-width:1.5}#chart-82c0ea82-e0e8-49d5-b378-a5d44ec56563 .series text{fill:rgba(0,0,0,1)}#chart-82c0ea82-e0e8-49d5-b378-a5d44ec56563 .tooltip rect{fill:rgba(255,255,255,1);stroke:rgba(0,0,0,1);-webkit-transition:opacity 150ms;-moz-transition:opacity 150ms;transition:opacity 150ms}#chart-82c0ea82-e0e8-49d5-b378-a5d44ec56563 .tooltip .label{fill:rgba(0,0,0,.87)}#chart-82c0ea82-e0e8-49d5-b378-a5d44ec56563 .tooltip .label{fill:rgba(0,0,0,.87)}#chart-82c0ea82-e0e8-49d5-b378-a5d44ec56563 .tooltip .legend{font-size:.8em;fill:rgba(0,0,0,.54)}#chart-82c0ea82-e0e8-49d5-b378-a5d44ec56563 .tooltip .x_label{font-size:.6em;fill:rgba(0,0,0,1)}#chart-82c0ea82-e0e8-49d5-b378-a5d44ec56563 .tooltip .xlink{font-size:.5em;text-decoration:underline}#chart-82c0ea82-e0e8-49d5-b378-a5d44ec56563 .tooltip .value{font-size:1.5em}#chart-82c0ea82-e0e8-49d5-b378-a5d44ec56563 .bound{font-size:.5em}#chart-82c0ea82-e0e8-49d5-b378-a5d44ec56563 .max-value{font-size:.75em;fill:rgba(0,0,0,.54)}#chart-82c0ea82-e0e8-49d5-b378-a5d44ec56563 .map-element{fill:rgba(255,255,255,1);stroke:rgba(0,0,0,.54) !important}#chart-82c0ea82-e0e8-49d5-b378-a5d44ec56563 .map-element .reactive{fill-opacity:inherit;stroke-opacity:inherit}#chart-82c0ea82-e0e8-49d5-b378-a5d44ec56563 .color-0,#chart-82c0ea82-e0e8-49d5-b378-a5d44ec56563 .color-0 a:visited{stroke:#F44336;fill:#F44336}#chart-82c0ea82-e0e8-49d5-b378-a5d44ec56563 .color-1,#chart-82c0ea82-e0e8-49d5-b378-a5d44ec56563 .color-1 a:visited{stroke:#3F51B5;fill:#3F51B5}#chart-82c0ea82-e0e8-49d5-b378-a5d44ec56563 .text-overlay .color-0 text{fill:black}#chart-82c0ea82-e0e8-49d5-b378-a5d44ec56563 .text-overlay .color-1 text{fill:black}\\n#chart-82c0ea82-e0e8-49d5-b378-a5d44ec56563 text.no_data{text-anchor:middle}#chart-82c0ea82-e0e8-49d5-b378-a5d44ec56563 .guide.line{fill:none}#chart-82c0ea82-e0e8-49d5-b378-a5d44ec56563 .centered{text-anchor:middle}#chart-82c0ea82-e0e8-49d5-b378-a5d44ec56563 .title{text-anchor:middle}#chart-82c0ea82-e0e8-49d5-b378-a5d44ec56563 .legends .legend text{fill-opacity:1}#chart-82c0ea82-e0e8-49d5-b378-a5d44ec56563 .axis.x text{text-anchor:middle}#chart-82c0ea82-e0e8-49d5-b378-a5d44ec56563 .axis.x:not(.web) text[transform]{text-anchor:start}#chart-82c0ea82-e0e8-49d5-b378-a5d44ec56563 .axis.x:not(.web) text[transform].backwards{text-anchor:end}#chart-82c0ea82-e0e8-49d5-b378-a5d44ec56563 .axis.y text{text-anchor:end}#chart-82c0ea82-e0e8-49d5-b378-a5d44ec56563 .axis.y text[transform].backwards{text-anchor:start}#chart-82c0ea82-e0e8-49d5-b378-a5d44ec56563 .axis.y2 text{text-anchor:start}#chart-82c0ea82-e0e8-49d5-b378-a5d44ec56563 .axis.y2 text[transform].backwards{text-anchor:end}#chart-82c0ea82-e0e8-49d5-b378-a5d44ec56563 .axis .guide.line{stroke-dasharray:4,4;stroke:black}#chart-82c0ea82-e0e8-49d5-b378-a5d44ec56563 .axis .major.guide.line{stroke-dasharray:6,6;stroke:black}#chart-82c0ea82-e0e8-49d5-b378-a5d44ec56563 .horizontal .axis.y .guide.line,#chart-82c0ea82-e0e8-49d5-b378-a5d44ec56563 .horizontal .axis.y2 .guide.line,#chart-82c0ea82-e0e8-49d5-b378-a5d44ec56563 .vertical .axis.x .guide.line{opacity:0}#chart-82c0ea82-e0e8-49d5-b378-a5d44ec56563 .horizontal .axis.always_show .guide.line,#chart-82c0ea82-e0e8-49d5-b378-a5d44ec56563 .vertical .axis.always_show .guide.line{opacity:1 !important}#chart-82c0ea82-e0e8-49d5-b378-a5d44ec56563 .axis.y .guides:hover .guide.line,#chart-82c0ea82-e0e8-49d5-b378-a5d44ec56563 .axis.y2 .guides:hover .guide.line,#chart-82c0ea82-e0e8-49d5-b378-a5d44ec56563 .axis.x .guides:hover .guide.line{opacity:1}#chart-82c0ea82-e0e8-49d5-b378-a5d44ec56563 .axis .guides:hover text{opacity:1}#chart-82c0ea82-e0e8-49d5-b378-a5d44ec56563 .nofill{fill:none}#chart-82c0ea82-e0e8-49d5-b378-a5d44ec56563 .subtle-fill{fill-opacity:.2}#chart-82c0ea82-e0e8-49d5-b378-a5d44ec56563 .dot{stroke-width:1px;fill-opacity:1;stroke-opacity:1}#chart-82c0ea82-e0e8-49d5-b378-a5d44ec56563 .dot.active{stroke-width:5px}#chart-82c0ea82-e0e8-49d5-b378-a5d44ec56563 .dot.negative{fill:transparent}#chart-82c0ea82-e0e8-49d5-b378-a5d44ec56563 text,#chart-82c0ea82-e0e8-49d5-b378-a5d44ec56563 tspan{stroke:none !important}#chart-82c0ea82-e0e8-49d5-b378-a5d44ec56563 .series text.active{opacity:1}#chart-82c0ea82-e0e8-49d5-b378-a5d44ec56563 .tooltip rect{fill-opacity:.95;stroke-width:.5}#chart-82c0ea82-e0e8-49d5-b378-a5d44ec56563 .tooltip text{fill-opacity:1}#chart-82c0ea82-e0e8-49d5-b378-a5d44ec56563 .showable{visibility:hidden}#chart-82c0ea82-e0e8-49d5-b378-a5d44ec56563 .showable.shown{visibility:visible}#chart-82c0ea82-e0e8-49d5-b378-a5d44ec56563 .gauge-background{fill:rgba(229,229,229,1);stroke:none}#chart-82c0ea82-e0e8-49d5-b378-a5d44ec56563 .bg-lines{stroke:rgba(249,249,249,1);stroke-width:2px}</style><script type=\"text/javascript\">window.pygal = window.pygal || {};window.pygal.config = window.pygal.config || {};window.pygal.config[\\'82c0ea82-e0e8-49d5-b378-a5d44ec56563\\'] = {\"allow_interruptions\": false, \"box_mode\": \"extremes\", \"classes\": [\"pygal-chart\", \"pygal-sparkline\"], \"css\": [\"file://style.css\", \"file://graph.css\"], \"defs\": [], \"disable_xml_declaration\": false, \"dots_size\": 2.5, \"dynamic_print_values\": false, \"explicit_size\": true, \"fill\": false, \"force_uri_protocol\": \"https\", \"formatter\": null, \"half_pie\": false, \"height\": 50, \"include_x_axis\": false, \"inner_radius\": 0, \"interpolate\": null, \"interpolation_parameters\": {}, \"interpolation_precision\": 250, \"inverse_y_axis\": false, \"js\": [], \"legend_at_bottom\": false, \"legend_at_bottom_columns\": null, \"legend_box_size\": 12, \"logarithmic\": false, \"margin\": 5, \"margin_bottom\": null, \"margin_left\": null, \"margin_right\": null, \"margin_top\": null, \"max_scale\": 2, \"min_scale\": 1, \"missing_value_fill_truncation\": \"x\", \"no_data_text\": \"\", \"no_prefix\": false, \"order_min\": null, \"pretty_print\": false, \"print_labels\": false, \"print_values\": false, \"print_values_position\": \"center\", \"print_zeroes\": true, \"range\": null, \"rounded_bars\": null, \"secondary_range\": null, \"show_dots\": false, \"show_legend\": false, \"show_minor_x_labels\": true, \"show_minor_y_labels\": true, \"show_only_major_dots\": false, \"show_x_guides\": false, \"show_x_labels\": false, \"show_y_guides\": true, \"show_y_labels\": false, \"spacing\": 0, \"stack_from_top\": false, \"strict\": false, \"stroke\": true, \"stroke_style\": null, \"style\": {\"background\": \"rgba(249, 249, 249, 1)\", \"ci_colors\": [], \"colors\": [\"#F44336\", \"#3F51B5\", \"#009688\", \"#FFC107\", \"#FF5722\", \"#9C27B0\", \"#03A9F4\", \"#8BC34A\", \"#FF9800\", \"#E91E63\", \"#2196F3\", \"#4CAF50\", \"#FFEB3B\", \"#673AB7\", \"#00BCD4\", \"#CDDC39\", \"#9E9E9E\", \"#607D8B\"], \"dot_opacity\": \"1\", \"font_family\": \"Consolas, \\\\\"Liberation Mono\\\\\", Menlo, Courier, monospace\", \"foreground\": \"rgba(0, 0, 0, .87)\", \"foreground_strong\": \"rgba(0, 0, 0, 1)\", \"foreground_subtle\": \"rgba(0, 0, 0, .54)\", \"guide_stroke_color\": \"black\", \"guide_stroke_dasharray\": \"4,4\", \"label_font_family\": \"Consolas, \\\\\"Liberation Mono\\\\\", Menlo, Courier, monospace\", \"label_font_size\": 10, \"legend_font_family\": \"Consolas, \\\\\"Liberation Mono\\\\\", Menlo, Courier, monospace\", \"legend_font_size\": 14, \"major_guide_stroke_color\": \"black\", \"major_guide_stroke_dasharray\": \"6,6\", \"major_label_font_family\": \"Consolas, \\\\\"Liberation Mono\\\\\", Menlo, Courier, monospace\", \"major_label_font_size\": 10, \"no_data_font_family\": \"Consolas, \\\\\"Liberation Mono\\\\\", Menlo, Courier, monospace\", \"no_data_font_size\": 64, \"opacity\": \".7\", \"opacity_hover\": \".8\", \"plot_background\": \"rgba(255, 255, 255, 1)\", \"stroke_opacity\": \".8\", \"stroke_opacity_hover\": \".9\", \"stroke_width\": \"1\", \"stroke_width_hover\": \"4\", \"title_font_family\": \"Consolas, \\\\\"Liberation Mono\\\\\", Menlo, Courier, monospace\", \"title_font_size\": 16, \"tooltip_font_family\": \"Consolas, \\\\\"Liberation Mono\\\\\", Menlo, Courier, monospace\", \"tooltip_font_size\": 14, \"transition\": \"150ms\", \"value_background\": \"rgba(229, 229, 229, 1)\", \"value_colors\": [], \"value_font_family\": \"Consolas, \\\\\"Liberation Mono\\\\\", Menlo, Courier, monospace\", \"value_font_size\": 16, \"value_label_font_family\": \"Consolas, \\\\\"Liberation Mono\\\\\", Menlo, Courier, monospace\", \"value_label_font_size\": 10}, \"title\": null, \"tooltip_border_radius\": 0, \"tooltip_fancy_mode\": true, \"truncate_label\": null, \"truncate_legend\": null, \"width\": 200, \"x_label_rotation\": 0, \"x_labels\": null, \"x_labels_major\": null, \"x_labels_major_count\": null, \"x_labels_major_every\": null, \"x_title\": null, \"xrange\": null, \"y_label_rotation\": 0, \"y_labels\": null, \"y_labels_major\": null, \"y_labels_major_count\": null, \"y_labels_major_every\": null, \"y_title\": null, \"zero\": 0, \"legends\": [\"Fibonacci\", \"whatever\"]}</script></defs><title>Pygal</title><g class=\"graph bar-graph vertical\"><rect x=\"0\" y=\"0\" width=\"200\" height=\"50\" class=\"background\"/><g transform=\"translate(5, 5)\" class=\"plot\"><rect x=\"0\" y=\"0\" width=\"190\" height=\"40\" class=\"background\"/><g class=\"series serie-0 color-0\"><g class=\"bars\"><g class=\"bar\"><rect x=\"5.0888111888111895\" y=\"39.23076923076923\" rx=\"0\" ry=\"0\" width=\"6.43076923076923\" height=\"0.0\" class=\"rect reactive tooltip-trigger\"/><desc class=\"value\">0</desc><desc class=\"x centered\">8.304195804195805</desc><desc class=\"y centered\">39.23076923076923</desc></g><g class=\"bar\"><rect x=\"21.6972027972028\" y=\"38.53146853146853\" rx=\"0\" ry=\"0\" width=\"6.43076923076923\" height=\"0.6993006993007\" class=\"rect reactive tooltip-trigger\"/><desc class=\"value\">1</desc><desc class=\"x centered\">24.912587412587413</desc><desc class=\"y centered\">38.88111888111888</desc></g><g class=\"bar\"><rect x=\"38.3055944055944\" y=\"38.53146853146853\" rx=\"0\" ry=\"0\" width=\"6.43076923076923\" height=\"0.6993006993007\" class=\"rect reactive tooltip-trigger\"/><desc class=\"value\">1</desc><desc class=\"x centered\">41.52097902097901</desc><desc class=\"y centered\">38.88111888111888</desc></g><g class=\"bar\"><rect x=\"54.913986013986005\" y=\"37.83216783216783\" rx=\"0\" ry=\"0\" width=\"6.43076923076923\" height=\"1.3986013986014\" class=\"rect reactive tooltip-trigger\"/><desc class=\"value\">2</desc><desc class=\"x centered\">58.12937062937062</desc><desc class=\"y centered\">38.53146853146853</desc></g><g class=\"bar\"><rect x=\"71.52237762237762\" y=\"37.13286713286713\" rx=\"0\" ry=\"0\" width=\"6.43076923076923\" height=\"2.0979020979021\" class=\"rect reactive tooltip-trigger\"/><desc class=\"value\">3</desc><desc class=\"x centered\">74.73776223776224</desc><desc class=\"y centered\">38.18181818181819</desc></g><g class=\"bar\"><rect x=\"88.13076923076923\" y=\"35.73426573426573\" rx=\"0\" ry=\"0\" width=\"6.43076923076923\" height=\"3.4965034965035002\" class=\"rect reactive tooltip-trigger\"/><desc class=\"value\">5</desc><desc class=\"x centered\">91.34615384615385</desc><desc class=\"y centered\">37.48251748251748</desc></g><g class=\"bar\"><rect x=\"104.73916083916083\" y=\"33.63636363636364\" rx=\"0\" ry=\"0\" width=\"6.43076923076923\" height=\"5.594405594405593\" class=\"rect reactive tooltip-trigger\"/><desc class=\"value\">8</desc><desc class=\"x centered\">107.95454545454545</desc><desc class=\"y centered\">36.43356643356644</desc></g><g class=\"bar\"><rect x=\"121.34755244755243\" y=\"30.13986013986014\" rx=\"0\" ry=\"0\" width=\"6.43076923076923\" height=\"9.090909090909093\" class=\"rect reactive tooltip-trigger\"/><desc class=\"value\">13</desc><desc class=\"x centered\">124.56293706293705</desc><desc class=\"y centered\">34.68531468531469</desc></g><g class=\"bar\"><rect x=\"137.95594405594406\" y=\"24.545454545454547\" rx=\"0\" ry=\"0\" width=\"6.43076923076923\" height=\"14.685314685314687\" class=\"rect reactive tooltip-trigger\"/><desc class=\"value\">21</desc><desc class=\"x centered\">141.17132867132867</desc><desc class=\"y centered\">31.88811188811189</desc></g><g class=\"bar\"><rect x=\"154.56433566433566\" y=\"15.454545454545457\" rx=\"0\" ry=\"0\" width=\"6.43076923076923\" height=\"23.776223776223777\" class=\"rect reactive tooltip-trigger\"/><desc class=\"value\">34</desc><desc class=\"x centered\">157.77972027972027</desc><desc class=\"y centered\">27.342657342657347</desc></g><g class=\"bar\"><rect x=\"171.17272727272726\" y=\"0.7692307692307736\" rx=\"0\" ry=\"0\" width=\"6.43076923076923\" height=\"38.46153846153846\" class=\"rect reactive tooltip-trigger\"/><desc class=\"value\">55</desc><desc class=\"x centered\">174.38811188811187</desc><desc class=\"y centered\">20.000000000000004</desc></g></g></g><g class=\"series serie-1 color-1\"><g class=\"bars\"><g class=\"bar\"><rect x=\"12.396503496503495\" y=\"37.13286713286713\" rx=\"0\" ry=\"0\" width=\"6.43076923076923\" height=\"2.0979020979021\" class=\"rect reactive tooltip-trigger\"/><desc class=\"value\">3</desc><desc class=\"x centered\">15.61188811188811</desc><desc class=\"y centered\">38.18181818181819</desc></g><g class=\"bar\"><rect x=\"29.004895104895105\" y=\"35.73426573426573\" rx=\"0\" ry=\"0\" width=\"6.43076923076923\" height=\"3.4965034965035002\" class=\"rect reactive tooltip-trigger\"/><desc class=\"value\">5</desc><desc class=\"x centered\">32.22027972027972</desc><desc class=\"y centered\">37.48251748251748</desc></g><g class=\"bar\"><rect x=\"45.613286713286705\" y=\"35.03496503496503\" rx=\"0\" ry=\"0\" width=\"6.43076923076923\" height=\"4.1958041958042\" class=\"rect reactive tooltip-trigger\"/><desc class=\"value\">6</desc><desc class=\"x centered\">48.82867132867132</desc><desc class=\"y centered\">37.13286713286713</desc></g><g class=\"bar\"><rect x=\"62.22167832167831\" y=\"34.33566433566433\" rx=\"0\" ry=\"0\" width=\"6.43076923076923\" height=\"4.8951048951049\" class=\"rect reactive tooltip-trigger\"/><desc class=\"value\">7</desc><desc class=\"x centered\">65.43706293706293</desc><desc class=\"y centered\">36.78321678321679</desc></g><g class=\"bar\"><rect x=\"78.83006993006993\" y=\"33.63636363636364\" rx=\"0\" ry=\"0\" width=\"6.43076923076923\" height=\"5.594405594405593\" class=\"rect reactive tooltip-trigger\"/><desc class=\"value\">8</desc><desc class=\"x centered\">82.04545454545455</desc><desc class=\"y centered\">36.43356643356644</desc></g></g></g></g><g class=\"titles\"/><g transform=\"translate(5, 5)\" class=\"plot overlay\"><g class=\"series serie-0 color-0\"/><g class=\"series serie-1 color-1\"/></g><g transform=\"translate(5, 5)\" class=\"plot text-overlay\"><g class=\"series serie-0 color-0\"/><g class=\"series serie-1 color-1\"/></g><g transform=\"translate(5, 5)\" class=\"plot tooltip-overlay\"><g transform=\"translate(0 0)\" style=\"opacity: 0\" class=\"tooltip\"><rect rx=\"0\" ry=\"0\" width=\"0\" height=\"0\" class=\"tooltip-box\"/><g class=\"text\"/></g></g></g></svg>'"
      ]
     },
     "execution_count": 8,
     "metadata": {},
     "output_type": "execute_result"
    }
   ],
   "source": [
    "mylittle_bar_chart.render_sparkline()"
   ]
  },
  {
   "cell_type": "code",
   "execution_count": 9,
   "metadata": {},
   "outputs": [
    {
     "name": "stdout",
     "output_type": "stream",
     "text": [
      "file:///var/folders/l0/0m8rr1_910j7vgvw7jz29qgc0000gn/T/tmp06c8a4qi.html\n"
     ]
    }
   ],
   "source": [
    "# With pygal, you can render this into an .svg visualization for display in your web browser.\n",
    "\n",
    "mylittle_bar_chart.render_in_browser()\n",
    "\n",
    "# or you can save to a file for later embedding/placement wherever you want it:\n",
    "# bar_chart.render_to_file('bar_chart.svg') \n"
   ]
  },
  {
   "cell_type": "code",
   "execution_count": 10,
   "metadata": {},
   "outputs": [],
   "source": [
    "mylittle_bar_chart.render_to_file('mytest.svg')"
   ]
  },
  {
   "cell_type": "markdown",
   "metadata": {},
   "source": [
    "Let's do this with our own data that we used in an earlier notebook. We first do\n",
    "it the old-fashioned way that we already know, then we use pygal instead.\n"
   ]
  },
  {
   "cell_type": "code",
   "execution_count": 11,
   "metadata": {
    "scrolled": true
   },
   "outputs": [
    {
     "data": {
      "text/html": [
       "<div>\n",
       "<style scoped>\n",
       "    .dataframe tbody tr th:only-of-type {\n",
       "        vertical-align: middle;\n",
       "    }\n",
       "\n",
       "    .dataframe tbody tr th {\n",
       "        vertical-align: top;\n",
       "    }\n",
       "\n",
       "    .dataframe thead th {\n",
       "        text-align: right;\n",
       "    }\n",
       "</style>\n",
       "<table border=\"1\" class=\"dataframe\">\n",
       "  <thead>\n",
       "    <tr style=\"text-align: right;\">\n",
       "      <th></th>\n",
       "      <th>gender</th>\n",
       "      <th>age</th>\n",
       "      <th>education</th>\n",
       "      <th>radio</th>\n",
       "      <th>newspaper</th>\n",
       "      <th>tv</th>\n",
       "      <th>internet</th>\n",
       "    </tr>\n",
       "  </thead>\n",
       "  <tbody>\n",
       "    <tr>\n",
       "      <th>0</th>\n",
       "      <td>1</td>\n",
       "      <td>71</td>\n",
       "      <td>4.0</td>\n",
       "      <td>5</td>\n",
       "      <td>6</td>\n",
       "      <td>5</td>\n",
       "      <td>0</td>\n",
       "    </tr>\n",
       "    <tr>\n",
       "      <th>1</th>\n",
       "      <td>1</td>\n",
       "      <td>40</td>\n",
       "      <td>2.0</td>\n",
       "      <td>6</td>\n",
       "      <td>0</td>\n",
       "      <td>0</td>\n",
       "      <td>0</td>\n",
       "    </tr>\n",
       "    <tr>\n",
       "      <th>2</th>\n",
       "      <td>1</td>\n",
       "      <td>41</td>\n",
       "      <td>2.0</td>\n",
       "      <td>4</td>\n",
       "      <td>3</td>\n",
       "      <td>7</td>\n",
       "      <td>3</td>\n",
       "    </tr>\n",
       "    <tr>\n",
       "      <th>3</th>\n",
       "      <td>0</td>\n",
       "      <td>65</td>\n",
       "      <td>5.0</td>\n",
       "      <td>0</td>\n",
       "      <td>0</td>\n",
       "      <td>5</td>\n",
       "      <td>0</td>\n",
       "    </tr>\n",
       "    <tr>\n",
       "      <th>4</th>\n",
       "      <td>0</td>\n",
       "      <td>39</td>\n",
       "      <td>2.0</td>\n",
       "      <td>0</td>\n",
       "      <td>1</td>\n",
       "      <td>7</td>\n",
       "      <td>7</td>\n",
       "    </tr>\n",
       "    <tr>\n",
       "      <th>...</th>\n",
       "      <td>...</td>\n",
       "      <td>...</td>\n",
       "      <td>...</td>\n",
       "      <td>...</td>\n",
       "      <td>...</td>\n",
       "      <td>...</td>\n",
       "      <td>...</td>\n",
       "    </tr>\n",
       "    <tr>\n",
       "      <th>2076</th>\n",
       "      <td>0</td>\n",
       "      <td>49</td>\n",
       "      <td>5.0</td>\n",
       "      <td>3</td>\n",
       "      <td>6</td>\n",
       "      <td>6</td>\n",
       "      <td>0</td>\n",
       "    </tr>\n",
       "    <tr>\n",
       "      <th>2077</th>\n",
       "      <td>0</td>\n",
       "      <td>51</td>\n",
       "      <td>4.0</td>\n",
       "      <td>7</td>\n",
       "      <td>7</td>\n",
       "      <td>5</td>\n",
       "      <td>5</td>\n",
       "    </tr>\n",
       "    <tr>\n",
       "      <th>2078</th>\n",
       "      <td>1</td>\n",
       "      <td>31</td>\n",
       "      <td>6.0</td>\n",
       "      <td>3</td>\n",
       "      <td>5</td>\n",
       "      <td>5</td>\n",
       "      <td>6</td>\n",
       "    </tr>\n",
       "    <tr>\n",
       "      <th>2079</th>\n",
       "      <td>0</td>\n",
       "      <td>58</td>\n",
       "      <td>6.0</td>\n",
       "      <td>3</td>\n",
       "      <td>3</td>\n",
       "      <td>1</td>\n",
       "      <td>0</td>\n",
       "    </tr>\n",
       "    <tr>\n",
       "      <th>2080</th>\n",
       "      <td>1</td>\n",
       "      <td>21</td>\n",
       "      <td>3.0</td>\n",
       "      <td>2</td>\n",
       "      <td>6</td>\n",
       "      <td>6</td>\n",
       "      <td>4</td>\n",
       "    </tr>\n",
       "  </tbody>\n",
       "</table>\n",
       "<p>2081 rows × 7 columns</p>\n",
       "</div>"
      ],
      "text/plain": [
       "      gender  age  education  radio  newspaper  tv  internet\n",
       "0          1   71        4.0      5          6   5         0\n",
       "1          1   40        2.0      6          0   0         0\n",
       "2          1   41        2.0      4          3   7         3\n",
       "3          0   65        5.0      0          0   5         0\n",
       "4          0   39        2.0      0          1   7         7\n",
       "...      ...  ...        ...    ...        ...  ..       ...\n",
       "2076       0   49        5.0      3          6   6         0\n",
       "2077       0   51        4.0      7          7   5         5\n",
       "2078       1   31        6.0      3          5   5         6\n",
       "2079       0   58        6.0      3          3   1         0\n",
       "2080       1   21        3.0      2          6   6         4\n",
       "\n",
       "[2081 rows x 7 columns]"
      ]
     },
     "execution_count": 11,
     "metadata": {},
     "output_type": "execute_result"
    }
   ],
   "source": [
    "mediause = pd.read_csv('https://raw.githubusercontent.com/uvacw/datajournalism/master/mediause.csv')\n",
    "mediause"
   ]
  },
  {
   "cell_type": "code",
   "execution_count": 12,
   "metadata": {},
   "outputs": [
    {
     "data": {
      "text/plain": [
       "internet\n",
       "0    811\n",
       "1    189\n",
       "2    174\n",
       "3    150\n",
       "4    104\n",
       "5    145\n",
       "6     98\n",
       "7    410\n",
       "Name: count, dtype: int64"
      ]
     },
     "execution_count": 12,
     "metadata": {},
     "output_type": "execute_result"
    }
   ],
   "source": [
    "frequency_of_internet_use = mediause['internet'].value_counts().sort_index()\n",
    "frequency_of_internet_use"
   ]
  },
  {
   "cell_type": "code",
   "execution_count": 13,
   "metadata": {},
   "outputs": [
    {
     "data": {
      "text/plain": [
       "<Axes: xlabel='internet'>"
      ]
     },
     "execution_count": 13,
     "metadata": {},
     "output_type": "execute_result"
    },
    {
     "data": {
      "image/png": "[encoded data removed]",
      "text/plain": [
       "<Figure size 640x480 with 1 Axes>"
      ]
     },
     "metadata": {},
     "output_type": "display_data"
    }
   ],
   "source": [
    "frequency_of_internet_use.plot(kind='bar')"
   ]
  },
  {
   "cell_type": "code",
   "execution_count": null,
   "metadata": {},
   "outputs": [],
   "source": [
    "bar_chart = pygal.Bar()                                            \n",
    "\n",
    "frequency_of_internet_use = mediause['internet'].value_counts().sort_index()\n",
    "frequency_of_tv_use = mediause['tv'].value_counts().sort_index()\n",
    "frequency_of_newspaper_use = mediause['newspaper'].value_counts().sort_index()\n",
    "\n",
    "# let's add labels to the x axis\n",
    "# we could do:\n",
    "# bar_chart.x_labels = range(8) to generate the numbers 0...8\n",
    "# or supply a list manually,\n",
    "# or we re-use the index of our data:\n",
    "bar_chart.x_labels = frequency_of_internet_use.index\n",
    "\n",
    "\n",
    "# Next we add some values to it; in this case, we're adding the Fibonacci number sequence, and labeling it accordingly.\n",
    "bar_chart.add('internet', frequency_of_internet_use)\n",
    "bar_chart.add('tv', frequency_of_tv_use)\n",
    "bar_chart.add('newspaper', frequency_of_newspaper_use)\n"
   ]
  },
  {
   "cell_type": "code",
   "execution_count": 15,
   "metadata": {},
   "outputs": [
    {
     "data": {
      "text/plain": [
       "<bound method PublicApi.render_to_file of <pygal.graph.bar.Bar object at 0x17494b2c0>>"
      ]
     },
     "execution_count": 15,
     "metadata": {},
     "output_type": "execute_result"
    }
   ],
   "source": [
    "bar_chart.render_to_file"
   ]
  },
  {
   "cell_type": "markdown",
   "metadata": {},
   "source": [
    "### An example with bokeh\n",
    "\n",
    "This one is taken from an existing demo online (on the website of bokeh), to\n",
    "show bokeh's capacities. But all documentation and further info can be found at\n",
    "the link here, for more info & examples: https://bokeh.org/\n"
   ]
  },
  {
   "cell_type": "code",
   "execution_count": 16,
   "metadata": {},
   "outputs": [],
   "source": [
    "from bokeh.io import show, output_file\n",
    "from bokeh.models import LogColorMapper\n",
    "from bokeh.palettes import Viridis6 as palette\n",
    "from bokeh.plotting import figure\n",
    "\n",
    "from bokeh.sampledata.us_counties import data as counties\n",
    "from bokeh.sampledata.unemployment import data as unemployment"
   ]
  },
  {
   "cell_type": "code",
   "execution_count": 17,
   "metadata": {},
   "outputs": [
    {
     "data": {
      "text/plain": [
       "3218"
      ]
     },
     "execution_count": 17,
     "metadata": {},
     "output_type": "execute_result"
    }
   ],
   "source": [
    "len(unemployment)"
   ]
  },
  {
   "cell_type": "code",
   "execution_count": 18,
   "metadata": {},
   "outputs": [
    {
     "data": {
      "text/plain": [
       "{(1, 1): 9.7,\n",
       " (1, 3): 9.1,\n",
       " (1, 5): 13.4,\n",
       " (1, 7): 12.1,\n",
       " (1, 9): 9.9,\n",
       " (1, 11): 16.4,\n",
       " (1, 13): 16.7,\n",
       " (1, 15): 10.8,\n",
       " (1, 17): 18.6,\n",
       " (1, 19): 11.8,\n",
       " (1, 21): 9.9,\n",
       " (1, 23): 12.7,\n",
       " (1, 25): 17.0,\n",
       " (1, 27): 15.9,\n",
       " (1, 29): 10.4,\n",
       " (1, 31): 8.5,\n",
       " (1, 33): 11.4,\n",
       " (1, 35): 19.5,\n",
       " (1, 37): 14.0,\n",
       " (1, 39): 10.1,\n",
       " (1, 41): 9.7,\n",
       " (1, 43): 9.6,\n",
       " (1, 45): 9.3,\n",
       " (1, 47): 21.1,\n",
       " (1, 49): 14.3,\n",
       " (1, 51): 9.0,\n",
       " (1, 53): 12.9,\n",
       " (1, 55): 10.7,\n",
       " (1, 57): 12.8,\n",
       " (1, 59): 12.3,\n",
       " (1, 61): 10.0,\n",
       " (1, 63): 14.7,\n",
       " (1, 65): 12.7,\n",
       " (1, 67): 9.9,\n",
       " (1, 69): 8.9,\n",
       " (1, 71): 11.8,\n",
       " (1, 73): 10.7,\n",
       " (1, 75): 14.8,\n",
       " (1, 77): 10.5,\n",
       " (1, 79): 13.6,\n",
       " (1, 81): 8.6,\n",
       " (1, 83): 9.3,\n",
       " (1, 85): 18.5,\n",
       " (1, 87): 11.4,\n",
       " (1, 89): 7.5,\n",
       " (1, 91): 14.8,\n",
       " (1, 93): 15.2,\n",
       " (1, 95): 9.2,\n",
       " (1, 97): 11.1,\n",
       " (1, 99): 18.7,\n",
       " (1, 101): 10.2,\n",
       " (1, 103): 10.4,\n",
       " (1, 105): 19.8,\n",
       " (1, 107): 13.0,\n",
       " (1, 109): 8.7,\n",
       " (1, 111): 15.1,\n",
       " (1, 113): 12.6,\n",
       " (1, 115): 10.7,\n",
       " (1, 117): 7.6,\n",
       " (1, 119): 13.9,\n",
       " (1, 121): 13.6,\n",
       " (1, 123): 13.7,\n",
       " (1, 125): 9.0,\n",
       " (1, 127): 11.9,\n",
       " (1, 129): 15.1,\n",
       " (1, 131): 25.6,\n",
       " (1, 133): 17.5,\n",
       " (2, 13): 10.1,\n",
       " (2, 16): 8.4,\n",
       " (2, 20): 7.0,\n",
       " (2, 50): 14.8,\n",
       " (2, 60): 3.6,\n",
       " (2, 68): 3.4,\n",
       " (2, 70): 8.4,\n",
       " (2, 90): 6.9,\n",
       " (2, 100): 6.2,\n",
       " (2, 110): 5.7,\n",
       " (2, 122): 9.7,\n",
       " (2, 130): 6.1,\n",
       " (2, 150): 6.6,\n",
       " (2, 164): 5.9,\n",
       " (2, 170): 8.8,\n",
       " (2, 180): 12.1,\n",
       " (2, 185): 5.7,\n",
       " (2, 188): 13.2,\n",
       " (2, 201): 13.6,\n",
       " (2, 220): 5.9,\n",
       " (2, 232): 7.3,\n",
       " (2, 240): 8.1,\n",
       " (2, 261): 6.4,\n",
       " (2, 270): 20.4,\n",
       " (2, 280): 9.8,\n",
       " (2, 282): 6.3,\n",
       " (2, 290): 13.6,\n",
       " (4, 1): 14.8,\n",
       " (4, 3): 7.4,\n",
       " (4, 5): 7.7,\n",
       " (4, 7): 10.9,\n",
       " (4, 9): 14.4,\n",
       " (4, 11): 21.5,\n",
       " (4, 12): 8.9,\n",
       " (4, 13): 8.5,\n",
       " (4, 15): 10.2,\n",
       " (4, 17): 14.2,\n",
       " (4, 19): 8.4,\n",
       " (4, 21): 11.8,\n",
       " (4, 23): 17.2,\n",
       " (4, 25): 9.5,\n",
       " (4, 27): 24.2,\n",
       " (5, 1): 14.3,\n",
       " (5, 3): 9.1,\n",
       " (5, 5): 8.2,\n",
       " (5, 7): 5.3,\n",
       " (5, 9): 6.4,\n",
       " (5, 11): 7.8,\n",
       " (5, 13): 6.2,\n",
       " (5, 15): 4.3,\n",
       " (5, 17): 9.6,\n",
       " (5, 19): 6.3,\n",
       " (5, 21): 10.4,\n",
       " (5, 23): 5.9,\n",
       " (5, 25): 6.0,\n",
       " (5, 27): 8.1,\n",
       " (5, 29): 6.5,\n",
       " (5, 31): 5.9,\n",
       " (5, 33): 6.6,\n",
       " (5, 35): 9.9,\n",
       " (5, 37): 7.1,\n",
       " (5, 39): 7.6,\n",
       " (5, 41): 9.9,\n",
       " (5, 43): 9.1,\n",
       " (5, 45): 6.0,\n",
       " (5, 47): 5.9,\n",
       " (5, 49): 6.1,\n",
       " (5, 51): 6.6,\n",
       " (5, 53): 5.7,\n",
       " (5, 55): 8.2,\n",
       " (5, 57): 8.6,\n",
       " (5, 59): 7.3,\n",
       " (5, 61): 7.2,\n",
       " (5, 63): 7.8,\n",
       " (5, 65): 7.7,\n",
       " (5, 67): 9.2,\n",
       " (5, 69): 9.2,\n",
       " (5, 71): 6.1,\n",
       " (5, 73): 8.6,\n",
       " (5, 75): 7.9,\n",
       " (5, 77): 8.2,\n",
       " (5, 79): 8.2,\n",
       " (5, 81): 5.6,\n",
       " (5, 83): 7.7,\n",
       " (5, 85): 5.2,\n",
       " (5, 87): 5.3,\n",
       " (5, 89): 11.2,\n",
       " (5, 91): 4.5,\n",
       " (5, 93): 11.3,\n",
       " (5, 95): 7.4,\n",
       " (5, 97): 5.8,\n",
       " (5, 99): 8.7,\n",
       " (5, 101): 6.2,\n",
       " (5, 103): 7.1,\n",
       " (5, 105): 5.6,\n",
       " (5, 107): 8.8,\n",
       " (5, 109): 6.3,\n",
       " (5, 111): 7.5,\n",
       " (5, 113): 6.4,\n",
       " (5, 115): 6.2,\n",
       " (5, 117): 6.7,\n",
       " (5, 119): 6.0,\n",
       " (5, 121): 7.3,\n",
       " (5, 123): 9.4,\n",
       " (5, 125): 5.8,\n",
       " (5, 127): 6.3,\n",
       " (5, 129): 5.9,\n",
       " (5, 131): 6.2,\n",
       " (5, 133): 5.1,\n",
       " (5, 135): 7.8,\n",
       " (5, 137): 6.6,\n",
       " (5, 139): 9.5,\n",
       " (5, 141): 9.1,\n",
       " (5, 143): 5.0,\n",
       " (5, 145): 6.7,\n",
       " (5, 147): 9.1,\n",
       " (5, 149): 6.4,\n",
       " (6, 1): 11.3,\n",
       " (6, 3): 15.2,\n",
       " (6, 5): 12.1,\n",
       " (6, 7): 12.2,\n",
       " (6, 9): 14.3,\n",
       " (6, 11): 14.5,\n",
       " (6, 13): 11.2,\n",
       " (6, 15): 11.9,\n",
       " (6, 17): 11.2,\n",
       " (6, 19): 14.1,\n",
       " (6, 21): 13.8,\n",
       " (6, 23): 10.3,\n",
       " (6, 25): 30.1,\n",
       " (6, 27): 9.5,\n",
       " (6, 29): 13.9,\n",
       " (6, 31): 13.9,\n",
       " (6, 33): 14.7,\n",
       " (6, 35): 11.8,\n",
       " (6, 37): 12.7,\n",
       " (6, 39): 12.3,\n",
       " (6, 41): 8.0,\n",
       " (6, 43): 8.8,\n",
       " (6, 45): 10.1,\n",
       " (6, 47): 15.7,\n",
       " (6, 49): 11.1,\n",
       " (6, 51): 10.3,\n",
       " (6, 53): 10.0,\n",
       " (6, 55): 8.7,\n",
       " (6, 57): 10.9,\n",
       " (6, 59): 9.4,\n",
       " (6, 61): 11.3,\n",
       " (6, 63): 13.9,\n",
       " (6, 65): 14.7,\n",
       " (6, 67): 12.2,\n",
       " (6, 69): 12.5,\n",
       " (6, 71): 13.6,\n",
       " (6, 73): 10.2,\n",
       " (6, 75): 9.7,\n",
       " (6, 77): 15.5,\n",
       " (6, 79): 9.0,\n",
       " (6, 81): 9.0,\n",
       " (6, 83): 8.5,\n",
       " (6, 85): 11.8,\n",
       " (6, 87): 10.2,\n",
       " (6, 89): 14.7,\n",
       " (6, 91): 13.7,\n",
       " (6, 93): 13.5,\n",
       " (6, 95): 11.5,\n",
       " (6, 97): 9.9,\n",
       " (6, 99): 15.3,\n",
       " (6, 101): 15.1,\n",
       " (6, 103): 13.7,\n",
       " (6, 105): 15.9,\n",
       " (6, 107): 14.9,\n",
       " (6, 109): 12.7,\n",
       " (6, 111): 11.0,\n",
       " (6, 113): 10.9,\n",
       " (6, 115): 17.8,\n",
       " (8, 1): 8.1,\n",
       " (8, 3): 5.5,\n",
       " (8, 5): 6.9,\n",
       " (8, 7): 6.2,\n",
       " (8, 9): 3.4,\n",
       " (8, 11): 5.0,\n",
       " (8, 13): 5.5,\n",
       " (8, 14): 6.6,\n",
       " (8, 15): 5.1,\n",
       " (8, 17): 2.0,\n",
       " (8, 19): 7.0,\n",
       " (8, 21): 5.1,\n",
       " (8, 23): 8.4,\n",
       " (8, 25): 7.6,\n",
       " (8, 27): 5.2,\n",
       " (8, 29): 6.6,\n",
       " (8, 31): 7.7,\n",
       " (8, 33): 13.2,\n",
       " (8, 35): 5.9,\n",
       " (8, 37): 6.2,\n",
       " (8, 39): 6.0,\n",
       " (8, 41): 7.2,\n",
       " (8, 43): 7.7,\n",
       " (8, 45): 5.8,\n",
       " (8, 47): 6.0,\n",
       " (8, 49): 5.8,\n",
       " (8, 51): 4.4,\n",
       " (8, 53): 2.2,\n",
       " (8, 55): 7.2,\n",
       " (8, 57): 3.3,\n",
       " (8, 59): 6.7,\n",
       " (8, 61): 2.8,\n",
       " (8, 63): 2.9,\n",
       " (8, 65): 7.1,\n",
       " (8, 67): 4.7,\n",
       " (8, 69): 5.6,\n",
       " (8, 71): 7.0,\n",
       " (8, 73): 3.7,\n",
       " (8, 75): 4.6,\n",
       " (8, 77): 8.2,\n",
       " (8, 79): 5.3,\n",
       " (8, 81): 5.6,\n",
       " (8, 83): 6.3,\n",
       " (8, 85): 6.9,\n",
       " (8, 87): 4.9,\n",
       " (8, 89): 5.8,\n",
       " (8, 91): 4.1,\n",
       " (8, 93): 6.1,\n",
       " (8, 95): 2.6,\n",
       " (8, 97): 5.0,\n",
       " (8, 99): 5.0,\n",
       " (8, 101): 7.5,\n",
       " (8, 103): 3.9,\n",
       " (8, 105): 4.8,\n",
       " (8, 107): 6.0,\n",
       " (8, 109): 7.8,\n",
       " (8, 111): 5.3,\n",
       " (8, 113): 4.2,\n",
       " (8, 115): 3.3,\n",
       " (8, 117): 5.8,\n",
       " (8, 119): 6.7,\n",
       " (8, 121): 3.2,\n",
       " (8, 123): 7.5,\n",
       " (8, 125): 2.6,\n",
       " (9, 1): 7.8,\n",
       " (9, 3): 8.8,\n",
       " (9, 5): 7.9,\n",
       " (9, 7): 6.7,\n",
       " (9, 9): 8.9,\n",
       " (9, 11): 7.6,\n",
       " (9, 13): 6.7,\n",
       " (9, 15): 9.0,\n",
       " (10, 1): 7.9,\n",
       " (10, 3): 8.6,\n",
       " (10, 5): 7.3,\n",
       " (11, 1): 11.7,\n",
       " (12, 1): 7.1,\n",
       " (12, 3): 11.4,\n",
       " (12, 5): 8.9,\n",
       " (12, 7): 8.3,\n",
       " (12, 9): 11.1,\n",
       " (12, 11): 9.8,\n",
       " (12, 13): 8.2,\n",
       " (12, 15): 12.7,\n",
       " (12, 17): 12.1,\n",
       " (12, 19): 9.8,\n",
       " (12, 21): 13.1,\n",
       " (12, 23): 9.0,\n",
       " (12, 27): 11.7,\n",
       " (12, 29): 12.3,\n",
       " (12, 31): 11.2,\n",
       " (12, 33): 9.8,\n",
       " (12, 35): 16.2,\n",
       " (12, 37): 7.1,\n",
       " (12, 39): 9.6,\n",
       " (12, 41): 10.0,\n",
       " (12, 43): 10.0,\n",
       " (12, 45): 9.8,\n",
       " (12, 47): 11.3,\n",
       " (12, 49): 12.6,\n",
       " (12, 51): 16.8,\n",
       " (12, 53): 13.8,\n",
       " (12, 55): 11.6,\n",
       " (12, 57): 11.5,\n",
       " (12, 59): 7.2,\n",
       " (12, 61): 15.2,\n",
       " (12, 63): 7.2,\n",
       " (12, 65): 8.5,\n",
       " (12, 67): 7.2,\n",
       " (12, 69): 12.3,\n",
       " (12, 71): 13.9,\n",
       " (12, 73): 7.2,\n",
       " (12, 75): 12.1,\n",
       " (12, 77): 5.3,\n",
       " (12, 79): 11.7,\n",
       " (12, 81): 12.7,\n",
       " (12, 83): 13.3,\n",
       " (12, 85): 11.9,\n",
       " (12, 86): 11.3,\n",
       " (12, 87): 7.0,\n",
       " (12, 89): 10.7,\n",
       " (12, 91): 7.2,\n",
       " (12, 93): 13.3,\n",
       " (12, 95): 11.4,\n",
       " (12, 97): 12.8,\n",
       " (12, 99): 11.7,\n",
       " (12, 101): 12.5,\n",
       " (12, 103): 11.2,\n",
       " (12, 105): 12.7,\n",
       " (12, 107): 12.2,\n",
       " (12, 109): 9.0,\n",
       " (12, 111): 15.3,\n",
       " (12, 113): 9.4,\n",
       " (12, 115): 12.3,\n",
       " (12, 117): 10.6,\n",
       " (12, 119): 9.0,\n",
       " (12, 121): 9.8,\n",
       " (12, 123): 10.4,\n",
       " (12, 125): 8.4,\n",
       " (12, 127): 11.7,\n",
       " (12, 129): 7.2,\n",
       " (12, 131): 6.8,\n",
       " (12, 133): 9.6,\n",
       " (13, 1): 9.7,\n",
       " (13, 3): 12.6,\n",
       " (13, 5): 8.5,\n",
       " (13, 7): 9.1,\n",
       " (13, 9): 11.6,\n",
       " (13, 11): 6.7,\n",
       " (13, 13): 11.1,\n",
       " (13, 15): 13.3,\n",
       " (13, 17): 15.3,\n",
       " (13, 19): 12.4,\n",
       " (13, 21): 10.0,\n",
       " (13, 23): 9.7,\n",
       " (13, 25): 11.6,\n",
       " (13, 27): 8.7,\n",
       " (13, 29): 8.1,\n",
       " (13, 31): 9.0,\n",
       " (13, 33): 12.2,\n",
       " (13, 35): 12.7,\n",
       " (13, 37): 11.1,\n",
       " (13, 39): 9.1,\n",
       " (13, 43): 9.3,\n",
       " (13, 45): 10.8,\n",
       " (13, 47): 8.0,\n",
       " (13, 49): 10.6,\n",
       " (13, 51): 8.5,\n",
       " (13, 53): 14.6,\n",
       " (13, 55): 11.4,\n",
       " (13, 57): 9.5,\n",
       " (13, 59): 7.0,\n",
       " (13, 61): 8.2,\n",
       " (13, 63): 12.3,\n",
       " (13, 65): 11.0,\n",
       " (13, 67): 9.6,\n",
       " (13, 69): 16.8,\n",
       " (13, 71): 9.0,\n",
       " (13, 73): 7.0,\n",
       " (13, 75): 11.9,\n",
       " (13, 77): 10.0,\n",
       " (13, 79): 9.5,\n",
       " (13, 81): 12.1,\n",
       " (13, 83): 9.0,\n",
       " (13, 85): 10.1,\n",
       " (13, 87): 12.7,\n",
       " (13, 89): 10.7,\n",
       " (13, 91): 11.2,\n",
       " (13, 93): 10.1,\n",
       " (13, 95): 11.1,\n",
       " (13, 97): 11.4,\n",
       " (13, 99): 10.5,\n",
       " (13, 101): 6.7,\n",
       " (13, 103): 7.9,\n",
       " (13, 105): 12.2,\n",
       " (13, 107): 10.3,\n",
       " (13, 109): 8.9,\n",
       " (13, 111): 10.0,\n",
       " (13, 113): 8.4,\n",
       " (13, 115): 11.1,\n",
       " (13, 117): 8.6,\n",
       " (13, 119): 11.8,\n",
       " (13, 121): 10.7,\n",
       " (13, 123): 9.8,\n",
       " (13, 125): 11.1,\n",
       " (13, 127): 8.2,\n",
       " (13, 129): 13.1,\n",
       " (13, 131): 9.8,\n",
       " (13, 133): 11.1,\n",
       " (13, 135): 9.4,\n",
       " (13, 137): 9.4,\n",
       " (13, 139): 9.1,\n",
       " (13, 141): 17.7,\n",
       " (13, 143): 11.3,\n",
       " (13, 145): 7.2,\n",
       " (13, 147): 13.8,\n",
       " (13, 149): 12.4,\n",
       " (13, 151): 10.4,\n",
       " (13, 153): 7.3,\n",
       " (13, 155): 14.5,\n",
       " (13, 157): 10.9,\n",
       " (13, 159): 12.7,\n",
       " (13, 161): 13.5,\n",
       " (13, 163): 14.9,\n",
       " (13, 165): 19.6,\n",
       " (13, 167): 11.9,\n",
       " (13, 169): 8.6,\n",
       " (13, 171): 15.3,\n",
       " (13, 173): 8.4,\n",
       " (13, 175): 10.8,\n",
       " (13, 177): 7.9,\n",
       " (13, 179): 8.5,\n",
       " (13, 181): 10.3,\n",
       " (13, 183): 5.9,\n",
       " (13, 185): 8.2,\n",
       " (13, 187): 11.1,\n",
       " (13, 189): 12.1,\n",
       " (13, 191): 9.6,\n",
       " (13, 193): 13.0,\n",
       " (13, 195): 8.3,\n",
       " (13, 197): 9.9,\n",
       " (13, 199): 13.2,\n",
       " (13, 201): 8.7,\n",
       " (13, 205): 10.4,\n",
       " (13, 207): 10.2,\n",
       " (13, 209): 8.5,\n",
       " (13, 211): 9.8,\n",
       " (13, 213): 12.3,\n",
       " (13, 215): 9.2,\n",
       " (13, 217): 12.6,\n",
       " (13, 219): 6.2,\n",
       " (13, 221): 8.2,\n",
       " (13, 223): 10.7,\n",
       " (13, 225): 10.2,\n",
       " (13, 227): 10.8,\n",
       " (13, 229): 9.3,\n",
       " (13, 231): 11.8,\n",
       " (13, 233): 10.8,\n",
       " (13, 235): 7.1,\n",
       " (13, 237): 10.4,\n",
       " (13, 239): 11.8,\n",
       " (13, 241): 10.4,\n",
       " (13, 243): 13.0,\n",
       " (13, 245): 10.3,\n",
       " (13, 247): 12.0,\n",
       " (13, 249): 13.8,\n",
       " (13, 251): 13.7,\n",
       " (13, 253): 10.7,\n",
       " (13, 255): 15.4,\n",
       " (13, 257): 10.7,\n",
       " (13, 259): 10.7,\n",
       " (13, 261): 12.9,\n",
       " (13, 263): 9.8,\n",
       " (13, 265): 12.4,\n",
       " (13, 267): 8.7,\n",
       " (13, 269): 13.0,\n",
       " (13, 271): 16.2,\n",
       " (13, 273): 11.6,\n",
       " (13, 275): 9.3,\n",
       " (13, 277): 10.6,\n",
       " (13, 279): 9.8,\n",
       " (13, 281): 7.8,\n",
       " (13, 283): 11.9,\n",
       " (13, 285): 12.9,\n",
       " (13, 287): 13.0,\n",
       " (13, 289): 11.4,\n",
       " (13, 291): 9.0,\n",
       " (13, 293): 13.3,\n",
       " (13, 295): 9.6,\n",
       " (13, 297): 11.0,\n",
       " (13, 299): 10.7,\n",
       " (13, 301): 18.8,\n",
       " (13, 303): 14.0,\n",
       " (13, 305): 11.7,\n",
       " (13, 307): 9.1,\n",
       " (13, 309): 9.1,\n",
       " (13, 311): 9.5,\n",
       " (13, 313): 12.5,\n",
       " (13, 315): 11.6,\n",
       " (13, 317): 11.7,\n",
       " (13, 319): 10.7,\n",
       " (13, 321): 10.8,\n",
       " (15, 1): 10.8,\n",
       " (15, 3): 6.3,\n",
       " (15, 7): 9.6,\n",
       " (15, 9): 9.7,\n",
       " (16, 1): 9.1,\n",
       " (16, 3): 12.1,\n",
       " (16, 5): 8.4,\n",
       " (16, 7): 5.2,\n",
       " (16, 9): 12.1,\n",
       " (16, 11): 5.9,\n",
       " (16, 13): 7.7,\n",
       " (16, 15): 7.1,\n",
       " (16, 17): 9.5,\n",
       " (16, 19): 5.9,\n",
       " (16, 21): 12.0,\n",
       " (16, 23): 4.5,\n",
       " (16, 25): 11.0,\n",
       " (16, 27): 10.6,\n",
       " (16, 29): 6.0,\n",
       " (16, 31): 5.9,\n",
       " (16, 33): 4.1,\n",
       " (16, 35): 11.8,\n",
       " (16, 37): 3.9,\n",
       " (16, 39): 7.7,\n",
       " (16, 41): 4.0,\n",
       " (16, 43): 6.6,\n",
       " (16, 45): 10.4,\n",
       " (16, 47): 5.5,\n",
       " (16, 49): 8.3,\n",
       " (16, 51): 6.8,\n",
       " (16, 53): 5.9,\n",
       " (16, 55): 8.7,\n",
       " (16, 57): 5.9,\n",
       " (16, 59): 6.5,\n",
       " (16, 61): 5.2,\n",
       " (16, 63): 9.7,\n",
       " (16, 65): 5.5,\n",
       " (16, 67): 6.0,\n",
       " (16, 69): 5.5,\n",
       " (16, 71): 5.0,\n",
       " (16, 73): 4.1,\n",
       " (16, 75): 7.7,\n",
       " (16, 77): 6.7,\n",
       " (16, 79): 11.9,\n",
       " (16, 81): 5.1,\n",
       " (16, 83): 6.8,\n",
       " (16, 85): 11.4,\n",
       " (16, 87): 8.4,\n",
       " (17, 1): 7.9,\n",
       " (17, 3): 11.2,\n",
       " (17, 5): 9.3,\n",
       " (17, 7): 13.8,\n",
       " (17, 9): 4.5,\n",
       " (17, 11): 10.9,\n",
       " (17, 13): 9.5,\n",
       " (17, 15): 10.5,\n",
       " (17, 17): 7.3,\n",
       " (17, 19): 8.2,\n",
       " (17, 21): 9.9,\n",
       " (17, 23): 13.1,\n",
       " (17, 25): 11.4,\n",
       " (17, 27): 7.9,\n",
       " (17, 29): 9.1,\n",
       " (17, 31): 10.6,\n",
       " (17, 33): 10.5,\n",
       " (17, 35): 9.7,\n",
       " (17, 37): 9.2,\n",
       " (17, 39): 9.2,\n",
       " (17, 41): 9.1,\n",
       " (17, 43): 8.6,\n",
       " (17, 45): 10.7,\n",
       " (17, 47): 9.1,\n",
       " (17, 49): 7.9,\n",
       " (17, 51): 11.6,\n",
       " (17, 53): 10.4,\n",
       " (17, 55): 14.6,\n",
       " (17, 57): 12.5,\n",
       " (17, 59): 11.0,\n",
       " (17, 61): 9.2,\n",
       " (17, 63): 11.4,\n",
       " (17, 65): 9.3,\n",
       " (17, 67): 11.3,\n",
       " (17, 69): 12.8,\n",
       " (17, 71): 9.4,\n",
       " (17, 73): 8.6,\n",
       " (17, 75): 10.0,\n",
       " (17, 77): 7.3,\n",
       " (17, 79): 9.5,\n",
       " (17, 81): 10.0,\n",
       " (17, 83): 8.8,\n",
       " (17, 85): 8.1,\n",
       " (17, 87): 10.4,\n",
       " (17, 89): 9.9,\n",
       " (17, 91): 12.8,\n",
       " (17, 93): 10.4,\n",
       " (17, 95): 10.3,\n",
       " (17, 97): 10.0,\n",
       " (17, 99): 12.4,\n",
       " (17, 101): 10.3,\n",
       " (17, 103): 10.9,\n",
       " (17, 105): 10.7,\n",
       " (17, 107): 9.5,\n",
       " (17, 109): 7.7,\n",
       " (17, 111): 9.3,\n",
       " (17, 113): 7.4,\n",
       " (17, 115): 12.4,\n",
       " (17, 117): 10.5,\n",
       " (17, 119): 9.7,\n",
       " (17, 121): 11.9,\n",
       " (17, 123): 10.6,\n",
       " (17, 125): 14.3,\n",
       " (17, 127): 8.0,\n",
       " (17, 129): 7.8,\n",
       " (17, 131): 8.9,\n",
       " (17, 133): 7.8,\n",
       " (17, 135): 12.2,\n",
       " (17, 137): 8.4,\n",
       " (17, 139): 9.0,\n",
       " (17, 141): 11.9,\n",
       " (17, 143): 11.6,\n",
       " (17, 145): 11.9,\n",
       " (17, 147): 8.2,\n",
       " (17, 149): 8.1,\n",
       " (17, 151): 10.6,\n",
       " (17, 153): 11.9,\n",
       " (17, 155): 15.0,\n",
       " (17, 157): 9.4,\n",
       " (17, 159): 10.5,\n",
       " (17, 161): 9.5,\n",
       " (17, 163): 10.8,\n",
       " (17, 165): 11.2,\n",
       " (17, 167): 7.9,\n",
       " (17, 169): 6.6,\n",
       " (17, 171): 7.5,\n",
       " (17, 173): 10.0,\n",
       " (17, 175): 9.8,\n",
       " (17, 177): 11.6,\n",
       " (17, 179): 11.3,\n",
       " (17, 181): 10.8,\n",
       " (17, 183): 12.0,\n",
       " (17, 185): 10.3,\n",
       " (17, 187): 8.0,\n",
       " (17, 189): 8.0,\n",
       " (17, 191): 9.7,\n",
       " (17, 193): 8.6,\n",
       " (17, 195): 10.6,\n",
       " (17, 197): 9.9,\n",
       " (17, 199): 9.6,\n",
       " (17, 201): 15.5,\n",
       " (17, 203): 8.6,\n",
       " (18, 1): 13.4,\n",
       " (18, 3): 9.3,\n",
       " (18, 5): 8.8,\n",
       " (18, 7): 9.0,\n",
       " (18, 9): 13.3,\n",
       " (18, 11): 6.8,\n",
       " (18, 13): 7.8,\n",
       " (18, 15): 9.9,\n",
       " (18, 17): 10.5,\n",
       " (18, 19): 8.2,\n",
       " (18, 21): 9.6,\n",
       " (18, 23): 9.2,\n",
       " (18, 25): 10.5,\n",
       " (18, 27): 4.9,\n",
       " (18, 29): 8.9,\n",
       " (18, 31): 11.0,\n",
       " (18, 33): 12.4,\n",
       " (18, 35): 9.5,\n",
       " (18, 37): 8.0,\n",
       " (18, 39): 15.0,\n",
       " (18, 41): 13.4,\n",
       " (18, 43): 7.4,\n",
       " (18, 45): 11.6,\n",
       " (18, 47): 8.9,\n",
       " (18, 49): 11.2,\n",
       " (18, 51): 6.7,\n",
       " (18, 53): 11.1,\n",
       " (18, 55): 7.1,\n",
       " (18, 57): 6.1,\n",
       " (18, 59): 7.8,\n",
       " (18, 61): 7.8,\n",
       " (18, 63): 6.8,\n",
       " (18, 65): 12.0,\n",
       " (18, 67): 11.9,\n",
       " (18, 69): 11.1,\n",
       " (18, 71): 10.1,\n",
       " (18, 73): 8.7,\n",
       " (18, 75): 10.4,\n",
       " (18, 77): 9.5,\n",
       " (18, 79): 12.2,\n",
       " (18, 81): 7.4,\n",
       " (18, 83): 6.6,\n",
       " (18, 85): 11.0,\n",
       " (18, 87): 14.0,\n",
       " (18, 89): 9.4,\n",
       " (18, 91): 10.7,\n",
       " (18, 93): 11.1,\n",
       " (18, 95): 9.7,\n",
       " (18, 97): 8.4,\n",
       " (18, 99): 11.4,\n",
       " (18, 101): 6.3,\n",
       " (18, 103): 12.3,\n",
       " (18, 105): 5.6,\n",
       " (18, 107): 9.7,\n",
       " (18, 109): 7.5,\n",
       " (18, 111): 8.9,\n",
       " (18, 113): 14.5,\n",
       " (18, 115): 10.5,\n",
       " (18, 117): 9.2,\n",
       " (18, 119): 8.1,\n",
       " (18, 121): 8.3,\n",
       " (18, 123): 8.8,\n",
       " (18, 125): 8.7,\n",
       " (18, 127): 8.2,\n",
       " (18, 129): 7.0,\n",
       " (18, 131): 9.5,\n",
       " (18, 133): 8.2,\n",
       " (18, 135): 10.2,\n",
       " (18, 137): 9.1,\n",
       " (18, 139): 9.5,\n",
       " (18, 141): 10.4,\n",
       " (18, 143): 12.1,\n",
       " (18, 145): 8.8,\n",
       " (18, 147): 8.1,\n",
       " (18, 149): 12.6,\n",
       " (18, 151): 12.9,\n",
       " (18, 153): 9.3,\n",
       " (18, 155): 7.0,\n",
       " (18, 157): 8.5,\n",
       " (18, 159): 10.3,\n",
       " (18, 161): 8.6,\n",
       " (18, 163): 7.4,\n",
       " (18, 165): 10.8,\n",
       " (18, 167): 9.2,\n",
       " (18, 169): 12.0,\n",
       " (18, 171): 10.1,\n",
       " (18, 173): 6.9,\n",
       " (18, 175): 11.2,\n",
       " (18, 177): 10.9,\n",
       " (18, 179): 9.1,\n",
       " (18, 181): 9.4,\n",
       " (18, 183): 11.6,\n",
       " (19, 1): 5.1,\n",
       " (19, 3): 6.0,\n",
       " (19, 5): 9.3,\n",
       " (19, 7): 9.4,\n",
       " (19, 9): 5.1,\n",
       " (19, 11): 5.8,\n",
       " (19, 13): 5.8,\n",
       " (19, 15): 5.9,\n",
       " (19, 17): 5.0,\n",
       " (19, 19): 5.9,\n",
       " (19, 21): 5.5,\n",
       " (19, 23): 6.0,\n",
       " (19, 25): 5.4,\n",
       " (19, 27): 4.2,\n",
       " (19, 29): 5.8,\n",
       " (19, 31): 5.7,\n",
       " (19, 33): 6.7,\n",
       " (19, 35): 4.4,\n",
       " (19, 37): 8.4,\n",
       " (19, 39): 7.4,\n",
       " (19, 41): 6.2,\n",
       " (19, 43): 7.9,\n",
       " (19, 45): 7.7,\n",
       " (19, 47): 4.7,\n",
       " (19, 49): 5.1,\n",
       " (19, 51): 10.1,\n",
       " (19, 53): 6.6,\n",
       " (19, 55): 6.8,\n",
       " (19, 57): 8.2,\n",
       " (19, 59): 5.8,\n",
       " (19, 61): 6.0,\n",
       " (19, 63): 8.6,\n",
       " (19, 65): 8.5,\n",
       " (19, 67): 8.7,\n",
       " (19, 69): 7.0,\n",
       " (19, 71): 7.0,\n",
       " (19, 73): 6.3,\n",
       " (19, 75): 4.9,\n",
       " (19, 77): 5.6,\n",
       " (19, 79): 8.1,\n",
       " (19, 81): 9.0,\n",
       " (19, 83): 6.0,\n",
       " (19, 85): 4.4,\n",
       " (19, 87): 8.8,\n",
       " (19, 89): 8.6,\n",
       " (19, 91): 6.2,\n",
       " (19, 93): 5.8,\n",
       " (19, 95): 5.8,\n",
       " (19, 97): 7.7,\n",
       " (19, 99): 8.1,\n",
       " (19, 101): 8.7,\n",
       " (19, 103): 4.4,\n",
       " (19, 105): 6.3,\n",
       " (19, 107): 7.1,\n",
       " (19, 109): 5.6,\n",
       " (19, 111): 11.4,\n",
       " (19, 113): 6.5,\n",
       " (19, 115): 8.0,\n",
       " (19, 117): 6.0,\n",
       " (19, 119): 4.3,\n",
       " (19, 121): 5.8,\n",
       " (19, 123): 7.7,\n",
       " (19, 125): 5.7,\n",
       " (19, 127): 7.0,\n",
       " (19, 129): 4.3,\n",
       " (19, 131): 5.4,\n",
       " (19, 133): 7.1,\n",
       " (19, 135): 7.5,\n",
       " (19, 137): 8.7,\n",
       " (19, 139): 8.9,\n",
       " (19, 141): 5.3,\n",
       " (19, 143): 5.4,\n",
       " (19, 145): 8.7,\n",
       " (19, 147): 7.0,\n",
       " (19, 149): 4.7,\n",
       " (19, 151): 5.2,\n",
       " (19, 153): 6.2,\n",
       " (19, 155): 4.8,\n",
       " (19, 157): 6.6,\n",
       " (19, 159): 5.3,\n",
       " (19, 161): 4.7,\n",
       " (19, 163): 7.3,\n",
       " (19, 165): 3.9,\n",
       " (19, 167): 4.1,\n",
       " (19, 169): 4.5,\n",
       " (19, 171): 6.6,\n",
       " (19, 173): 6.7,\n",
       " (19, 175): 6.0,\n",
       " (19, 177): 8.0,\n",
       " (19, 179): 9.4,\n",
       " (19, 181): 5.8,\n",
       " (19, 183): 4.9,\n",
       " (19, 185): 6.4,\n",
       " (19, 187): 8.3,\n",
       " (19, 189): 9.1,\n",
       " (19, 191): 5.8,\n",
       " (19, 193): 5.7,\n",
       " (19, 195): 6.3,\n",
       " (19, 197): 8.4,\n",
       " (20, 1): 7.8,\n",
       " (20, 3): 7.9,\n",
       " (20, 5): 8.1,\n",
       " (20, 7): 5.1,\n",
       " (20, 9): 6.1,\n",
       " (20, 11): 6.5,\n",
       " (20, 13): 5.6,\n",
       " (20, 15): 7.2,\n",
       " (20, 17): 5.4,\n",
       " (20, 19): 8.4,\n",
       " (20, 21): 8.5,\n",
       " (20, 23): 3.7,\n",
       " (20, 25): 3.7,\n",
       " (20, 27): 4.2,\n",
       " (20, 29): 4.5,\n",
       " (20, 31): 5.7,\n",
       " (20, 33): 3.8,\n",
       " (20, 35): 7.6,\n",
       " (20, 37): 8.1,\n",
       " (20, 39): 3.3,\n",
       " (20, 41): 5.1,\n",
       " (20, 43): 8.8,\n",
       " (20, 45): 5.4,\n",
       " (20, 47): 4.4,\n",
       " (20, 49): 11.0,\n",
       " (20, 51): 3.6,\n",
       " (20, 53): 4.1,\n",
       " (20, 55): 4.3,\n",
       " (20, 57): 3.8,\n",
       " (20, 59): 7.1,\n",
       " (20, 61): 6.9,\n",
       " (20, 63): 3.5,\n",
       " (20, 65): 4.3,\n",
       " (20, 67): 4.2,\n",
       " (20, 69): 3.4,\n",
       " (20, 71): 4.5,\n",
       " (20, 73): 7.2,\n",
       " (20, 75): 4.2,\n",
       " (20, 77): 5.6,\n",
       " (20, 79): 7.4,\n",
       " (20, 81): 3.7,\n",
       " (20, 83): 4.2,\n",
       " (20, 85): 6.0,\n",
       " (20, 87): 6.7,\n",
       " (20, 89): 4.9,\n",
       " (20, 91): 6.8,\n",
       " (20, 93): 4.5,\n",
       " (20, 95): 6.3,\n",
       " (20, 97): 4.9,\n",
       " (20, 99): 7.8,\n",
       " (20, 101): 3.4,\n",
       " (20, 103): 7.3,\n",
       " (20, 105): 6.3,\n",
       " (20, 107): 8.4,\n",
       " (20, 109): 4.0,\n",
       " (20, 111): 5.7,\n",
       " (20, 113): 5.1,\n",
       " (20, 115): 6.3,\n",
       " (20, 117): 4.9,\n",
       " (20, 119): 4.2,\n",
       " (20, 121): 6.8,\n",
       " (20, 123): 5.8,\n",
       " (20, 125): 9.4,\n",
       " (20, 127): 6.8,\n",
       " (20, 129): 4.7,\n",
       " (20, 131): 4.3,\n",
       " (20, 133): 7.0,\n",
       " (20, 135): 4.0,\n",
       " (20, 137): 4.7,\n",
       " (20, 139): 7.0,\n",
       " (20, 141): 4.4,\n",
       " (20, 143): 6.5,\n",
       " (20, 145): 3.7,\n",
       " (20, 147): 6.0,\n",
       " (20, 149): 4.1,\n",
       " (20, 151): 5.3,\n",
       " (20, 153): 3.5,\n",
       " (20, 155): 6.3,\n",
       " (20, 157): 4.1,\n",
       " (20, 159): 5.1,\n",
       " (20, 161): 3.2,\n",
       " (20, 163): 7.3,\n",
       " (20, 165): 5.9,\n",
       " (20, 167): 4.6,\n",
       " (20, 169): 5.7,\n",
       " (20, 171): 3.2,\n",
       " (20, 173): 8.8,\n",
       " (20, 175): 5.1,\n",
       " (20, 177): 6.4,\n",
       " (20, 179): 3.2,\n",
       " (20, 181): 3.9,\n",
       " (20, 183): 4.3,\n",
       " (20, 185): 6.1,\n",
       " (20, 187): 3.4,\n",
       " (20, 189): 5.3,\n",
       " (20, 191): 9.0,\n",
       " (20, 193): 3.6,\n",
       " (20, 195): 3.6,\n",
       " (20, 197): 6.6,\n",
       " (20, 199): 5.9,\n",
       " (20, 201): 4.5,\n",
       " (20, 203): 3.5,\n",
       " (20, 205): 10.2,\n",
       " (20, 207): 8.9,\n",
       " (20, 209): 10.4,\n",
       " (21, 1): 10.1,\n",
       " (21, 3): 14.3,\n",
       " (21, 5): 10.9,\n",
       " (21, 7): 10.2,\n",
       " (21, 9): 11.6,\n",
       " (21, 11): 13.3,\n",
       " (21, 13): 12.5,\n",
       " (21, 15): 9.2,\n",
       " (21, 17): 9.1,\n",
       " (21, 19): 8.3,\n",
       " ...}"
      ]
     },
     "execution_count": 18,
     "metadata": {},
     "output_type": "execute_result"
    }
   ],
   "source": [
    "unemployment"
   ]
  },
  {
   "cell_type": "code",
   "execution_count": 19,
   "metadata": {},
   "outputs": [],
   "source": [
    "counties = {\n",
    "    code: county for code, county in counties.items() if county[\"state\"] == \"tx\"\n",
    "}\n",
    "\n",
    "county_xs = [county[\"lons\"] for county in counties.values()]\n",
    "county_ys = [county[\"lats\"] for county in counties.values()]\n",
    "\n",
    "county_names = [county['name'] for county in counties.values()]\n",
    "county_rates = [unemployment[county_id] for county_id in counties]\n",
    "color_mapper = LogColorMapper(palette=palette)\n",
    "\n",
    "data=dict(\n",
    "    x=county_xs,\n",
    "    y=county_ys,\n",
    "    name=county_names,\n",
    "    rate=county_rates,\n",
    ")\n",
    "\n",
    "TOOLS = \"pan,wheel_zoom,reset,hover,save\"\n",
    "\n",
    "p = figure(\n",
    "    title=\"Texas Unemployment, 2009\", tools=TOOLS,\n",
    "    x_axis_location=None, y_axis_location=None,\n",
    "    tooltips=[\n",
    "        (\"Name\", \"@name\"), (\"Unemployment rate)\", \"@rate%\"), (\"(Long, Lat)\", \"($x, $y)\")\n",
    "    ])\n",
    "p.grid.grid_line_color = None\n",
    "p.hover.point_policy = \"follow_mouse\"\n",
    "\n",
    "p.patches('x', 'y', source=data,\n",
    "          fill_color={'field': 'rate', 'transform': color_mapper},\n",
    "          fill_alpha=0.7, line_color=\"white\", line_width=0.5)\n",
    "\n",
    "\n",
    "\n",
    "# save to file\n",
    "output_file('bokeh-example.html')\n",
    "\n",
    "# and/or show in browser\n",
    "show(p)"
   ]
  },
  {
   "cell_type": "code",
   "execution_count": null,
   "metadata": {},
   "outputs": [],
   "source": []
  },
  {
   "cell_type": "code",
   "execution_count": null,
   "metadata": {},
   "outputs": [],
   "source": []
  },
  {
   "cell_type": "markdown",
   "metadata": {},
   "source": [
    "## An example with plotly\n",
    "\n",
    "plotly is an extensive visualization library that is part of a larger ecosystem\n",
    "to build dashboards and apps. But what's nice is that since pandas 0.25, you can\n",
    "even use it as a drop-in replacement for matplotlib as backend. It's just one\n",
    "line: `pd.options.plotting.backend = \"plotly\"`\n",
    "\n",
    "Read more here: https://plotly.com/python/pandas-backend/\n"
   ]
  },
  {
   "cell_type": "code",
   "execution_count": 20,
   "metadata": {},
   "outputs": [
    {
     "data": {
      "application/vnd.plotly.v1+json": {
       "config": {
        "plotlyServerURL": "https://plot.ly"
       },
       "data": [
        {
         "hovertemplate": "age=%{x}<br>average=%{y}<extra></extra>",
         "legendgroup": "",
         "marker": {
          "color": "#636efa",
          "symbol": "circle"
         },
         "mode": "markers",
         "name": "",
         "orientation": "v",
         "showlegend": false,
         "type": "scatter",
         "x": [
          53,
          26,
          61,
          49,
          45,
          65,
          77,
          30,
          17,
          71,
          56,
          18,
          50,
          31,
          23,
          49,
          83,
          56,
          68,
          30,
          33,
          15,
          70,
          69,
          49,
          58,
          45,
          43,
          64,
          36,
          45,
          65,
          38,
          21,
          44,
          13,
          54,
          17,
          28,
          38,
          18,
          20,
          37,
          68,
          45,
          18,
          17,
          71,
          46,
          24
         ],
         "xaxis": "x",
         "y": [
          1.75,
          4,
          2.75,
          5.5,
          4.5,
          1.75,
          3,
          2,
          1.25,
          3.25,
          4.5,
          4.75,
          4.25,
          0,
          3.75,
          1.25,
          3.75,
          5,
          4.5,
          4.75,
          2.5,
          0.75,
          4.5,
          3,
          5.25,
          3.5,
          2.25,
          4.75,
          6,
          4,
          4.75,
          0.75,
          3.75,
          1.5,
          1.25,
          1.25,
          6.5,
          0,
          5,
          5,
          1.75,
          0.5,
          1.5,
          4.25,
          4.25,
          2.75,
          0,
          5.5,
          2.25,
          3
         ],
         "yaxis": "y"
        }
       ],
       "layout": {
        "legend": {
         "tracegroupgap": 0
        },
        "margin": {
         "t": 60
        },
        "template": {
         "data": {
          "bar": [
           {
            "error_x": {
             "color": "#2a3f5f"
            },
            "error_y": {
             "color": "#2a3f5f"
            },
            "marker": {
             "line": {
              "color": "#E5ECF6",
              "width": 0.5
             },
             "pattern": {
              "fillmode": "overlay",
              "size": 10,
              "solidity": 0.2
             }
            },
            "type": "bar"
           }
          ],
          "barpolar": [
           {
            "marker": {
             "line": {
              "color": "#E5ECF6",
              "width": 0.5
             },
             "pattern": {
              "fillmode": "overlay",
              "size": 10,
              "solidity": 0.2
             }
            },
            "type": "barpolar"
           }
          ],
          "carpet": [
           {
            "aaxis": {
             "endlinecolor": "#2a3f5f",
             "gridcolor": "white",
             "linecolor": "white",
             "minorgridcolor": "white",
             "startlinecolor": "#2a3f5f"
            },
            "baxis": {
             "endlinecolor": "#2a3f5f",
             "gridcolor": "white",
             "linecolor": "white",
             "minorgridcolor": "white",
             "startlinecolor": "#2a3f5f"
            },
            "type": "carpet"
           }
          ],
          "choropleth": [
           {
            "colorbar": {
             "outlinewidth": 0,
             "ticks": ""
            },
            "type": "choropleth"
           }
          ],
          "contour": [
           {
            "colorbar": {
             "outlinewidth": 0,
             "ticks": ""
            },
            "colorscale": [
             [
              0,
              "#0d0887"
             ],
             [
              0.1111111111111111,
              "#46039f"
             ],
             [
              0.2222222222222222,
              "#7201a8"
             ],
             [
              0.3333333333333333,
              "#9c179e"
             ],
             [
              0.4444444444444444,
              "#bd3786"
             ],
             [
              0.5555555555555556,
              "#d8576b"
             ],
             [
              0.6666666666666666,
              "#ed7953"
             ],
             [
              0.7777777777777778,
              "#fb9f3a"
             ],
             [
              0.8888888888888888,
              "#fdca26"
             ],
             [
              1,
              "#f0f921"
             ]
            ],
            "type": "contour"
           }
          ],
          "contourcarpet": [
           {
            "colorbar": {
             "outlinewidth": 0,
             "ticks": ""
            },
            "type": "contourcarpet"
           }
          ],
          "heatmap": [
           {
            "colorbar": {
             "outlinewidth": 0,
             "ticks": ""
            },
            "colorscale": [
             [
              0,
              "#0d0887"
             ],
             [
              0.1111111111111111,
              "#46039f"
             ],
             [
              0.2222222222222222,
              "#7201a8"
             ],
             [
              0.3333333333333333,
              "#9c179e"
             ],
             [
              0.4444444444444444,
              "#bd3786"
             ],
             [
              0.5555555555555556,
              "#d8576b"
             ],
             [
              0.6666666666666666,
              "#ed7953"
             ],
             [
              0.7777777777777778,
              "#fb9f3a"
             ],
             [
              0.8888888888888888,
              "#fdca26"
             ],
             [
              1,
              "#f0f921"
             ]
            ],
            "type": "heatmap"
           }
          ],
          "heatmapgl": [
           {
            "colorbar": {
             "outlinewidth": 0,
             "ticks": ""
            },
            "colorscale": [
             [
              0,
              "#0d0887"
             ],
             [
              0.1111111111111111,
              "#46039f"
             ],
             [
              0.2222222222222222,
              "#7201a8"
             ],
             [
              0.3333333333333333,
              "#9c179e"
             ],
             [
              0.4444444444444444,
              "#bd3786"
             ],
             [
              0.5555555555555556,
              "#d8576b"
             ],
             [
              0.6666666666666666,
              "#ed7953"
             ],
             [
              0.7777777777777778,
              "#fb9f3a"
             ],
             [
              0.8888888888888888,
              "#fdca26"
             ],
             [
              1,
              "#f0f921"
             ]
            ],
            "type": "heatmapgl"
           }
          ],
          "histogram": [
           {
            "marker": {
             "pattern": {
              "fillmode": "overlay",
              "size": 10,
              "solidity": 0.2
             }
            },
            "type": "histogram"
           }
          ],
          "histogram2d": [
           {
            "colorbar": {
             "outlinewidth": 0,
             "ticks": ""
            },
            "colorscale": [
             [
              0,
              "#0d0887"
             ],
             [
              0.1111111111111111,
              "#46039f"
             ],
             [
              0.2222222222222222,
              "#7201a8"
             ],
             [
              0.3333333333333333,
              "#9c179e"
             ],
             [
              0.4444444444444444,
              "#bd3786"
             ],
             [
              0.5555555555555556,
              "#d8576b"
             ],
             [
              0.6666666666666666,
              "#ed7953"
             ],
             [
              0.7777777777777778,
              "#fb9f3a"
             ],
             [
              0.8888888888888888,
              "#fdca26"
             ],
             [
              1,
              "#f0f921"
             ]
            ],
            "type": "histogram2d"
           }
          ],
          "histogram2dcontour": [
           {
            "colorbar": {
             "outlinewidth": 0,
             "ticks": ""
            },
            "colorscale": [
             [
              0,
              "#0d0887"
             ],
             [
              0.1111111111111111,
              "#46039f"
             ],
             [
              0.2222222222222222,
              "#7201a8"
             ],
             [
              0.3333333333333333,
              "#9c179e"
             ],
             [
              0.4444444444444444,
              "#bd3786"
             ],
             [
              0.5555555555555556,
              "#d8576b"
             ],
             [
              0.6666666666666666,
              "#ed7953"
             ],
             [
              0.7777777777777778,
              "#fb9f3a"
             ],
             [
              0.8888888888888888,
              "#fdca26"
             ],
             [
              1,
              "#f0f921"
             ]
            ],
            "type": "histogram2dcontour"
           }
          ],
          "mesh3d": [
           {
            "colorbar": {
             "outlinewidth": 0,
             "ticks": ""
            },
            "type": "mesh3d"
           }
          ],
          "parcoords": [
           {
            "line": {
             "colorbar": {
              "outlinewidth": 0,
              "ticks": ""
             }
            },
            "type": "parcoords"
           }
          ],
          "pie": [
           {
            "automargin": true,
            "type": "pie"
           }
          ],
          "scatter": [
           {
            "fillpattern": {
             "fillmode": "overlay",
             "size": 10,
             "solidity": 0.2
            },
            "type": "scatter"
           }
          ],
          "scatter3d": [
           {
            "line": {
             "colorbar": {
              "outlinewidth": 0,
              "ticks": ""
             }
            },
            "marker": {
             "colorbar": {
              "outlinewidth": 0,
              "ticks": ""
             }
            },
            "type": "scatter3d"
           }
          ],
          "scattercarpet": [
           {
            "marker": {
             "colorbar": {
              "outlinewidth": 0,
              "ticks": ""
             }
            },
            "type": "scattercarpet"
           }
          ],
          "scattergeo": [
           {
            "marker": {
             "colorbar": {
              "outlinewidth": 0,
              "ticks": ""
             }
            },
            "type": "scattergeo"
           }
          ],
          "scattergl": [
           {
            "marker": {
             "colorbar": {
              "outlinewidth": 0,
              "ticks": ""
             }
            },
            "type": "scattergl"
           }
          ],
          "scattermapbox": [
           {
            "marker": {
             "colorbar": {
              "outlinewidth": 0,
              "ticks": ""
             }
            },
            "type": "scattermapbox"
           }
          ],
          "scatterpolar": [
           {
            "marker": {
             "colorbar": {
              "outlinewidth": 0,
              "ticks": ""
             }
            },
            "type": "scatterpolar"
           }
          ],
          "scatterpolargl": [
           {
            "marker": {
             "colorbar": {
              "outlinewidth": 0,
              "ticks": ""
             }
            },
            "type": "scatterpolargl"
           }
          ],
          "scatterternary": [
           {
            "marker": {
             "colorbar": {
              "outlinewidth": 0,
              "ticks": ""
             }
            },
            "type": "scatterternary"
           }
          ],
          "surface": [
           {
            "colorbar": {
             "outlinewidth": 0,
             "ticks": ""
            },
            "colorscale": [
             [
              0,
              "#0d0887"
             ],
             [
              0.1111111111111111,
              "#46039f"
             ],
             [
              0.2222222222222222,
              "#7201a8"
             ],
             [
              0.3333333333333333,
              "#9c179e"
             ],
             [
              0.4444444444444444,
              "#bd3786"
             ],
             [
              0.5555555555555556,
              "#d8576b"
             ],
             [
              0.6666666666666666,
              "#ed7953"
             ],
             [
              0.7777777777777778,
              "#fb9f3a"
             ],
             [
              0.8888888888888888,
              "#fdca26"
             ],
             [
              1,
              "#f0f921"
             ]
            ],
            "type": "surface"
           }
          ],
          "table": [
           {
            "cells": {
             "fill": {
              "color": "#EBF0F8"
             },
             "line": {
              "color": "white"
             }
            },
            "header": {
             "fill": {
              "color": "#C8D4E3"
             },
             "line": {
              "color": "white"
             }
            },
            "type": "table"
           }
          ]
         },
         "layout": {
          "annotationdefaults": {
           "arrowcolor": "#2a3f5f",
           "arrowhead": 0,
           "arrowwidth": 1
          },
          "autotypenumbers": "strict",
          "coloraxis": {
           "colorbar": {
            "outlinewidth": 0,
            "ticks": ""
           }
          },
          "colorscale": {
           "diverging": [
            [
             0,
             "#8e0152"
            ],
            [
             0.1,
             "#c51b7d"
            ],
            [
             0.2,
             "#de77ae"
            ],
            [
             0.3,
             "#f1b6da"
            ],
            [
             0.4,
             "#fde0ef"
            ],
            [
             0.5,
             "#f7f7f7"
            ],
            [
             0.6,
             "#e6f5d0"
            ],
            [
             0.7,
             "#b8e186"
            ],
            [
             0.8,
             "#7fbc41"
            ],
            [
             0.9,
             "#4d9221"
            ],
            [
             1,
             "#276419"
            ]
           ],
           "sequential": [
            [
             0,
             "#0d0887"
            ],
            [
             0.1111111111111111,
             "#46039f"
            ],
            [
             0.2222222222222222,
             "#7201a8"
            ],
            [
             0.3333333333333333,
             "#9c179e"
            ],
            [
             0.4444444444444444,
             "#bd3786"
            ],
            [
             0.5555555555555556,
             "#d8576b"
            ],
            [
             0.6666666666666666,
             "#ed7953"
            ],
            [
             0.7777777777777778,
             "#fb9f3a"
            ],
            [
             0.8888888888888888,
             "#fdca26"
            ],
            [
             1,
             "#f0f921"
            ]
           ],
           "sequentialminus": [
            [
             0,
             "#0d0887"
            ],
            [
             0.1111111111111111,
             "#46039f"
            ],
            [
             0.2222222222222222,
             "#7201a8"
            ],
            [
             0.3333333333333333,
             "#9c179e"
            ],
            [
             0.4444444444444444,
             "#bd3786"
            ],
            [
             0.5555555555555556,
             "#d8576b"
            ],
            [
             0.6666666666666666,
             "#ed7953"
            ],
            [
             0.7777777777777778,
             "#fb9f3a"
            ],
            [
             0.8888888888888888,
             "#fdca26"
            ],
            [
             1,
             "#f0f921"
            ]
           ]
          },
          "colorway": [
           "#636efa",
           "#EF553B",
           "#00cc96",
           "#ab63fa",
           "#FFA15A",
           "#19d3f3",
           "#FF6692",
           "#B6E880",
           "#FF97FF",
           "#FECB52"
          ],
          "font": {
           "color": "#2a3f5f"
          },
          "geo": {
           "bgcolor": "white",
           "lakecolor": "white",
           "landcolor": "#E5ECF6",
           "showlakes": true,
           "showland": true,
           "subunitcolor": "white"
          },
          "hoverlabel": {
           "align": "left"
          },
          "hovermode": "closest",
          "mapbox": {
           "style": "light"
          },
          "paper_bgcolor": "white",
          "plot_bgcolor": "#E5ECF6",
          "polar": {
           "angularaxis": {
            "gridcolor": "white",
            "linecolor": "white",
            "ticks": ""
           },
           "bgcolor": "#E5ECF6",
           "radialaxis": {
            "gridcolor": "white",
            "linecolor": "white",
            "ticks": ""
           }
          },
          "scene": {
           "xaxis": {
            "backgroundcolor": "#E5ECF6",
            "gridcolor": "white",
            "gridwidth": 2,
            "linecolor": "white",
            "showbackground": true,
            "ticks": "",
            "zerolinecolor": "white"
           },
           "yaxis": {
            "backgroundcolor": "#E5ECF6",
            "gridcolor": "white",
            "gridwidth": 2,
            "linecolor": "white",
            "showbackground": true,
            "ticks": "",
            "zerolinecolor": "white"
           },
           "zaxis": {
            "backgroundcolor": "#E5ECF6",
            "gridcolor": "white",
            "gridwidth": 2,
            "linecolor": "white",
            "showbackground": true,
            "ticks": "",
            "zerolinecolor": "white"
           }
          },
          "shapedefaults": {
           "line": {
            "color": "#2a3f5f"
           }
          },
          "ternary": {
           "aaxis": {
            "gridcolor": "white",
            "linecolor": "white",
            "ticks": ""
           },
           "baxis": {
            "gridcolor": "white",
            "linecolor": "white",
            "ticks": ""
           },
           "bgcolor": "#E5ECF6",
           "caxis": {
            "gridcolor": "white",
            "linecolor": "white",
            "ticks": ""
           }
          },
          "title": {
           "x": 0.05
          },
          "xaxis": {
           "automargin": true,
           "gridcolor": "white",
           "linecolor": "white",
           "ticks": "",
           "title": {
            "standoff": 15
           },
           "zerolinecolor": "white",
           "zerolinewidth": 2
          },
          "yaxis": {
           "automargin": true,
           "gridcolor": "white",
           "linecolor": "white",
           "ticks": "",
           "title": {
            "standoff": 15
           },
           "zerolinecolor": "white",
           "zerolinewidth": 2
          }
         }
        },
        "xaxis": {
         "anchor": "y",
         "domain": [
          0,
          1
         ],
         "title": {
          "text": "age"
         }
        },
        "yaxis": {
         "anchor": "x",
         "domain": [
          0,
          1
         ],
         "title": {
          "text": "average"
         }
        }
       }
      }
     },
     "metadata": {},
     "output_type": "display_data"
    }
   ],
   "source": [
    "pd.options.plotting.backend = \"plotly\"\n",
    "\n",
    "mediause['average'] = mediause[['radio','tv','newspaper','internet']].mean(axis=1)\n",
    "# we sample 50 points here just to make the graph clearer, of course that doesn't make much sense conceptually here\n",
    "fig = mediause.sample(50).plot(x='age', y='average', kind='scatter')\n",
    "fig.show()\n",
    "fig.write_html(\"plotly-example.html\")"
   ]
  },
  {
   "cell_type": "code",
   "execution_count": 21,
   "metadata": {},
   "outputs": [
    {
     "data": {
      "application/vnd.plotly.v1+json": {
       "config": {
        "plotlyServerURL": "https://plot.ly"
       },
       "data": [
        {
         "customdata": [
          [
           1
          ],
          [
           0
          ],
          [
           1
          ],
          [
           1
          ],
          [
           0
          ],
          [
           0
          ],
          [
           0
          ],
          [
           0
          ],
          [
           1
          ],
          [
           0
          ],
          [
           0
          ],
          [
           0
          ],
          [
           1
          ],
          [
           1
          ],
          [
           0
          ],
          [
           1
          ],
          [
           1
          ],
          [
           1
          ],
          [
           1
          ],
          [
           0
          ],
          [
           1
          ],
          [
           0
          ],
          [
           1
          ],
          [
           1
          ],
          [
           0
          ],
          [
           1
          ],
          [
           0
          ],
          [
           1
          ],
          [
           1
          ],
          [
           1
          ],
          [
           0
          ],
          [
           1
          ],
          [
           1
          ],
          [
           0
          ],
          [
           0
          ],
          [
           1
          ],
          [
           1
          ],
          [
           1
          ],
          [
           1
          ],
          [
           1
          ],
          [
           0
          ],
          [
           1
          ],
          [
           0
          ],
          [
           1
          ],
          [
           1
          ],
          [
           0
          ],
          [
           1
          ],
          [
           1
          ],
          [
           1
          ],
          [
           1
          ]
         ],
         "hovertemplate": "age=%{x}<br>average=%{y}<br>gender=%{customdata[0]}<extra></extra>",
         "legendgroup": "",
         "marker": {
          "color": "#636efa",
          "symbol": "circle"
         },
         "mode": "markers",
         "name": "",
         "orientation": "v",
         "showlegend": false,
         "type": "scatter",
         "x": [
          75,
          38,
          38,
          44,
          71,
          39,
          54,
          59,
          18,
          18,
          26,
          36,
          56,
          23,
          36,
          40,
          39,
          49,
          65,
          61,
          40,
          65,
          76,
          40,
          14,
          71,
          42,
          30,
          62,
          41,
          51,
          43,
          18,
          47,
          58,
          41,
          40,
          60,
          61,
          18,
          65,
          65,
          37,
          35,
          27,
          38,
          17,
          78,
          71,
          52
         ],
         "xaxis": "x",
         "y": [
          6.75,
          2.5,
          2.5,
          2.25,
          5.25,
          4,
          3.5,
          3,
          0.5,
          0.75,
          4.75,
          1.75,
          4.25,
          1.25,
          2,
          4.5,
          3,
          2,
          7,
          3.25,
          2.5,
          5.25,
          4.75,
          1.75,
          0,
          6,
          2.25,
          2,
          3.5,
          2.75,
          3.75,
          5.25,
          1.5,
          3.25,
          4.5,
          3.75,
          5.5,
          2.25,
          5.5,
          2,
          3,
          3.75,
          3,
          3.5,
          1.75,
          1.5,
          2.25,
          2.25,
          2.75,
          4.75
         ],
         "yaxis": "y"
        }
       ],
       "layout": {
        "legend": {
         "tracegroupgap": 0
        },
        "margin": {
         "t": 60
        },
        "template": {
         "data": {
          "bar": [
           {
            "error_x": {
             "color": "#2a3f5f"
            },
            "error_y": {
             "color": "#2a3f5f"
            },
            "marker": {
             "line": {
              "color": "#E5ECF6",
              "width": 0.5
             },
             "pattern": {
              "fillmode": "overlay",
              "size": 10,
              "solidity": 0.2
             }
            },
            "type": "bar"
           }
          ],
          "barpolar": [
           {
            "marker": {
             "line": {
              "color": "#E5ECF6",
              "width": 0.5
             },
             "pattern": {
              "fillmode": "overlay",
              "size": 10,
              "solidity": 0.2
             }
            },
            "type": "barpolar"
           }
          ],
          "carpet": [
           {
            "aaxis": {
             "endlinecolor": "#2a3f5f",
             "gridcolor": "white",
             "linecolor": "white",
             "minorgridcolor": "white",
             "startlinecolor": "#2a3f5f"
            },
            "baxis": {
             "endlinecolor": "#2a3f5f",
             "gridcolor": "white",
             "linecolor": "white",
             "minorgridcolor": "white",
             "startlinecolor": "#2a3f5f"
            },
            "type": "carpet"
           }
          ],
          "choropleth": [
           {
            "colorbar": {
             "outlinewidth": 0,
             "ticks": ""
            },
            "type": "choropleth"
           }
          ],
          "contour": [
           {
            "colorbar": {
             "outlinewidth": 0,
             "ticks": ""
            },
            "colorscale": [
             [
              0,
              "#0d0887"
             ],
             [
              0.1111111111111111,
              "#46039f"
             ],
             [
              0.2222222222222222,
              "#7201a8"
             ],
             [
              0.3333333333333333,
              "#9c179e"
             ],
             [
              0.4444444444444444,
              "#bd3786"
             ],
             [
              0.5555555555555556,
              "#d8576b"
             ],
             [
              0.6666666666666666,
              "#ed7953"
             ],
             [
              0.7777777777777778,
              "#fb9f3a"
             ],
             [
              0.8888888888888888,
              "#fdca26"
             ],
             [
              1,
              "#f0f921"
             ]
            ],
            "type": "contour"
           }
          ],
          "contourcarpet": [
           {
            "colorbar": {
             "outlinewidth": 0,
             "ticks": ""
            },
            "type": "contourcarpet"
           }
          ],
          "heatmap": [
           {
            "colorbar": {
             "outlinewidth": 0,
             "ticks": ""
            },
            "colorscale": [
             [
              0,
              "#0d0887"
             ],
             [
              0.1111111111111111,
              "#46039f"
             ],
             [
              0.2222222222222222,
              "#7201a8"
             ],
             [
              0.3333333333333333,
              "#9c179e"
             ],
             [
              0.4444444444444444,
              "#bd3786"
             ],
             [
              0.5555555555555556,
              "#d8576b"
             ],
             [
              0.6666666666666666,
              "#ed7953"
             ],
             [
              0.7777777777777778,
              "#fb9f3a"
             ],
             [
              0.8888888888888888,
              "#fdca26"
             ],
             [
              1,
              "#f0f921"
             ]
            ],
            "type": "heatmap"
           }
          ],
          "heatmapgl": [
           {
            "colorbar": {
             "outlinewidth": 0,
             "ticks": ""
            },
            "colorscale": [
             [
              0,
              "#0d0887"
             ],
             [
              0.1111111111111111,
              "#46039f"
             ],
             [
              0.2222222222222222,
              "#7201a8"
             ],
             [
              0.3333333333333333,
              "#9c179e"
             ],
             [
              0.4444444444444444,
              "#bd3786"
             ],
             [
              0.5555555555555556,
              "#d8576b"
             ],
             [
              0.6666666666666666,
              "#ed7953"
             ],
             [
              0.7777777777777778,
              "#fb9f3a"
             ],
             [
              0.8888888888888888,
              "#fdca26"
             ],
             [
              1,
              "#f0f921"
             ]
            ],
            "type": "heatmapgl"
           }
          ],
          "histogram": [
           {
            "marker": {
             "pattern": {
              "fillmode": "overlay",
              "size": 10,
              "solidity": 0.2
             }
            },
            "type": "histogram"
           }
          ],
          "histogram2d": [
           {
            "colorbar": {
             "outlinewidth": 0,
             "ticks": ""
            },
            "colorscale": [
             [
              0,
              "#0d0887"
             ],
             [
              0.1111111111111111,
              "#46039f"
             ],
             [
              0.2222222222222222,
              "#7201a8"
             ],
             [
              0.3333333333333333,
              "#9c179e"
             ],
             [
              0.4444444444444444,
              "#bd3786"
             ],
             [
              0.5555555555555556,
              "#d8576b"
             ],
             [
              0.6666666666666666,
              "#ed7953"
             ],
             [
              0.7777777777777778,
              "#fb9f3a"
             ],
             [
              0.8888888888888888,
              "#fdca26"
             ],
             [
              1,
              "#f0f921"
             ]
            ],
            "type": "histogram2d"
           }
          ],
          "histogram2dcontour": [
           {
            "colorbar": {
             "outlinewidth": 0,
             "ticks": ""
            },
            "colorscale": [
             [
              0,
              "#0d0887"
             ],
             [
              0.1111111111111111,
              "#46039f"
             ],
             [
              0.2222222222222222,
              "#7201a8"
             ],
             [
              0.3333333333333333,
              "#9c179e"
             ],
             [
              0.4444444444444444,
              "#bd3786"
             ],
             [
              0.5555555555555556,
              "#d8576b"
             ],
             [
              0.6666666666666666,
              "#ed7953"
             ],
             [
              0.7777777777777778,
              "#fb9f3a"
             ],
             [
              0.8888888888888888,
              "#fdca26"
             ],
             [
              1,
              "#f0f921"
             ]
            ],
            "type": "histogram2dcontour"
           }
          ],
          "mesh3d": [
           {
            "colorbar": {
             "outlinewidth": 0,
             "ticks": ""
            },
            "type": "mesh3d"
           }
          ],
          "parcoords": [
           {
            "line": {
             "colorbar": {
              "outlinewidth": 0,
              "ticks": ""
             }
            },
            "type": "parcoords"
           }
          ],
          "pie": [
           {
            "automargin": true,
            "type": "pie"
           }
          ],
          "scatter": [
           {
            "fillpattern": {
             "fillmode": "overlay",
             "size": 10,
             "solidity": 0.2
            },
            "type": "scatter"
           }
          ],
          "scatter3d": [
           {
            "line": {
             "colorbar": {
              "outlinewidth": 0,
              "ticks": ""
             }
            },
            "marker": {
             "colorbar": {
              "outlinewidth": 0,
              "ticks": ""
             }
            },
            "type": "scatter3d"
           }
          ],
          "scattercarpet": [
           {
            "marker": {
             "colorbar": {
              "outlinewidth": 0,
              "ticks": ""
             }
            },
            "type": "scattercarpet"
           }
          ],
          "scattergeo": [
           {
            "marker": {
             "colorbar": {
              "outlinewidth": 0,
              "ticks": ""
             }
            },
            "type": "scattergeo"
           }
          ],
          "scattergl": [
           {
            "marker": {
             "colorbar": {
              "outlinewidth": 0,
              "ticks": ""
             }
            },
            "type": "scattergl"
           }
          ],
          "scattermapbox": [
           {
            "marker": {
             "colorbar": {
              "outlinewidth": 0,
              "ticks": ""
             }
            },
            "type": "scattermapbox"
           }
          ],
          "scatterpolar": [
           {
            "marker": {
             "colorbar": {
              "outlinewidth": 0,
              "ticks": ""
             }
            },
            "type": "scatterpolar"
           }
          ],
          "scatterpolargl": [
           {
            "marker": {
             "colorbar": {
              "outlinewidth": 0,
              "ticks": ""
             }
            },
            "type": "scatterpolargl"
           }
          ],
          "scatterternary": [
           {
            "marker": {
             "colorbar": {
              "outlinewidth": 0,
              "ticks": ""
             }
            },
            "type": "scatterternary"
           }
          ],
          "surface": [
           {
            "colorbar": {
             "outlinewidth": 0,
             "ticks": ""
            },
            "colorscale": [
             [
              0,
              "#0d0887"
             ],
             [
              0.1111111111111111,
              "#46039f"
             ],
             [
              0.2222222222222222,
              "#7201a8"
             ],
             [
              0.3333333333333333,
              "#9c179e"
             ],
             [
              0.4444444444444444,
              "#bd3786"
             ],
             [
              0.5555555555555556,
              "#d8576b"
             ],
             [
              0.6666666666666666,
              "#ed7953"
             ],
             [
              0.7777777777777778,
              "#fb9f3a"
             ],
             [
              0.8888888888888888,
              "#fdca26"
             ],
             [
              1,
              "#f0f921"
             ]
            ],
            "type": "surface"
           }
          ],
          "table": [
           {
            "cells": {
             "fill": {
              "color": "#EBF0F8"
             },
             "line": {
              "color": "white"
             }
            },
            "header": {
             "fill": {
              "color": "#C8D4E3"
             },
             "line": {
              "color": "white"
             }
            },
            "type": "table"
           }
          ]
         },
         "layout": {
          "annotationdefaults": {
           "arrowcolor": "#2a3f5f",
           "arrowhead": 0,
           "arrowwidth": 1
          },
          "autotypenumbers": "strict",
          "coloraxis": {
           "colorbar": {
            "outlinewidth": 0,
            "ticks": ""
           }
          },
          "colorscale": {
           "diverging": [
            [
             0,
             "#8e0152"
            ],
            [
             0.1,
             "#c51b7d"
            ],
            [
             0.2,
             "#de77ae"
            ],
            [
             0.3,
             "#f1b6da"
            ],
            [
             0.4,
             "#fde0ef"
            ],
            [
             0.5,
             "#f7f7f7"
            ],
            [
             0.6,
             "#e6f5d0"
            ],
            [
             0.7,
             "#b8e186"
            ],
            [
             0.8,
             "#7fbc41"
            ],
            [
             0.9,
             "#4d9221"
            ],
            [
             1,
             "#276419"
            ]
           ],
           "sequential": [
            [
             0,
             "#0d0887"
            ],
            [
             0.1111111111111111,
             "#46039f"
            ],
            [
             0.2222222222222222,
             "#7201a8"
            ],
            [
             0.3333333333333333,
             "#9c179e"
            ],
            [
             0.4444444444444444,
             "#bd3786"
            ],
            [
             0.5555555555555556,
             "#d8576b"
            ],
            [
             0.6666666666666666,
             "#ed7953"
            ],
            [
             0.7777777777777778,
             "#fb9f3a"
            ],
            [
             0.8888888888888888,
             "#fdca26"
            ],
            [
             1,
             "#f0f921"
            ]
           ],
           "sequentialminus": [
            [
             0,
             "#0d0887"
            ],
            [
             0.1111111111111111,
             "#46039f"
            ],
            [
             0.2222222222222222,
             "#7201a8"
            ],
            [
             0.3333333333333333,
             "#9c179e"
            ],
            [
             0.4444444444444444,
             "#bd3786"
            ],
            [
             0.5555555555555556,
             "#d8576b"
            ],
            [
             0.6666666666666666,
             "#ed7953"
            ],
            [
             0.7777777777777778,
             "#fb9f3a"
            ],
            [
             0.8888888888888888,
             "#fdca26"
            ],
            [
             1,
             "#f0f921"
            ]
           ]
          },
          "colorway": [
           "#636efa",
           "#EF553B",
           "#00cc96",
           "#ab63fa",
           "#FFA15A",
           "#19d3f3",
           "#FF6692",
           "#B6E880",
           "#FF97FF",
           "#FECB52"
          ],
          "font": {
           "color": "#2a3f5f"
          },
          "geo": {
           "bgcolor": "white",
           "lakecolor": "white",
           "landcolor": "#E5ECF6",
           "showlakes": true,
           "showland": true,
           "subunitcolor": "white"
          },
          "hoverlabel": {
           "align": "left"
          },
          "hovermode": "closest",
          "mapbox": {
           "style": "light"
          },
          "paper_bgcolor": "white",
          "plot_bgcolor": "#E5ECF6",
          "polar": {
           "angularaxis": {
            "gridcolor": "white",
            "linecolor": "white",
            "ticks": ""
           },
           "bgcolor": "#E5ECF6",
           "radialaxis": {
            "gridcolor": "white",
            "linecolor": "white",
            "ticks": ""
           }
          },
          "scene": {
           "xaxis": {
            "backgroundcolor": "#E5ECF6",
            "gridcolor": "white",
            "gridwidth": 2,
            "linecolor": "white",
            "showbackground": true,
            "ticks": "",
            "zerolinecolor": "white"
           },
           "yaxis": {
            "backgroundcolor": "#E5ECF6",
            "gridcolor": "white",
            "gridwidth": 2,
            "linecolor": "white",
            "showbackground": true,
            "ticks": "",
            "zerolinecolor": "white"
           },
           "zaxis": {
            "backgroundcolor": "#E5ECF6",
            "gridcolor": "white",
            "gridwidth": 2,
            "linecolor": "white",
            "showbackground": true,
            "ticks": "",
            "zerolinecolor": "white"
           }
          },
          "shapedefaults": {
           "line": {
            "color": "#2a3f5f"
           }
          },
          "ternary": {
           "aaxis": {
            "gridcolor": "white",
            "linecolor": "white",
            "ticks": ""
           },
           "baxis": {
            "gridcolor": "white",
            "linecolor": "white",
            "ticks": ""
           },
           "bgcolor": "#E5ECF6",
           "caxis": {
            "gridcolor": "white",
            "linecolor": "white",
            "ticks": ""
           }
          },
          "title": {
           "x": 0.05
          },
          "xaxis": {
           "automargin": true,
           "gridcolor": "white",
           "linecolor": "white",
           "ticks": "",
           "title": {
            "standoff": 15
           },
           "zerolinecolor": "white",
           "zerolinewidth": 2
          },
          "yaxis": {
           "automargin": true,
           "gridcolor": "white",
           "linecolor": "white",
           "ticks": "",
           "title": {
            "standoff": 15
           },
           "zerolinecolor": "white",
           "zerolinewidth": 2
          }
         }
        },
        "xaxis": {
         "anchor": "y",
         "domain": [
          0,
          1
         ],
         "title": {
          "text": "age"
         }
        },
        "yaxis": {
         "anchor": "x",
         "domain": [
          0,
          1
         ],
         "title": {
          "text": "average"
         }
        }
       }
      }
     },
     "metadata": {},
     "output_type": "display_data"
    }
   ],
   "source": [
    "# let's add some more data to the hover-over box\n",
    "# look at https://towardsdatascience.com/visualization-with-plotly-express-comprehensive-guide-eb5ee4b50b57 for more info\n",
    "# e.g., we can also specify color = 'varname', size = 'varname' etc. - very much like in seaborn\n",
    "fig = mediause.sample(50).plot(x='age', y='average', hover_data={\"gender\":True},kind='scatter')\n",
    "fig.show()"
   ]
  },
  {
   "cell_type": "code",
   "execution_count": 22,
   "metadata": {},
   "outputs": [
    {
     "data": {
      "application/vnd.plotly.v1+json": {
       "config": {
        "plotlyServerURL": "https://plot.ly"
       },
       "data": [
        {
         "alignmentgroup": "True",
         "bingroup": "x",
         "hovertemplate": "variable=internet<br>value=%{x}<br>count=%{y}<extra></extra>",
         "legendgroup": "internet",
         "marker": {
          "color": "#636efa",
          "pattern": {
           "shape": ""
          }
         },
         "name": "internet",
         "offsetgroup": "internet",
         "orientation": "v",
         "showlegend": true,
         "type": "histogram",
         "x": [
          0,
          0,
          3,
          0,
          7,
          3,
          0,
          7,
          7,
          0,
          4,
          0,
          1,
          6,
          4,
          0,
          0,
          7,
          0,
          0,
          7,
          0,
          0,
          7,
          1,
          7,
          6,
          0,
          0,
          7,
          6,
          0,
          0,
          7,
          0,
          0,
          0,
          0,
          0,
          0,
          0,
          0,
          0,
          0,
          7,
          1,
          0,
          0,
          0,
          7,
          0,
          1,
          2,
          0,
          7,
          5,
          0,
          7,
          5,
          2,
          6,
          0,
          1,
          7,
          0,
          3,
          0,
          0,
          1,
          1,
          0,
          4,
          0,
          1,
          0,
          0,
          7,
          5,
          0,
          0,
          5,
          1,
          3,
          2,
          0,
          3,
          0,
          4,
          4,
          7,
          7,
          7,
          0,
          0,
          6,
          0,
          5,
          7,
          0,
          0,
          5,
          7,
          0,
          1,
          0,
          4,
          1,
          3,
          1,
          0,
          0,
          7,
          2,
          0,
          0,
          7,
          3,
          0,
          2,
          1,
          7,
          7,
          0,
          0,
          7,
          5,
          0,
          7,
          6,
          1,
          0,
          0,
          3,
          2,
          1,
          1,
          1,
          2,
          0,
          0,
          7,
          1,
          2,
          1,
          0,
          7,
          7,
          7,
          5,
          0,
          2,
          0,
          1,
          3,
          3,
          2,
          0,
          0,
          3,
          7,
          3,
          1,
          0,
          0,
          0,
          0,
          0,
          0,
          0,
          0,
          2,
          0,
          2,
          0,
          0,
          2,
          7,
          2,
          4,
          1,
          0,
          0,
          7,
          7,
          7,
          6,
          2,
          0,
          5,
          5,
          6,
          0,
          2,
          4,
          0,
          7,
          7,
          2,
          0,
          0,
          0,
          7,
          7,
          0,
          1,
          0,
          0,
          0,
          2,
          0,
          0,
          7,
          5,
          0,
          1,
          7,
          2,
          7,
          0,
          2,
          0,
          3,
          7,
          0,
          0,
          0,
          0,
          0,
          5,
          0,
          0,
          1,
          0,
          0,
          0,
          1,
          0,
          7,
          0,
          0,
          0,
          1,
          7,
          7,
          0,
          3,
          7,
          0,
          7,
          0,
          2,
          7,
          4,
          0,
          6,
          0,
          2,
          0,
          4,
          7,
          7,
          5,
          5,
          7,
          0,
          0,
          0,
          1,
          5,
          7,
          7,
          5,
          7,
          0,
          0,
          2,
          0,
          0,
          3,
          0,
          6,
          3,
          7,
          7,
          3,
          0,
          5,
          4,
          1,
          1,
          6,
          0,
          5,
          7,
          0,
          0,
          7,
          1,
          4,
          1,
          1,
          3,
          0,
          7,
          3,
          5,
          6,
          7,
          3,
          7,
          4,
          0,
          2,
          0,
          0,
          0,
          5,
          2,
          1,
          0,
          7,
          6,
          7,
          0,
          5,
          0,
          0,
          7,
          4,
          0,
          7,
          0,
          2,
          7,
          7,
          0,
          0,
          0,
          5,
          7,
          0,
          0,
          7,
          0,
          0,
          6,
          1,
          0,
          1,
          7,
          0,
          0,
          0,
          0,
          1,
          2,
          0,
          0,
          3,
          0,
          0,
          3,
          0,
          7,
          7,
          3,
          0,
          4,
          6,
          0,
          3,
          1,
          7,
          2,
          5,
          0,
          6,
          1,
          6,
          0,
          5,
          5,
          0,
          0,
          7,
          0,
          0,
          7,
          4,
          0,
          7,
          1,
          0,
          0,
          7,
          1,
          3,
          0,
          3,
          6,
          0,
          4,
          0,
          0,
          0,
          5,
          4,
          4,
          5,
          7,
          1,
          0,
          0,
          2,
          5,
          4,
          4,
          7,
          5,
          7,
          5,
          0,
          3,
          0,
          0,
          1,
          4,
          0,
          7,
          1,
          1,
          0,
          0,
          0,
          6,
          1,
          3,
          1,
          0,
          0,
          7,
          7,
          0,
          3,
          3,
          0,
          0,
          0,
          0,
          6,
          3,
          0,
          1,
          0,
          0,
          0,
          0,
          0,
          7,
          2,
          0,
          0,
          2,
          5,
          0,
          7,
          1,
          0,
          0,
          2,
          3,
          7,
          7,
          1,
          7,
          4,
          0,
          1,
          0,
          0,
          7,
          6,
          0,
          0,
          1,
          2,
          0,
          0,
          7,
          0,
          0,
          5,
          0,
          7,
          0,
          1,
          3,
          0,
          0,
          0,
          7,
          7,
          0,
          2,
          3,
          7,
          0,
          2,
          7,
          2,
          0,
          0,
          7,
          7,
          0,
          0,
          0,
          2,
          1,
          0,
          7,
          0,
          3,
          1,
          7,
          7,
          0,
          2,
          0,
          7,
          0,
          7,
          1,
          0,
          7,
          7,
          1,
          2,
          7,
          5,
          2,
          5,
          1,
          7,
          1,
          4,
          0,
          6,
          1,
          0,
          1,
          2,
          0,
          0,
          0,
          0,
          0,
          7,
          7,
          1,
          7,
          7,
          6,
          0,
          0,
          3,
          3,
          0,
          0,
          2,
          7,
          7,
          6,
          7,
          0,
          0,
          3,
          1,
          5,
          0,
          2,
          0,
          0,
          7,
          0,
          0,
          5,
          7,
          1,
          3,
          0,
          3,
          0,
          0,
          0,
          7,
          0,
          5,
          1,
          5,
          7,
          1,
          7,
          7,
          0,
          1,
          7,
          7,
          0,
          2,
          0,
          0,
          0,
          0,
          0,
          1,
          1,
          0,
          1,
          0,
          7,
          0,
          0,
          3,
          6,
          1,
          3,
          4,
          5,
          7,
          0,
          2,
          7,
          0,
          0,
          2,
          1,
          0,
          7,
          2,
          7,
          1,
          0,
          0,
          0,
          0,
          4,
          0,
          0,
          5,
          0,
          0,
          1,
          1,
          6,
          6,
          0,
          0,
          0,
          0,
          2,
          7,
          7,
          0,
          7,
          0,
          0,
          6,
          0,
          7,
          7,
          0,
          2,
          0,
          0,
          0,
          3,
          5,
          2,
          4,
          2,
          0,
          5,
          0,
          3,
          1,
          7,
          2,
          0,
          5,
          7,
          0,
          6,
          3,
          7,
          7,
          0,
          3,
          7,
          2,
          0,
          0,
          0,
          0,
          0,
          0,
          7,
          3,
          0,
          0,
          0,
          0,
          2,
          7,
          5,
          0,
          0,
          5,
          4,
          2,
          0,
          0,
          0,
          0,
          0,
          0,
          5,
          2,
          7,
          0,
          7,
          0,
          0,
          5,
          0,
          4,
          5,
          0,
          3,
          4,
          0,
          0,
          0,
          5,
          0,
          6,
          0,
          7,
          7,
          3,
          4,
          0,
          0,
          0,
          2,
          0,
          0,
          6,
          3,
          1,
          0,
          0,
          1,
          0,
          7,
          5,
          0,
          7,
          0,
          1,
          7,
          0,
          2,
          0,
          7,
          2,
          0,
          6,
          7,
          6,
          0,
          7,
          0,
          6,
          3,
          0,
          7,
          6,
          7,
          0,
          0,
          0,
          1,
          0,
          0,
          6,
          5,
          7,
          3,
          0,
          0,
          0,
          2,
          4,
          0,
          0,
          0,
          0,
          2,
          1,
          0,
          0,
          7,
          0,
          0,
          0,
          7,
          1,
          0,
          3,
          0,
          1,
          4,
          0,
          4,
          5,
          0,
          0,
          0,
          2,
          0,
          7,
          1,
          0,
          4,
          0,
          3,
          7,
          2,
          0,
          4,
          5,
          5,
          0,
          1,
          0,
          6,
          3,
          0,
          7,
          2,
          2,
          2,
          7,
          0,
          0,
          0,
          6,
          0,
          3,
          7,
          1,
          0,
          1,
          0,
          2,
          0,
          4,
          0,
          0,
          1,
          0,
          0,
          3,
          1,
          0,
          5,
          0,
          0,
          3,
          0,
          2,
          0,
          1,
          2,
          0,
          5,
          0,
          0,
          0,
          5,
          3,
          7,
          7,
          2,
          0,
          7,
          7,
          7,
          5,
          7,
          3,
          0,
          3,
          7,
          7,
          3,
          0,
          0,
          3,
          2,
          7,
          6,
          7,
          7,
          2,
          1,
          0,
          0,
          3,
          0,
          0,
          1,
          3,
          2,
          0,
          0,
          6,
          5,
          7,
          0,
          4,
          0,
          4,
          0,
          3,
          7,
          0,
          6,
          0,
          6,
          7,
          0,
          7,
          0,
          7,
          5,
          0,
          4,
          0,
          3,
          0,
          0,
          7,
          1,
          0,
          0,
          7,
          0,
          0,
          1,
          1,
          0,
          3,
          0,
          3,
          4,
          0,
          2,
          0,
          3,
          0,
          5,
          0,
          0,
          5,
          0,
          4,
          5,
          0,
          3,
          0,
          7,
          0,
          7,
          1,
          4,
          2,
          1,
          5,
          7,
          3,
          6,
          2,
          0,
          0,
          7,
          3,
          4,
          1,
          1,
          2,
          3,
          7,
          7,
          0,
          5,
          0,
          0,
          3,
          3,
          2,
          7,
          0,
          0,
          7,
          7,
          7,
          0,
          4,
          1,
          0,
          0,
          0,
          2,
          1,
          2,
          2,
          5,
          0,
          0,
          5,
          0,
          0,
          0,
          6,
          0,
          7,
          0,
          5,
          7,
          0,
          0,
          1,
          0,
          2,
          0,
          0,
          0,
          0,
          0,
          0,
          1,
          1,
          1,
          7,
          3,
          0,
          5,
          0,
          0,
          0,
          7,
          0,
          0,
          0,
          7,
          0,
          0,
          0,
          6,
          3,
          7,
          5,
          6,
          0,
          1,
          2,
          2,
          7,
          0,
          2,
          0,
          0,
          3,
          7,
          7,
          0,
          7,
          0,
          6,
          7,
          7,
          5,
          0,
          7,
          0,
          0,
          0,
          1,
          5,
          2,
          0,
          7,
          4,
          0,
          3,
          0,
          5,
          1,
          0,
          7,
          7,
          5,
          1,
          2,
          0,
          0,
          2,
          0,
          0,
          0,
          7,
          0,
          6,
          7,
          4,
          7,
          0,
          7,
          2,
          0,
          7,
          7,
          0,
          0,
          2,
          3,
          1,
          0,
          0,
          0,
          0,
          0,
          0,
          0,
          3,
          6,
          7,
          0,
          0,
          0,
          6,
          1,
          0,
          1,
          7,
          1,
          2,
          7,
          7,
          0,
          6,
          7,
          6,
          1,
          0,
          2,
          1,
          7,
          0,
          0,
          0,
          7,
          0,
          0,
          2,
          0,
          1,
          5,
          7,
          0,
          0,
          0,
          2,
          2,
          0,
          2,
          3,
          1,
          0,
          0,
          0,
          0,
          2,
          0,
          6,
          0,
          2,
          5,
          4,
          1,
          2,
          2,
          7,
          5,
          0,
          7,
          6,
          7,
          2,
          0,
          0,
          1,
          0,
          0,
          0,
          1,
          0,
          0,
          0,
          7,
          7,
          0,
          0,
          0,
          5,
          7,
          0,
          1,
          7,
          0,
          2,
          0,
          0,
          1,
          2,
          2,
          0,
          0,
          0,
          7,
          3,
          0,
          0,
          0,
          0,
          0,
          6,
          1,
          5,
          0,
          0,
          0,
          2,
          1,
          7,
          0,
          0,
          0,
          0,
          0,
          0,
          7,
          5,
          3,
          0,
          7,
          7,
          0,
          7,
          7,
          4,
          0,
          0,
          0,
          0,
          7,
          2,
          0,
          7,
          5,
          0,
          0,
          7,
          0,
          5,
          0,
          2,
          5,
          6,
          0,
          3,
          6,
          0,
          0,
          7,
          5,
          2,
          7,
          0,
          0,
          7,
          5,
          6,
          1,
          0,
          7,
          0,
          0,
          4,
          0,
          1,
          7,
          0,
          7,
          7,
          7,
          0,
          7,
          6,
          7,
          7,
          0,
          0,
          0,
          0,
          7,
          0,
          3,
          1,
          0,
          2,
          7,
          0,
          0,
          7,
          0,
          2,
          5,
          5,
          3,
          7,
          3,
          7,
          3,
          7,
          4,
          3,
          0,
          2,
          0,
          7,
          0,
          7,
          2,
          7,
          5,
          5,
          0,
          2,
          7,
          4,
          1,
          3,
          5,
          0,
          7,
          7,
          4,
          4,
          6,
          0,
          1,
          3,
          3,
          7,
          0,
          0,
          0,
          0,
          0,
          0,
          4,
          5,
          7,
          1,
          0,
          0,
          0,
          1,
          4,
          6,
          7,
          0,
          1,
          5,
          0,
          4,
          0,
          4,
          0,
          1,
          4,
          0,
          7,
          5,
          7,
          0,
          0,
          0,
          4,
          6,
          7,
          6,
          0,
          2,
          0,
          7,
          1,
          0,
          0,
          0,
          7,
          7,
          0,
          0,
          7,
          5,
          0,
          0,
          0,
          2,
          0,
          1,
          7,
          4,
          5,
          0,
          0,
          0,
          0,
          6,
          1,
          0,
          0,
          4,
          2,
          3,
          0,
          0,
          7,
          1,
          7,
          1,
          5,
          7,
          6,
          6,
          0,
          0,
          1,
          7,
          1,
          0,
          7,
          5,
          0,
          2,
          0,
          0,
          3,
          3,
          7,
          7,
          5,
          2,
          6,
          0,
          2,
          4,
          5,
          7,
          0,
          0,
          6,
          0,
          7,
          0,
          7,
          7,
          6,
          3,
          7,
          7,
          0,
          0,
          4,
          7,
          0,
          3,
          2,
          7,
          7,
          7,
          7,
          7,
          0,
          5,
          0,
          7,
          3,
          0,
          4,
          1,
          7,
          0,
          0,
          0,
          0,
          0,
          3,
          7,
          0,
          3,
          5,
          7,
          7,
          7,
          0,
          2,
          3,
          6,
          0,
          7,
          4,
          0,
          0,
          0,
          7,
          0,
          7,
          4,
          5,
          7,
          0,
          6,
          7,
          6,
          2,
          0,
          0,
          2,
          7,
          7,
          0,
          2,
          0,
          5,
          7,
          0,
          1,
          1,
          2,
          5,
          2,
          7,
          1,
          5,
          2,
          3,
          3,
          0,
          7,
          7,
          0,
          7,
          2,
          3,
          7,
          0,
          0,
          7,
          1,
          4,
          0,
          0,
          0,
          2,
          0,
          2,
          4,
          0,
          2,
          5,
          4,
          5,
          3,
          6,
          7,
          1,
          0,
          6,
          0,
          3,
          0,
          2,
          0,
          0,
          2,
          2,
          4,
          0,
          0,
          7,
          5,
          0,
          3,
          7,
          6,
          3,
          0,
          4,
          0,
          0,
          0,
          7,
          7,
          2,
          7,
          2,
          6,
          7,
          0,
          7,
          7,
          0,
          0,
          7,
          7,
          0,
          7,
          0,
          0,
          1,
          7,
          7,
          0,
          7,
          0,
          7,
          0,
          7,
          0,
          7,
          0,
          1,
          7,
          0,
          3,
          7,
          7,
          0,
          0,
          6,
          4,
          0,
          7,
          1,
          0,
          0,
          3,
          6,
          0,
          0,
          6,
          1,
          4,
          0,
          1,
          4,
          0,
          7,
          3,
          0,
          4,
          2,
          6,
          1,
          7,
          0,
          2,
          1,
          0,
          0,
          7,
          2,
          0,
          4,
          6,
          7,
          0,
          2,
          3,
          3,
          2,
          3,
          1,
          5,
          0,
          4,
          5,
          6,
          2,
          5,
          3,
          4,
          6,
          7,
          0,
          0,
          5,
          0,
          3,
          3,
          7,
          0,
          1,
          4,
          0,
          7,
          7,
          2,
          1,
          3,
          5,
          5,
          0,
          7,
          0,
          1,
          7,
          1,
          4,
          5,
          0,
          2,
          5,
          0,
          5,
          0,
          0,
          1,
          0,
          0,
          0,
          0,
          7,
          7,
          0,
          1,
          7,
          0,
          5,
          3,
          7,
          2,
          3,
          7,
          0,
          7,
          5,
          7,
          0,
          0,
          0,
          0,
          0,
          2,
          4,
          0,
          3,
          2,
          4,
          6,
          0,
          7,
          0,
          2,
          0,
          6,
          7,
          6,
          7,
          0,
          4,
          0,
          7,
          0,
          1,
          3,
          1,
          5,
          3,
          2,
          6,
          7,
          2,
          0,
          2,
          3,
          0,
          5,
          2,
          0,
          7,
          1,
          7,
          1,
          7,
          1,
          7,
          1,
          7,
          7,
          7,
          2,
          1,
          6,
          1,
          0,
          0,
          7,
          7,
          0,
          0,
          4,
          2,
          5,
          0,
          5,
          1,
          0,
          3,
          4,
          7,
          1,
          0,
          2,
          0,
          7,
          7,
          3,
          0,
          0,
          5,
          0,
          7,
          5,
          7,
          7,
          0,
          4,
          0,
          7,
          0,
          1,
          7,
          0,
          7,
          0,
          3,
          1,
          0,
          0,
          7,
          0,
          0,
          3,
          3,
          3,
          5,
          7,
          7,
          7,
          0,
          0,
          7,
          3,
          5,
          2,
          6,
          0,
          0,
          5,
          1,
          4,
          0,
          2,
          7,
          4,
          0,
          0,
          7,
          7,
          0,
          3,
          5,
          7,
          4,
          3,
          7,
          0,
          2,
          0,
          2,
          7,
          4,
          6,
          0,
          1,
          5,
          0,
          3,
          7,
          3,
          7,
          2,
          7,
          0,
          5,
          0,
          5,
          1,
          2,
          4,
          1,
          5,
          1,
          3,
          7,
          0,
          0,
          3,
          0,
          0,
          1,
          0,
          7,
          6,
          2,
          7,
          3,
          1,
          4,
          4,
          7,
          3,
          2,
          2,
          4,
          7,
          3,
          7,
          7,
          7,
          0,
          0,
          5,
          3,
          5,
          4,
          7,
          5,
          1,
          0,
          7,
          0,
          0,
          0,
          2,
          0,
          0,
          7,
          6,
          5,
          4,
          3,
          2,
          5,
          5,
          0,
          7,
          3,
          2,
          5,
          4,
          0,
          2,
          7,
          7,
          6,
          5,
          0,
          1,
          0,
          1,
          0,
          6,
          7,
          4,
          0,
          7,
          6,
          3,
          7,
          3,
          4,
          0,
          0,
          0,
          0,
          1,
          5,
          7,
          0,
          7,
          6,
          7,
          0,
          0,
          1,
          5,
          7,
          7,
          7,
          2,
          1,
          7,
          4,
          3,
          2,
          0,
          0,
          4,
          0,
          0,
          0,
          4,
          1,
          7,
          0,
          7,
          1,
          3,
          0,
          0,
          1,
          1,
          3,
          2,
          0,
          7,
          2,
          6,
          0,
          0,
          0,
          0,
          0,
          5,
          0,
          0,
          2,
          2,
          0,
          0,
          5,
          6,
          0,
          4
         ],
         "xaxis": "x",
         "yaxis": "y"
        }
       ],
       "layout": {
        "barmode": "relative",
        "legend": {
         "title": {
          "text": "variable"
         },
         "tracegroupgap": 0
        },
        "margin": {
         "t": 60
        },
        "template": {
         "data": {
          "bar": [
           {
            "error_x": {
             "color": "#2a3f5f"
            },
            "error_y": {
             "color": "#2a3f5f"
            },
            "marker": {
             "line": {
              "color": "#E5ECF6",
              "width": 0.5
             },
             "pattern": {
              "fillmode": "overlay",
              "size": 10,
              "solidity": 0.2
             }
            },
            "type": "bar"
           }
          ],
          "barpolar": [
           {
            "marker": {
             "line": {
              "color": "#E5ECF6",
              "width": 0.5
             },
             "pattern": {
              "fillmode": "overlay",
              "size": 10,
              "solidity": 0.2
             }
            },
            "type": "barpolar"
           }
          ],
          "carpet": [
           {
            "aaxis": {
             "endlinecolor": "#2a3f5f",
             "gridcolor": "white",
             "linecolor": "white",
             "minorgridcolor": "white",
             "startlinecolor": "#2a3f5f"
            },
            "baxis": {
             "endlinecolor": "#2a3f5f",
             "gridcolor": "white",
             "linecolor": "white",
             "minorgridcolor": "white",
             "startlinecolor": "#2a3f5f"
            },
            "type": "carpet"
           }
          ],
          "choropleth": [
           {
            "colorbar": {
             "outlinewidth": 0,
             "ticks": ""
            },
            "type": "choropleth"
           }
          ],
          "contour": [
           {
            "colorbar": {
             "outlinewidth": 0,
             "ticks": ""
            },
            "colorscale": [
             [
              0,
              "#0d0887"
             ],
             [
              0.1111111111111111,
              "#46039f"
             ],
             [
              0.2222222222222222,
              "#7201a8"
             ],
             [
              0.3333333333333333,
              "#9c179e"
             ],
             [
              0.4444444444444444,
              "#bd3786"
             ],
             [
              0.5555555555555556,
              "#d8576b"
             ],
             [
              0.6666666666666666,
              "#ed7953"
             ],
             [
              0.7777777777777778,
              "#fb9f3a"
             ],
             [
              0.8888888888888888,
              "#fdca26"
             ],
             [
              1,
              "#f0f921"
             ]
            ],
            "type": "contour"
           }
          ],
          "contourcarpet": [
           {
            "colorbar": {
             "outlinewidth": 0,
             "ticks": ""
            },
            "type": "contourcarpet"
           }
          ],
          "heatmap": [
           {
            "colorbar": {
             "outlinewidth": 0,
             "ticks": ""
            },
            "colorscale": [
             [
              0,
              "#0d0887"
             ],
             [
              0.1111111111111111,
              "#46039f"
             ],
             [
              0.2222222222222222,
              "#7201a8"
             ],
             [
              0.3333333333333333,
              "#9c179e"
             ],
             [
              0.4444444444444444,
              "#bd3786"
             ],
             [
              0.5555555555555556,
              "#d8576b"
             ],
             [
              0.6666666666666666,
              "#ed7953"
             ],
             [
              0.7777777777777778,
              "#fb9f3a"
             ],
             [
              0.8888888888888888,
              "#fdca26"
             ],
             [
              1,
              "#f0f921"
             ]
            ],
            "type": "heatmap"
           }
          ],
          "heatmapgl": [
           {
            "colorbar": {
             "outlinewidth": 0,
             "ticks": ""
            },
            "colorscale": [
             [
              0,
              "#0d0887"
             ],
             [
              0.1111111111111111,
              "#46039f"
             ],
             [
              0.2222222222222222,
              "#7201a8"
             ],
             [
              0.3333333333333333,
              "#9c179e"
             ],
             [
              0.4444444444444444,
              "#bd3786"
             ],
             [
              0.5555555555555556,
              "#d8576b"
             ],
             [
              0.6666666666666666,
              "#ed7953"
             ],
             [
              0.7777777777777778,
              "#fb9f3a"
             ],
             [
              0.8888888888888888,
              "#fdca26"
             ],
             [
              1,
              "#f0f921"
             ]
            ],
            "type": "heatmapgl"
           }
          ],
          "histogram": [
           {
            "marker": {
             "pattern": {
              "fillmode": "overlay",
              "size": 10,
              "solidity": 0.2
             }
            },
            "type": "histogram"
           }
          ],
          "histogram2d": [
           {
            "colorbar": {
             "outlinewidth": 0,
             "ticks": ""
            },
            "colorscale": [
             [
              0,
              "#0d0887"
             ],
             [
              0.1111111111111111,
              "#46039f"
             ],
             [
              0.2222222222222222,
              "#7201a8"
             ],
             [
              0.3333333333333333,
              "#9c179e"
             ],
             [
              0.4444444444444444,
              "#bd3786"
             ],
             [
              0.5555555555555556,
              "#d8576b"
             ],
             [
              0.6666666666666666,
              "#ed7953"
             ],
             [
              0.7777777777777778,
              "#fb9f3a"
             ],
             [
              0.8888888888888888,
              "#fdca26"
             ],
             [
              1,
              "#f0f921"
             ]
            ],
            "type": "histogram2d"
           }
          ],
          "histogram2dcontour": [
           {
            "colorbar": {
             "outlinewidth": 0,
             "ticks": ""
            },
            "colorscale": [
             [
              0,
              "#0d0887"
             ],
             [
              0.1111111111111111,
              "#46039f"
             ],
             [
              0.2222222222222222,
              "#7201a8"
             ],
             [
              0.3333333333333333,
              "#9c179e"
             ],
             [
              0.4444444444444444,
              "#bd3786"
             ],
             [
              0.5555555555555556,
              "#d8576b"
             ],
             [
              0.6666666666666666,
              "#ed7953"
             ],
             [
              0.7777777777777778,
              "#fb9f3a"
             ],
             [
              0.8888888888888888,
              "#fdca26"
             ],
             [
              1,
              "#f0f921"
             ]
            ],
            "type": "histogram2dcontour"
           }
          ],
          "mesh3d": [
           {
            "colorbar": {
             "outlinewidth": 0,
             "ticks": ""
            },
            "type": "mesh3d"
           }
          ],
          "parcoords": [
           {
            "line": {
             "colorbar": {
              "outlinewidth": 0,
              "ticks": ""
             }
            },
            "type": "parcoords"
           }
          ],
          "pie": [
           {
            "automargin": true,
            "type": "pie"
           }
          ],
          "scatter": [
           {
            "fillpattern": {
             "fillmode": "overlay",
             "size": 10,
             "solidity": 0.2
            },
            "type": "scatter"
           }
          ],
          "scatter3d": [
           {
            "line": {
             "colorbar": {
              "outlinewidth": 0,
              "ticks": ""
             }
            },
            "marker": {
             "colorbar": {
              "outlinewidth": 0,
              "ticks": ""
             }
            },
            "type": "scatter3d"
           }
          ],
          "scattercarpet": [
           {
            "marker": {
             "colorbar": {
              "outlinewidth": 0,
              "ticks": ""
             }
            },
            "type": "scattercarpet"
           }
          ],
          "scattergeo": [
           {
            "marker": {
             "colorbar": {
              "outlinewidth": 0,
              "ticks": ""
             }
            },
            "type": "scattergeo"
           }
          ],
          "scattergl": [
           {
            "marker": {
             "colorbar": {
              "outlinewidth": 0,
              "ticks": ""
             }
            },
            "type": "scattergl"
           }
          ],
          "scattermapbox": [
           {
            "marker": {
             "colorbar": {
              "outlinewidth": 0,
              "ticks": ""
             }
            },
            "type": "scattermapbox"
           }
          ],
          "scatterpolar": [
           {
            "marker": {
             "colorbar": {
              "outlinewidth": 0,
              "ticks": ""
             }
            },
            "type": "scatterpolar"
           }
          ],
          "scatterpolargl": [
           {
            "marker": {
             "colorbar": {
              "outlinewidth": 0,
              "ticks": ""
             }
            },
            "type": "scatterpolargl"
           }
          ],
          "scatterternary": [
           {
            "marker": {
             "colorbar": {
              "outlinewidth": 0,
              "ticks": ""
             }
            },
            "type": "scatterternary"
           }
          ],
          "surface": [
           {
            "colorbar": {
             "outlinewidth": 0,
             "ticks": ""
            },
            "colorscale": [
             [
              0,
              "#0d0887"
             ],
             [
              0.1111111111111111,
              "#46039f"
             ],
             [
              0.2222222222222222,
              "#7201a8"
             ],
             [
              0.3333333333333333,
              "#9c179e"
             ],
             [
              0.4444444444444444,
              "#bd3786"
             ],
             [
              0.5555555555555556,
              "#d8576b"
             ],
             [
              0.6666666666666666,
              "#ed7953"
             ],
             [
              0.7777777777777778,
              "#fb9f3a"
             ],
             [
              0.8888888888888888,
              "#fdca26"
             ],
             [
              1,
              "#f0f921"
             ]
            ],
            "type": "surface"
           }
          ],
          "table": [
           {
            "cells": {
             "fill": {
              "color": "#EBF0F8"
             },
             "line": {
              "color": "white"
             }
            },
            "header": {
             "fill": {
              "color": "#C8D4E3"
             },
             "line": {
              "color": "white"
             }
            },
            "type": "table"
           }
          ]
         },
         "layout": {
          "annotationdefaults": {
           "arrowcolor": "#2a3f5f",
           "arrowhead": 0,
           "arrowwidth": 1
          },
          "autotypenumbers": "strict",
          "coloraxis": {
           "colorbar": {
            "outlinewidth": 0,
            "ticks": ""
           }
          },
          "colorscale": {
           "diverging": [
            [
             0,
             "#8e0152"
            ],
            [
             0.1,
             "#c51b7d"
            ],
            [
             0.2,
             "#de77ae"
            ],
            [
             0.3,
             "#f1b6da"
            ],
            [
             0.4,
             "#fde0ef"
            ],
            [
             0.5,
             "#f7f7f7"
            ],
            [
             0.6,
             "#e6f5d0"
            ],
            [
             0.7,
             "#b8e186"
            ],
            [
             0.8,
             "#7fbc41"
            ],
            [
             0.9,
             "#4d9221"
            ],
            [
             1,
             "#276419"
            ]
           ],
           "sequential": [
            [
             0,
             "#0d0887"
            ],
            [
             0.1111111111111111,
             "#46039f"
            ],
            [
             0.2222222222222222,
             "#7201a8"
            ],
            [
             0.3333333333333333,
             "#9c179e"
            ],
            [
             0.4444444444444444,
             "#bd3786"
            ],
            [
             0.5555555555555556,
             "#d8576b"
            ],
            [
             0.6666666666666666,
             "#ed7953"
            ],
            [
             0.7777777777777778,
             "#fb9f3a"
            ],
            [
             0.8888888888888888,
             "#fdca26"
            ],
            [
             1,
             "#f0f921"
            ]
           ],
           "sequentialminus": [
            [
             0,
             "#0d0887"
            ],
            [
             0.1111111111111111,
             "#46039f"
            ],
            [
             0.2222222222222222,
             "#7201a8"
            ],
            [
             0.3333333333333333,
             "#9c179e"
            ],
            [
             0.4444444444444444,
             "#bd3786"
            ],
            [
             0.5555555555555556,
             "#d8576b"
            ],
            [
             0.6666666666666666,
             "#ed7953"
            ],
            [
             0.7777777777777778,
             "#fb9f3a"
            ],
            [
             0.8888888888888888,
             "#fdca26"
            ],
            [
             1,
             "#f0f921"
            ]
           ]
          },
          "colorway": [
           "#636efa",
           "#EF553B",
           "#00cc96",
           "#ab63fa",
           "#FFA15A",
           "#19d3f3",
           "#FF6692",
           "#B6E880",
           "#FF97FF",
           "#FECB52"
          ],
          "font": {
           "color": "#2a3f5f"
          },
          "geo": {
           "bgcolor": "white",
           "lakecolor": "white",
           "landcolor": "#E5ECF6",
           "showlakes": true,
           "showland": true,
           "subunitcolor": "white"
          },
          "hoverlabel": {
           "align": "left"
          },
          "hovermode": "closest",
          "mapbox": {
           "style": "light"
          },
          "paper_bgcolor": "white",
          "plot_bgcolor": "#E5ECF6",
          "polar": {
           "angularaxis": {
            "gridcolor": "white",
            "linecolor": "white",
            "ticks": ""
           },
           "bgcolor": "#E5ECF6",
           "radialaxis": {
            "gridcolor": "white",
            "linecolor": "white",
            "ticks": ""
           }
          },
          "scene": {
           "xaxis": {
            "backgroundcolor": "#E5ECF6",
            "gridcolor": "white",
            "gridwidth": 2,
            "linecolor": "white",
            "showbackground": true,
            "ticks": "",
            "zerolinecolor": "white"
           },
           "yaxis": {
            "backgroundcolor": "#E5ECF6",
            "gridcolor": "white",
            "gridwidth": 2,
            "linecolor": "white",
            "showbackground": true,
            "ticks": "",
            "zerolinecolor": "white"
           },
           "zaxis": {
            "backgroundcolor": "#E5ECF6",
            "gridcolor": "white",
            "gridwidth": 2,
            "linecolor": "white",
            "showbackground": true,
            "ticks": "",
            "zerolinecolor": "white"
           }
          },
          "shapedefaults": {
           "line": {
            "color": "#2a3f5f"
           }
          },
          "ternary": {
           "aaxis": {
            "gridcolor": "white",
            "linecolor": "white",
            "ticks": ""
           },
           "baxis": {
            "gridcolor": "white",
            "linecolor": "white",
            "ticks": ""
           },
           "bgcolor": "#E5ECF6",
           "caxis": {
            "gridcolor": "white",
            "linecolor": "white",
            "ticks": ""
           }
          },
          "title": {
           "x": 0.05
          },
          "xaxis": {
           "automargin": true,
           "gridcolor": "white",
           "linecolor": "white",
           "ticks": "",
           "title": {
            "standoff": 15
           },
           "zerolinecolor": "white",
           "zerolinewidth": 2
          },
          "yaxis": {
           "automargin": true,
           "gridcolor": "white",
           "linecolor": "white",
           "ticks": "",
           "title": {
            "standoff": 15
           },
           "zerolinecolor": "white",
           "zerolinewidth": 2
          }
         }
        },
        "xaxis": {
         "anchor": "y",
         "domain": [
          0,
          1
         ],
         "title": {
          "text": "value"
         }
        },
        "yaxis": {
         "anchor": "x",
         "domain": [
          0,
          1
         ],
         "title": {
          "text": "count"
         }
        }
       }
      }
     },
     "metadata": {},
     "output_type": "display_data"
    }
   ],
   "source": [
    "mediause.internet.hist()\n"
   ]
  },
  {
   "cell_type": "code",
   "execution_count": null,
   "metadata": {},
   "outputs": [],
   "source": []
  },
  {
   "cell_type": "code",
   "execution_count": null,
   "metadata": {},
   "outputs": [],
   "source": []
  },
  {
   "cell_type": "markdown",
   "metadata": {},
   "source": [
    "# Publishing interactivity\n",
    "\n",
    "Publishing and distributing your STATIC visualizations is straightforward (see\n",
    "week 4 of this course). You can simply save them in any format you like (e.g.,\n",
    "`.png` (better than `.jpg` for text and sharp lines), or as a vector graphic\n",
    "(e.g., `.svg`) that allows loss-free scaling. For example, we could use\n",
    "`plt.save_fig()` for that purpose.\n",
    "\n",
    "This file, then, can be freely used in any online or offline publication.\n",
    "\n",
    "But how can we do this online? It's one thing to make a nice interactive\n",
    "visualization in _your_ browser, it's another thing to share them with the\n",
    "world.\n",
    "\n",
    "## SVG graphics\n",
    "\n",
    "One approach are SVG graphics. That's the route we took in the pygal example\n",
    "above. As you see, you can just open the file in any browser, and the\n",
    "interactive elements (hovering over the bars with your mouse shows the values)\n",
    "work.\n",
    "\n",
    "However, there is one problem with this approach: First, the possibilities types\n",
    "of interactivity possible are a bit limited. Second, and more importantly: SVG\n",
    "graphics are sometimes seen as a security risk (because one could construct a\n",
    "malicious svg file that executes unwanted code); and therefore, many platforms\n",
    "restrict their use (for instance, Wordpress - although you can (partly)\n",
    "circumvent this, for instance by installing a svg plugin).\n",
    "\n",
    "If you build your own website from scratch, that's less of a problem, of course.\n",
    "\n",
    "Here, you can find an example of how to embed svg graphics in a web page:\n",
    "http://www.pygal.org/en/stable/documentation/web.html\n",
    "\n",
    "## JavaScript (client-side)\n",
    "\n",
    "The bokeh example above takes a different approach: It generates an HTML file\n",
    "and java script code that then is used to render the interactive graphic in the\n",
    "users' browser. That means that if we distribute the HTML file (and, for\n",
    "instance, upload it to our own website; I did it\n",
    "[here](http://www.damiantrilling.net/downloads/test.html)), anyone can use it in\n",
    "their browser.\n",
    "\n",
    "It requires a bit more fiddling, though, to display such a thing inline (for\n",
    "instance, like embedding a picture within a wordpress blog). With a bit of HTML\n",
    "knowledge, though, you can get there. You can find a lot of (free) HTML\n",
    "tutorials online.\n",
    "\n",
    "## Server-side approaches\n",
    "\n",
    "Both approaches outlined above are _self-contained_: They include all data, all\n",
    "calculations are already made, etc. Especially if you have very large data, or\n",
    "when you want to actually run some python code based on the user input, you will\n",
    "need to run your own (bokeh-) server. That's a cool thing to do (and a nice\n",
    "project to pursue, if you want to experiment a bit), but out of scope for this\n",
    "class.\n"
   ]
  },
  {
   "cell_type": "markdown",
   "metadata": {},
   "source": [
    "# Exercise\n",
    "\n",
    "The example below is from the official bokeh tutorial\n",
    "(https://mybinder.org/v2/gh/bokeh/bokeh-notebooks/master?filepath=tutorial%2F00%20-%20Introduction%20and%20Setup.ipynb\n",
    "). It plots a complex chart with intearctive hover.\n",
    "\n",
    "**Try to understand the code (in broad lines) and modify it to explore what\n",
    "happens. Construct a different visualization, or use other (own?) data.**\n"
   ]
  },
  {
   "cell_type": "code",
   "execution_count": 23,
   "metadata": {},
   "outputs": [],
   "source": [
    "# import modules and prepare example dataset\n",
    "\n",
    "from bokeh.models import ColumnDataSource, HoverTool\n",
    "from bokeh.plotting import figure\n",
    "from bokeh.sampledata.autompg import autompg_clean as df\n",
    "from bokeh.transform import factor_cmap\n",
    "\n",
    "df.cyl = df.cyl.astype(str)\n",
    "df.yr = df.yr.astype(str)"
   ]
  },
  {
   "cell_type": "code",
   "execution_count": 24,
   "metadata": {},
   "outputs": [
    {
     "data": {
      "text/html": [
       "<div>\n",
       "<style scoped>\n",
       "    .dataframe tbody tr th:only-of-type {\n",
       "        vertical-align: middle;\n",
       "    }\n",
       "\n",
       "    .dataframe tbody tr th {\n",
       "        vertical-align: top;\n",
       "    }\n",
       "\n",
       "    .dataframe thead th {\n",
       "        text-align: right;\n",
       "    }\n",
       "</style>\n",
       "<table border=\"1\" class=\"dataframe\">\n",
       "  <thead>\n",
       "    <tr style=\"text-align: right;\">\n",
       "      <th></th>\n",
       "      <th>mpg</th>\n",
       "      <th>cyl</th>\n",
       "      <th>displ</th>\n",
       "      <th>hp</th>\n",
       "      <th>weight</th>\n",
       "      <th>accel</th>\n",
       "      <th>yr</th>\n",
       "      <th>origin</th>\n",
       "      <th>name</th>\n",
       "      <th>mfr</th>\n",
       "    </tr>\n",
       "  </thead>\n",
       "  <tbody>\n",
       "    <tr>\n",
       "      <th>0</th>\n",
       "      <td>18.0</td>\n",
       "      <td>8</td>\n",
       "      <td>307.0</td>\n",
       "      <td>130</td>\n",
       "      <td>3504</td>\n",
       "      <td>12.0</td>\n",
       "      <td>70</td>\n",
       "      <td>North America</td>\n",
       "      <td>chevrolet chevelle malibu</td>\n",
       "      <td>chevrolet</td>\n",
       "    </tr>\n",
       "    <tr>\n",
       "      <th>1</th>\n",
       "      <td>15.0</td>\n",
       "      <td>8</td>\n",
       "      <td>350.0</td>\n",
       "      <td>165</td>\n",
       "      <td>3693</td>\n",
       "      <td>11.5</td>\n",
       "      <td>70</td>\n",
       "      <td>North America</td>\n",
       "      <td>buick skylark 320</td>\n",
       "      <td>buick</td>\n",
       "    </tr>\n",
       "    <tr>\n",
       "      <th>2</th>\n",
       "      <td>18.0</td>\n",
       "      <td>8</td>\n",
       "      <td>318.0</td>\n",
       "      <td>150</td>\n",
       "      <td>3436</td>\n",
       "      <td>11.0</td>\n",
       "      <td>70</td>\n",
       "      <td>North America</td>\n",
       "      <td>plymouth satellite</td>\n",
       "      <td>plymouth</td>\n",
       "    </tr>\n",
       "    <tr>\n",
       "      <th>3</th>\n",
       "      <td>16.0</td>\n",
       "      <td>8</td>\n",
       "      <td>304.0</td>\n",
       "      <td>150</td>\n",
       "      <td>3433</td>\n",
       "      <td>12.0</td>\n",
       "      <td>70</td>\n",
       "      <td>North America</td>\n",
       "      <td>amc rebel sst</td>\n",
       "      <td>amc</td>\n",
       "    </tr>\n",
       "    <tr>\n",
       "      <th>4</th>\n",
       "      <td>17.0</td>\n",
       "      <td>8</td>\n",
       "      <td>302.0</td>\n",
       "      <td>140</td>\n",
       "      <td>3449</td>\n",
       "      <td>10.5</td>\n",
       "      <td>70</td>\n",
       "      <td>North America</td>\n",
       "      <td>ford torino</td>\n",
       "      <td>ford</td>\n",
       "    </tr>\n",
       "    <tr>\n",
       "      <th>...</th>\n",
       "      <td>...</td>\n",
       "      <td>...</td>\n",
       "      <td>...</td>\n",
       "      <td>...</td>\n",
       "      <td>...</td>\n",
       "      <td>...</td>\n",
       "      <td>...</td>\n",
       "      <td>...</td>\n",
       "      <td>...</td>\n",
       "      <td>...</td>\n",
       "    </tr>\n",
       "    <tr>\n",
       "      <th>387</th>\n",
       "      <td>27.0</td>\n",
       "      <td>4</td>\n",
       "      <td>140.0</td>\n",
       "      <td>86</td>\n",
       "      <td>2790</td>\n",
       "      <td>15.6</td>\n",
       "      <td>82</td>\n",
       "      <td>North America</td>\n",
       "      <td>ford mustang gl</td>\n",
       "      <td>ford</td>\n",
       "    </tr>\n",
       "    <tr>\n",
       "      <th>388</th>\n",
       "      <td>44.0</td>\n",
       "      <td>4</td>\n",
       "      <td>97.0</td>\n",
       "      <td>52</td>\n",
       "      <td>2130</td>\n",
       "      <td>24.6</td>\n",
       "      <td>82</td>\n",
       "      <td>Europe</td>\n",
       "      <td>vw pickup</td>\n",
       "      <td>volkswagen</td>\n",
       "    </tr>\n",
       "    <tr>\n",
       "      <th>389</th>\n",
       "      <td>32.0</td>\n",
       "      <td>4</td>\n",
       "      <td>135.0</td>\n",
       "      <td>84</td>\n",
       "      <td>2295</td>\n",
       "      <td>11.6</td>\n",
       "      <td>82</td>\n",
       "      <td>North America</td>\n",
       "      <td>dodge rampage</td>\n",
       "      <td>dodge</td>\n",
       "    </tr>\n",
       "    <tr>\n",
       "      <th>390</th>\n",
       "      <td>28.0</td>\n",
       "      <td>4</td>\n",
       "      <td>120.0</td>\n",
       "      <td>79</td>\n",
       "      <td>2625</td>\n",
       "      <td>18.6</td>\n",
       "      <td>82</td>\n",
       "      <td>North America</td>\n",
       "      <td>ford ranger</td>\n",
       "      <td>ford</td>\n",
       "    </tr>\n",
       "    <tr>\n",
       "      <th>391</th>\n",
       "      <td>31.0</td>\n",
       "      <td>4</td>\n",
       "      <td>119.0</td>\n",
       "      <td>82</td>\n",
       "      <td>2720</td>\n",
       "      <td>19.4</td>\n",
       "      <td>82</td>\n",
       "      <td>North America</td>\n",
       "      <td>chevy s-10</td>\n",
       "      <td>chevrolet</td>\n",
       "    </tr>\n",
       "  </tbody>\n",
       "</table>\n",
       "<p>392 rows × 10 columns</p>\n",
       "</div>"
      ],
      "text/plain": [
       "      mpg cyl  displ   hp  weight  accel  yr         origin  \\\n",
       "0    18.0   8  307.0  130    3504   12.0  70  North America   \n",
       "1    15.0   8  350.0  165    3693   11.5  70  North America   \n",
       "2    18.0   8  318.0  150    3436   11.0  70  North America   \n",
       "3    16.0   8  304.0  150    3433   12.0  70  North America   \n",
       "4    17.0   8  302.0  140    3449   10.5  70  North America   \n",
       "..    ...  ..    ...  ...     ...    ...  ..            ...   \n",
       "387  27.0   4  140.0   86    2790   15.6  82  North America   \n",
       "388  44.0   4   97.0   52    2130   24.6  82         Europe   \n",
       "389  32.0   4  135.0   84    2295   11.6  82  North America   \n",
       "390  28.0   4  120.0   79    2625   18.6  82  North America   \n",
       "391  31.0   4  119.0   82    2720   19.4  82  North America   \n",
       "\n",
       "                          name         mfr  \n",
       "0    chevrolet chevelle malibu   chevrolet  \n",
       "1            buick skylark 320       buick  \n",
       "2           plymouth satellite    plymouth  \n",
       "3                amc rebel sst         amc  \n",
       "4                  ford torino        ford  \n",
       "..                         ...         ...  \n",
       "387            ford mustang gl        ford  \n",
       "388                  vw pickup  volkswagen  \n",
       "389              dodge rampage       dodge  \n",
       "390                ford ranger        ford  \n",
       "391                 chevy s-10   chevrolet  \n",
       "\n",
       "[392 rows x 10 columns]"
      ]
     },
     "execution_count": 24,
     "metadata": {},
     "output_type": "execute_result"
    }
   ],
   "source": [
    "df"
   ]
  },
  {
   "cell_type": "code",
   "execution_count": 26,
   "metadata": {},
   "outputs": [],
   "source": [
    "group = df.groupby(by=['cyl', 'mfr'])\n",
    "source = ColumnDataSource(group)\n",
    "\n",
    "p = figure(width=800, height=300, title=\"Mean MPG by # Cylinders and Manufacturer\",\n",
    "           x_range=group, toolbar_location=None, tools=\"\")\n",
    "\n",
    "p.xgrid.grid_line_color = None\n",
    "p.xaxis.axis_label = \"Manufacturer grouped by # Cylinders\"\n",
    "p.xaxis.major_label_orientation = 1.2\n",
    "\n",
    "index_cmap = factor_cmap('cyl_mfr', palette=['#2b83ba', '#abdda4', '#ffffbf', '#fdae61', '#d7191c'], \n",
    "                         factors=sorted(df.cyl.unique()), end=1)\n",
    "\n",
    "p.vbar(x='cyl_mfr', top='mpg_mean', width=1, source=source,\n",
    "       line_color=\"white\", fill_color=index_cmap, \n",
    "       hover_line_color=\"darkgrey\", hover_fill_color=index_cmap)\n",
    "\n",
    "p.add_tools(HoverTool(tooltips=[(\"MPG\", \"@mpg_mean\"), (\"Cyl, Mfr\", \"@cyl_mfr\")]))\n",
    "\n",
    "show(p)"
   ]
  },
  {
   "cell_type": "markdown",
   "metadata": {},
   "source": [
    "To give you a little help, I made one with our mediause dataset:\n"
   ]
  },
  {
   "cell_type": "code",
   "execution_count": 27,
   "metadata": {},
   "outputs": [],
   "source": [
    "group = mediause.groupby('education')\n",
    "source = ColumnDataSource(group)\n",
    "\n",
    "p = figure()\n",
    "p.vbar(x='education', top='internet_mean', width=1, source=source,\n",
    "       line_color=\"white\")\n",
    "\n",
    "p.add_tools(HoverTool(tooltips=[(\"internet use\", \"@internet_mean\"), (\"education\", \"@education\")]))\n",
    "\n",
    "show(p)"
   ]
  },
  {
   "cell_type": "code",
   "execution_count": 28,
   "metadata": {},
   "outputs": [
    {
     "data": {
      "text/html": [
       "<div>\n",
       "<style scoped>\n",
       "    .dataframe tbody tr th:only-of-type {\n",
       "        vertical-align: middle;\n",
       "    }\n",
       "\n",
       "    .dataframe tbody tr th {\n",
       "        vertical-align: top;\n",
       "    }\n",
       "\n",
       "    .dataframe thead th {\n",
       "        text-align: right;\n",
       "    }\n",
       "</style>\n",
       "<table border=\"1\" class=\"dataframe\">\n",
       "  <thead>\n",
       "    <tr style=\"text-align: right;\">\n",
       "      <th></th>\n",
       "      <th>count</th>\n",
       "      <th>mean</th>\n",
       "      <th>std</th>\n",
       "      <th>min</th>\n",
       "      <th>25%</th>\n",
       "      <th>50%</th>\n",
       "      <th>75%</th>\n",
       "      <th>max</th>\n",
       "    </tr>\n",
       "    <tr>\n",
       "      <th>education</th>\n",
       "      <th></th>\n",
       "      <th></th>\n",
       "      <th></th>\n",
       "      <th></th>\n",
       "      <th></th>\n",
       "      <th></th>\n",
       "      <th></th>\n",
       "      <th></th>\n",
       "    </tr>\n",
       "  </thead>\n",
       "  <tbody>\n",
       "    <tr>\n",
       "      <th>1.0</th>\n",
       "      <td>68.0</td>\n",
       "      <td>1.397059</td>\n",
       "      <td>2.266826</td>\n",
       "      <td>0.0</td>\n",
       "      <td>0.0</td>\n",
       "      <td>0.0</td>\n",
       "      <td>2.0</td>\n",
       "      <td>7.0</td>\n",
       "    </tr>\n",
       "    <tr>\n",
       "      <th>2.0</th>\n",
       "      <td>323.0</td>\n",
       "      <td>1.829721</td>\n",
       "      <td>2.498220</td>\n",
       "      <td>0.0</td>\n",
       "      <td>0.0</td>\n",
       "      <td>0.0</td>\n",
       "      <td>3.0</td>\n",
       "      <td>7.0</td>\n",
       "    </tr>\n",
       "    <tr>\n",
       "      <th>3.0</th>\n",
       "      <td>214.0</td>\n",
       "      <td>2.093458</td>\n",
       "      <td>2.589371</td>\n",
       "      <td>0.0</td>\n",
       "      <td>0.0</td>\n",
       "      <td>1.0</td>\n",
       "      <td>4.0</td>\n",
       "      <td>7.0</td>\n",
       "    </tr>\n",
       "    <tr>\n",
       "      <th>4.0</th>\n",
       "      <td>667.0</td>\n",
       "      <td>2.499250</td>\n",
       "      <td>2.752217</td>\n",
       "      <td>0.0</td>\n",
       "      <td>0.0</td>\n",
       "      <td>1.0</td>\n",
       "      <td>5.0</td>\n",
       "      <td>7.0</td>\n",
       "    </tr>\n",
       "    <tr>\n",
       "      <th>5.0</th>\n",
       "      <td>178.0</td>\n",
       "      <td>2.589888</td>\n",
       "      <td>2.650085</td>\n",
       "      <td>0.0</td>\n",
       "      <td>0.0</td>\n",
       "      <td>2.0</td>\n",
       "      <td>5.0</td>\n",
       "      <td>7.0</td>\n",
       "    </tr>\n",
       "    <tr>\n",
       "      <th>6.0</th>\n",
       "      <td>396.0</td>\n",
       "      <td>3.520202</td>\n",
       "      <td>2.841304</td>\n",
       "      <td>0.0</td>\n",
       "      <td>1.0</td>\n",
       "      <td>4.0</td>\n",
       "      <td>7.0</td>\n",
       "      <td>7.0</td>\n",
       "    </tr>\n",
       "    <tr>\n",
       "      <th>7.0</th>\n",
       "      <td>219.0</td>\n",
       "      <td>4.059361</td>\n",
       "      <td>2.705947</td>\n",
       "      <td>0.0</td>\n",
       "      <td>1.5</td>\n",
       "      <td>5.0</td>\n",
       "      <td>7.0</td>\n",
       "      <td>7.0</td>\n",
       "    </tr>\n",
       "  </tbody>\n",
       "</table>\n",
       "</div>"
      ],
      "text/plain": [
       "           count      mean       std  min  25%  50%  75%  max\n",
       "education                                                    \n",
       "1.0         68.0  1.397059  2.266826  0.0  0.0  0.0  2.0  7.0\n",
       "2.0        323.0  1.829721  2.498220  0.0  0.0  0.0  3.0  7.0\n",
       "3.0        214.0  2.093458  2.589371  0.0  0.0  1.0  4.0  7.0\n",
       "4.0        667.0  2.499250  2.752217  0.0  0.0  1.0  5.0  7.0\n",
       "5.0        178.0  2.589888  2.650085  0.0  0.0  2.0  5.0  7.0\n",
       "6.0        396.0  3.520202  2.841304  0.0  1.0  4.0  7.0  7.0\n",
       "7.0        219.0  4.059361  2.705947  0.0  1.5  5.0  7.0  7.0"
      ]
     },
     "execution_count": 28,
     "metadata": {},
     "output_type": "execute_result"
    }
   ],
   "source": [
    "group['internet'].describe()"
   ]
  },
  {
   "cell_type": "code",
   "execution_count": 32,
   "metadata": {},
   "outputs": [],
   "source": [
    "mediause_nice = mediause.copy()\n",
    "mediause_nice['education'] = mediause_nice['education'].replace({1: '1 basis', 2:'2 vmbo', 3: '3 vmbo-t', 4: '4 mbo', 5: '5 hbo', 6:'6 wo-bachelor',\n",
    "                               7:'7 wo-master'})\n",
    "\n",
    "group = mediause_nice.groupby('education')\n",
    "source = ColumnDataSource(group)\n",
    "\n",
    "p = figure(x_range=group)\n",
    "p.vbar(x='education', top='internet_mean', width=1, source=source,\n",
    "       line_color=\"white\")\n",
    "\n",
    "p.add_tools(HoverTool(tooltips=[(\"internet use\", \"@internet_mean\"), (\"education\", \"@education\")]))\n",
    "\n",
    "show(p)"
   ]
  },
  {
   "cell_type": "code",
   "execution_count": null,
   "metadata": {},
   "outputs": [],
   "source": []
  }
 ],
 "metadata": {
  "kernelspec": {
   "display_name": "Python 3",
   "language": "python",
   "name": "python3"
  },
  "language_info": {
   "codemirror_mode": {
    "name": "ipython",
    "version": 3
   },
   "file_extension": ".py",
   "mimetype": "text/x-python",
   "name": "python",
   "nbconvert_exporter": "python",
   "pygments_lexer": "ipython3",
   "version": "3.12.1"
  }
 },
 "nbformat": 4,
 "nbformat_minor": 4
}
